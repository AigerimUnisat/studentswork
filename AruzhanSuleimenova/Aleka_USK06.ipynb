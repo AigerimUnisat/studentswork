{
 "cells": [
  {
   "cell_type": "code",
   "execution_count": 1,
   "metadata": {},
   "outputs": [
    {
     "name": "stdout",
     "output_type": "stream",
     "text": [
      "/home/jupyter-aruzhan149/aleka\n"
     ]
    }
   ],
   "source": [
    "pwd"
   ]
  },
  {
   "cell_type": "code",
   "execution_count": 2,
   "metadata": {},
   "outputs": [
    {
     "name": "stdout",
     "output_type": "stream",
     "text": [
      " alekaresume.txt              a.txt               Untitled2.ipynb\n",
      " Aleka_USK_01_file.ipynb      b.txt               Untitled3.ipynb\n",
      " Aleka_USK_02.ipynb           er.txt              Untitled4.ipynb\n",
      " Aleka_USK04.ipynb           'Home work1.ipynb'   Untitled5.ipynb\n",
      " Aleka_USK_3.ipynb            luleiko.txt         Untitled6.ipynb\n",
      "'Aleka _USK_5.ipynb'          pirozhochek         Untitled.ipynb\n",
      "'Aruzhan Suleimenova.ipynb'   Untitled1.ipynb     USK02.dio\n"
     ]
    }
   ],
   "source": [
    "ls"
   ]
  },
  {
   "cell_type": "code",
   "execution_count": 4,
   "metadata": {},
   "outputs": [],
   "source": [
    "cat luleiko.txt"
   ]
  },
  {
   "cell_type": "code",
   "execution_count": 5,
   "metadata": {},
   "outputs": [],
   "source": [
    "ls >luleiko.txt"
   ]
  },
  {
   "cell_type": "code",
   "execution_count": 6,
   "metadata": {},
   "outputs": [
    {
     "name": "stdout",
     "output_type": "stream",
     "text": [
      "alekaresume.txt\n",
      "Aleka_USK_01_file.ipynb\n",
      "Aleka_USK_02.ipynb\n",
      "Aleka_USK04.ipynb\n",
      "Aleka_USK_3.ipynb\n",
      "Aleka _USK_5.ipynb\n",
      "Aruzhan Suleimenova.ipynb\n",
      "a.txt\n",
      "b.txt\n",
      "er.txt\n",
      "Home work1.ipynb\n",
      "luleiko.txt\n",
      "pirozhochek\n",
      "Untitled1.ipynb\n",
      "Untitled2.ipynb\n",
      "Untitled3.ipynb\n",
      "Untitled4.ipynb\n",
      "Untitled5.ipynb\n",
      "Untitled6.ipynb\n",
      "Untitled.ipynb\n",
      "USK02.dio\n"
     ]
    }
   ],
   "source": [
    "cat luleiko.txt"
   ]
  },
  {
   "cell_type": "code",
   "execution_count": 7,
   "metadata": {},
   "outputs": [
    {
     "name": "stdout",
     "output_type": "stream",
     "text": [
      "Hello unisat\n"
     ]
    }
   ],
   "source": [
    "echo 'Hello unisat'"
   ]
  },
  {
   "cell_type": "code",
   "execution_count": 8,
   "metadata": {},
   "outputs": [],
   "source": [
    "echo 'Hello unisat' >luleiko.txt"
   ]
  },
  {
   "cell_type": "code",
   "execution_count": 9,
   "metadata": {},
   "outputs": [
    {
     "name": "stdout",
     "output_type": "stream",
     "text": [
      "Hello unisat\n"
     ]
    }
   ],
   "source": [
    "cat luleiko.txt"
   ]
  },
  {
   "cell_type": "code",
   "execution_count": 10,
   "metadata": {},
   "outputs": [],
   "source": [
    "ls >>luleiko.txt"
   ]
  },
  {
   "cell_type": "code",
   "execution_count": 11,
   "metadata": {},
   "outputs": [
    {
     "name": "stdout",
     "output_type": "stream",
     "text": [
      "Hello unisat\n",
      "alekaresume.txt\n",
      "Aleka_USK_01_file.ipynb\n",
      "Aleka_USK_02.ipynb\n",
      "Aleka_USK04.ipynb\n",
      "Aleka_USK_3.ipynb\n",
      "Aleka _USK_5.ipynb\n",
      "Aruzhan Suleimenova.ipynb\n",
      "a.txt\n",
      "b.txt\n",
      "er.txt\n",
      "Home work1.ipynb\n",
      "luleiko.txt\n",
      "pirozhochek\n",
      "Untitled1.ipynb\n",
      "Untitled2.ipynb\n",
      "Untitled3.ipynb\n",
      "Untitled4.ipynb\n",
      "Untitled5.ipynb\n",
      "Untitled6.ipynb\n",
      "Untitled.ipynb\n",
      "USK02.dio\n"
     ]
    }
   ],
   "source": [
    "cat luleiko.txt"
   ]
  },
  {
   "cell_type": "code",
   "execution_count": 12,
   "metadata": {},
   "outputs": [
    {
     "name": "stdout",
     "output_type": "stream",
     "text": [
      "boni  joni  luleiko.txt  moni\n"
     ]
    }
   ],
   "source": [
    "ls ./pirozhochek"
   ]
  },
  {
   "cell_type": "code",
   "execution_count": 14,
   "metadata": {},
   "outputs": [
    {
     "name": "stdout",
     "output_type": "stream",
     "text": [
      "/home/jupyter-aruzhan149/aleka\n"
     ]
    }
   ],
   "source": [
    "pwd"
   ]
  },
  {
   "cell_type": "code",
   "execution_count": 15,
   "metadata": {},
   "outputs": [
    {
     "name": "stdout",
     "output_type": "stream",
     "text": [
      " alekaresume.txt              a.txt               Untitled2.ipynb\n",
      " Aleka_USK_01_file.ipynb      b.txt               Untitled3.ipynb\n",
      " Aleka_USK_02.ipynb           er.txt              Untitled4.ipynb\n",
      " Aleka_USK04.ipynb           'Home work1.ipynb'   Untitled5.ipynb\n",
      " Aleka_USK_3.ipynb            luleiko.txt         Untitled6.ipynb\n",
      "'Aleka _USK_5.ipynb'          pirozhochek         Untitled.ipynb\n",
      "'Aruzhan Suleimenova.ipynb'   Untitled1.ipynb     USK02.dio\n"
     ]
    }
   ],
   "source": [
    "ls"
   ]
  },
  {
   "cell_type": "code",
   "execution_count": 17,
   "metadata": {},
   "outputs": [
    {
     "name": "stdout",
     "output_type": "stream",
     "text": [
      "Walmart \t                Retail  \t$514,405\tUnited States \n",
      "Sinopec \t                Oil and gas\t$414,649\tChina \n",
      "Royal Dutch Shell\t        Oil and gas\t$396,556\tNetherlands/United Kingdom\n",
      "China National Petroleum\tOil and gas\t$392,976        China\t\n",
      "State Grid\t                Electricity\t$387,056        China\n",
      "Saudi Aramco\t                Oil and gas\t$355,905        Saudi Arabia\n",
      "BP\t                        Oil and gas\t$303,738        United Kingdom\t\n",
      "ExxonMobil\t                Oil and gas\t$290,212        United States\t\n",
      "Volkswagen\t                Automotive\t$278,341\tGermany\t\n",
      "Toyota\t                        Automotive\t$272,612\tJapan\t\n",
      "Apple\t                        Electronics\t$265,595        United States\t\n",
      "Berkshire Hathaway\t        Financials\t$247,837\tUnited States\n",
      "Amazon\t                        Retail\t        $232,887\tUnited States\t\n",
      "UnitedHealth\t                Healthcare\t$226,247        United States\t\n",
      "Samsung Electronics\t        Electronics\t$221,579\tSouth Korea\n",
      "Glencore\t                Commodities\t$219,754\tSwitzerland\t\n",
      "McKesson\t                Healthcare\t$214,319        United States\t\n",
      "Daimler\t                        Automotive\t$197,515        Germany\t\n",
      "CVS Health\t                Healthcare\t$194,579\tUnited States\t\n",
      "Total\t                        Oil and gas\t$184,106\tFrance\t\n"
     ]
    }
   ],
   "source": [
    "cat alekaresume.txt"
   ]
  },
  {
   "cell_type": "code",
   "execution_count": 18,
   "metadata": {},
   "outputs": [
    {
     "name": "stdout",
     "output_type": "stream",
     "text": [
      "20 alekaresume.txt\n"
     ]
    }
   ],
   "source": [
    "wc -l alekaresume.txt"
   ]
  },
  {
   "cell_type": "code",
   "execution_count": 19,
   "metadata": {},
   "outputs": [
    {
     "name": "stdout",
     "output_type": "stream",
     "text": [
      "20\n"
     ]
    }
   ],
   "source": [
    "wc -l <alekaresume.txt "
   ]
  },
  {
   "cell_type": "code",
   "execution_count": 20,
   "metadata": {},
   "outputs": [
    {
     "name": "stdout",
     "output_type": "stream",
     "text": [
      "Walmart \t                Retail  \t$514,405\tUnited States \n",
      "Royal Dutch Shell\t        Oil and gas\t$396,556\tNetherlands/United Kingdom\n",
      "BP\t                        Oil and gas\t$303,738        United Kingdom\t\n",
      "ExxonMobil\t                Oil and gas\t$290,212        United States\t\n",
      "Apple\t                        Electronics\t$265,595        United States\t\n",
      "Berkshire Hathaway\t        Financials\t$247,837\tUnited States\n",
      "Amazon\t                        Retail\t        $232,887\tUnited States\t\n",
      "UnitedHealth\t                Healthcare\t$226,247        United States\t\n",
      "McKesson\t                Healthcare\t$214,319        United States\t\n",
      "CVS Health\t                Healthcare\t$194,579\tUnited States\t\n"
     ]
    }
   ],
   "source": [
    "egrep 'Uni*' alekaresume.txt"
   ]
  },
  {
   "cell_type": "code",
   "execution_count": 21,
   "metadata": {},
   "outputs": [
    {
     "name": "stdout",
     "output_type": "stream",
     "text": [
      " alekaresume.txt              a.txt               Untitled2.ipynb\n",
      " Aleka_USK_01_file.ipynb      b.txt               Untitled3.ipynb\n",
      " Aleka_USK_02.ipynb           er.txt              Untitled4.ipynb\n",
      " Aleka_USK04.ipynb           'Home work1.ipynb'   Untitled5.ipynb\n",
      " Aleka_USK_3.ipynb            luleiko.txt         Untitled6.ipynb\n",
      "'Aleka _USK_5.ipynb'          pirozhochek         Untitled.ipynb\n",
      "'Aruzhan Suleimenova.ipynb'   Untitled1.ipynb     USK02.dio\n"
     ]
    }
   ],
   "source": [
    "ls"
   ]
  },
  {
   "cell_type": "code",
   "execution_count": 22,
   "metadata": {},
   "outputs": [
    {
     "ename": "",
     "evalue": "1",
     "output_type": "error",
     "traceback": []
    }
   ],
   "source": [
    "cd aerjkgvabk 2>> alekaresume.txt"
   ]
  },
  {
   "cell_type": "code",
   "execution_count": 23,
   "metadata": {},
   "outputs": [
    {
     "name": "stdout",
     "output_type": "stream",
     "text": [
      "bash: cd: aerjkgvabk: No such file or directory\n",
      "Total\t                        Oil and gas\t$184,106\tFrance\t\n",
      "CVS Health\t                Healthcare\t$194,579\tUnited States\t\n",
      "Daimler\t                        Automotive\t$197,515        Germany\t\n",
      "McKesson\t                Healthcare\t$214,319        United States\t\n",
      "Glencore\t                Commodities\t$219,754\tSwitzerland\t\n",
      "Samsung Electronics\t        Electronics\t$221,579\tSouth Korea\n",
      "UnitedHealth\t                Healthcare\t$226,247        United States\t\n",
      "Amazon\t                        Retail\t        $232,887\tUnited States\t\n",
      "Berkshire Hathaway\t        Financials\t$247,837\tUnited States\n",
      "Apple\t                        Electronics\t$265,595        United States\t\n",
      "Toyota\t                        Automotive\t$272,612\tJapan\t\n",
      "Volkswagen\t                Automotive\t$278,341\tGermany\t\n",
      "ExxonMobil\t                Oil and gas\t$290,212        United States\t\n",
      "BP\t                        Oil and gas\t$303,738        United Kingdom\t\n",
      "Saudi Aramco\t                Oil and gas\t$355,905        Saudi Arabia\n",
      "State Grid\t                Electricity\t$387,056        China\n",
      "China National Petroleum\tOil and gas\t$392,976        China\t\n",
      "Royal Dutch Shell\t        Oil and gas\t$396,556\tNetherlands/United Kingdom\n",
      "Sinopec \t                Oil and gas\t$414,649\tChina \n",
      "Walmart \t                Retail  \t$514,405\tUnited States \n"
     ]
    }
   ],
   "source": [
    "tac alekaresume.txt"
   ]
  },
  {
   "cell_type": "code",
   "execution_count": 24,
   "metadata": {},
   "outputs": [
    {
     "name": "stdout",
     "output_type": "stream",
     "text": [
      "/home/jupyter-aruzhan149/aleka\n"
     ]
    }
   ],
   "source": [
    "pwd"
   ]
  },
  {
   "cell_type": "code",
   "execution_count": 25,
   "metadata": {},
   "outputs": [],
   "source": [
    "cd ./../.."
   ]
  },
  {
   "cell_type": "code",
   "execution_count": 26,
   "metadata": {},
   "outputs": [
    {
     "name": "stdout",
     "output_type": "stream",
     "text": [
      "/home\n"
     ]
    }
   ],
   "source": [
    "pwd"
   ]
  },
  {
   "cell_type": "code",
   "execution_count": 27,
   "metadata": {},
   "outputs": [],
   "source": [
    "cd .."
   ]
  },
  {
   "cell_type": "code",
   "execution_count": 28,
   "metadata": {},
   "outputs": [
    {
     "name": "stdout",
     "output_type": "stream",
     "text": [
      "bin    etc             lib         mkdir  root  srv       usr\n",
      "boot   home            lib64       mnt    run   swap.img  var\n",
      "cdrom  initrd.img      lost+found  opt    sbin  sys       vmlinuz\n",
      "dev    initrd.img.old  media       proc   snap  tmp       vmlinuz.old\n"
     ]
    }
   ],
   "source": [
    "ls"
   ]
  },
  {
   "cell_type": "code",
   "execution_count": 29,
   "metadata": {},
   "outputs": [],
   "source": [
    "cd etc"
   ]
  },
  {
   "cell_type": "code",
   "execution_count": 30,
   "metadata": {},
   "outputs": [
    {
     "name": "stdout",
     "output_type": "stream",
     "text": [
      "acpi                    initramfs-tools          profile.d\n",
      "adduser.conf            inputrc                  protocols\n",
      "alternatives            iproute2                 python\n",
      "apache2                 iscsi                    python2.7\n",
      "apm                     issue                    python3\n",
      "apparmor                issue.net                python3.6\n",
      "apparmor.d              java-11-openjdk          python3.8\n",
      "apport                  kernel                   rc0.d\n",
      "apt                     kernel-img.conf          rc1.d\n",
      "at.deny                 landscape                rc2.d\n",
      "bash.bashrc             ldap                     rc3.d\n",
      "bash_completion         ld.so.cache              rc4.d\n",
      "bash_completion.d       ld.so.conf               rc5.d\n",
      "bindresvport.blacklist  ld.so.conf.d             rc6.d\n",
      "binfmt.d                legal                    rc.local\n",
      "byobu                   libaudit.conf            rcS.d\n",
      "ca-certificates         libnl-3                  resolv.conf\n",
      "ca-certificates.conf    libpaper.d               rmt\n",
      "calendar                lighttpd                 rpc\n",
      "cloud                   locale.alias             rsyslog.conf\n",
      "console-setup           locale.gen               rsyslog.d\n",
      "cron.d                  localtime                screenrc\n",
      "cron.daily              logcheck                 securetty\n",
      "cron.hourly             login.defs               security\n",
      "cron.monthly            logrotate.conf           selinux\n",
      "crontab                 logrotate.d              sensors3.conf\n",
      "cron.weekly             lsb-release              sensors.d\n",
      "cryptsetup-initramfs    ltrace.conf              services\n",
      "crypttab                lvm                      shadow\n",
      "dbus-1                  machine-id               shadow-\n",
      "debconf.conf            magic                    shells\n",
      "debian_version          magic.mime               skel\n",
      "default                 mailcap                  sos.conf\n",
      "deluser.conf            mailcap.order            ssh\n",
      "depmod.d                manpath.config           ssl\n",
      "dhcp                    mdadm                    subgid\n",
      "dnsmasq.d               mime.types               subgid-\n",
      "dnsmasq.d-available     mke2fs.conf              subuid\n",
      "dpkg                    modprobe.d               subuid-\n",
      "environment             modules                  sudoers\n",
      "ethertypes              modules-load.d           sudoers.d\n",
      "firefox                 mtab                     supervisord.conf\n",
      "fonts                   mysql                    sysctl.conf\n",
      "fstab                   nanorc                   sysctl.d\n",
      "fuse.conf               netplan                  systemd\n",
      "gai.conf                network                  terminfo\n",
      "ghostscript             networkd-dispatcher      texmf\n",
      "glvnd                   NetworkManager           thermald\n",
      "groff                   networks                 timezone\n",
      "group                   newt                     tmpfiles.d\n",
      "group-                  nsswitch.conf            ucf.conf\n",
      "grub.d                  octave.conf              udev\n",
      "gshadow                 opt                      ufw\n",
      "gshadow-                os-release               updatedb.conf\n",
      "gss                     overlayroot.conf         update-manager\n",
      "gtk-2.0                 pam.conf                 update-motd.d\n",
      "gtk-3.0                 pam.d                    update-notifier\n",
      "hdparm.conf             papersize                vim\n",
      "host.conf               passwd                   vmware-tools\n",
      "hostname                passwd-                  vtrgb\n",
      "hosts                   perl                     wgetrc\n",
      "hosts.allow             pm                       X11\n",
      "hosts.deny              polkit-1                 xdg\n",
      "ImageMagick-6           pollinate                zsh\n",
      "init                    popularity-contest.conf  zsh_command_not_found\n",
      "init.d                  profile\n"
     ]
    }
   ],
   "source": [
    "ls"
   ]
  },
  {
   "cell_type": "code",
   "execution_count": 33,
   "metadata": {},
   "outputs": [
    {
     "name": "stdout",
     "output_type": "stream",
     "text": [
      "acpi\n",
      "adduser.conf\n",
      "alternatives\n",
      "apache2\n",
      "apm\n",
      "apparmor\n",
      "apparmor.d\n",
      "apport\n",
      "apt\n",
      "at.deny\n",
      "bash.bashrc\n",
      "bash_completion\n",
      "bash_completion.d\n",
      "bindresvport.blacklist\n",
      "binfmt.d\n",
      "byobu\n",
      "ca-certificates\n",
      "ca-certificates.conf\n",
      "calendar\n",
      "cloud\n"
     ]
    }
   ],
   "source": [
    "ls . | head -20"
   ]
  },
  {
   "cell_type": "code",
   "execution_count": 38,
   "metadata": {},
   "outputs": [
    {
     "name": "stdout",
     "output_type": "stream",
     "text": [
      "TAIL(1)                          User Commands                         TAIL(1)\n",
      "\n",
      "NAME\n",
      "       tail - output the last part of files\n",
      "\n",
      "SYNOPSIS\n",
      "       tail [OPTION]... [FILE]...\n",
      "\n",
      "DESCRIPTION\n",
      "       Print  the  last  10  lines of each FILE to standard output.  With more\n",
      "       than one FILE, precede each with a header giving the file name.\n",
      "\n",
      "       With no FILE, or when FILE is -, read standard input.\n",
      "\n",
      "       Mandatory arguments to long options are  mandatory  for  short  options\n",
      "       too.\n",
      "\n",
      "       -c, --bytes=[+]NUM\n",
      "              output  the  last  NUM  bytes; or use -c +NUM to output starting\n",
      "              with byte NUM of each file\n",
      "\n",
      "       -f, --follow[={name|descriptor}]\n",
      "              output appended data as the file grows;\n",
      "\n",
      "              an absent option argument means 'descriptor'\n",
      "\n",
      "       -F     same as --follow=name --retry\n",
      "\n",
      "       -n, --lines=[+]NUM\n",
      "              output the last NUM lines, instead of the last  10;  or  use  -n\n",
      "              +NUM to output starting with line NUM\n",
      "\n",
      "       --max-unchanged-stats=N\n",
      "              with --follow=name, reopen a FILE which has not\n",
      "\n",
      "              changed  size  after  N  (default 5) iterations to see if it has\n",
      "              been unlinked or renamed (this is the usual case of rotated  log\n",
      "              files); with inotify, this option is rarely useful\n",
      "\n",
      "       --pid=PID\n",
      "              with -f, terminate after process ID, PID dies\n",
      "\n",
      "       -q, --quiet, --silent\n",
      "              never output headers giving file names\n",
      "\n",
      "       --retry\n",
      "              keep trying to open a file if it is inaccessible\n",
      "\n",
      "       -s, --sleep-interval=N\n",
      "              with -f, sleep for approximately N seconds (default 1.0) between\n",
      "              iterations; with inotify and --pid=P, check process P  at  least\n",
      "              once every N seconds\n",
      "\n",
      "       -v, --verbose\n",
      "              always output headers giving file names\n",
      "\n",
      "       -z, --zero-terminated\n",
      "              line delimiter is NUL, not newline\n",
      "\n",
      "       --help display this help and exit\n",
      "\n",
      "       --version\n",
      "              output version information and exit\n",
      "\n",
      "       NUM may have a multiplier suffix: b 512, kB 1000, K 1024, MB 1000*1000,\n",
      "       M 1024*1024, GB 1000*1000*1000, G 1024*1024*1024, and so on for  T,  P,\n",
      "       E, Z, Y.\n",
      "\n",
      "       With  --follow  (-f),  tail  defaults to following the file descriptor,\n",
      "       which means that even if a tail'ed file is renamed, tail will  continue\n",
      "       to  track  its  end.   This  default behavior is not desirable when you\n",
      "       really want to track the actual name of the file, not the file descrip‐\n",
      "       tor (e.g., log rotation).  Use --follow=name in that case.  That causes\n",
      "       tail to track the named file  in  a  way  that  accommodates  renaming,\n",
      "       removal and creation.\n",
      "\n",
      "AUTHOR\n",
      "       Written  by Paul Rubin, David MacKenzie, Ian Lance Taylor, and Jim Mey‐\n",
      "       ering.\n",
      "\n",
      "REPORTING BUGS\n",
      "       GNU coreutils online help: <http://www.gnu.org/software/coreutils/>\n",
      "       Report tail translation bugs to <http://translationproject.org/team/>\n",
      "\n",
      "COPYRIGHT\n",
      "       Copyright © 2017 Free Software Foundation, Inc.   License  GPLv3+:  GNU\n",
      "       GPL version 3 or later <http://gnu.org/licenses/gpl.html>.\n",
      "       This  is  free  software:  you  are free to change and redistribute it.\n",
      "       There is NO WARRANTY, to the extent permitted by law.\n",
      "\n",
      "SEE ALSO\n",
      "       head(1)\n",
      "\n",
      "       Full documentation at: <http://www.gnu.org/software/coreutils/tail>\n",
      "       or available locally via: info '(coreutils) tail invocation'\n",
      "\n",
      "GNU coreutils 8.28               January 2018                          TAIL(1)\n"
     ]
    }
   ],
   "source": [
    "man tail"
   ]
  },
  {
   "cell_type": "code",
   "execution_count": 39,
   "metadata": {},
   "outputs": [
    {
     "name": "stdout",
     "output_type": "stream",
     "text": [
      "/etc\n"
     ]
    }
   ],
   "source": [
    "pwd"
   ]
  },
  {
   "cell_type": "code",
   "execution_count": 40,
   "metadata": {},
   "outputs": [],
   "source": [
    "cd .."
   ]
  },
  {
   "cell_type": "code",
   "execution_count": 41,
   "metadata": {},
   "outputs": [
    {
     "name": "stdout",
     "output_type": "stream",
     "text": [
      "/\n"
     ]
    }
   ],
   "source": [
    "pwd"
   ]
  },
  {
   "cell_type": "code",
   "execution_count": 42,
   "metadata": {},
   "outputs": [],
   "source": [
    "cd ./home/jupyter-aruzhan149/aleka"
   ]
  },
  {
   "cell_type": "code",
   "execution_count": 43,
   "metadata": {},
   "outputs": [
    {
     "name": "stdout",
     "output_type": "stream",
     "text": [
      " alekaresume.txt              a.txt               Untitled2.ipynb\n",
      " Aleka_USK_01_file.ipynb      b.txt               Untitled3.ipynb\n",
      " Aleka_USK_02.ipynb           er.txt              Untitled4.ipynb\n",
      " Aleka_USK04.ipynb           'Home work1.ipynb'   Untitled5.ipynb\n",
      " Aleka_USK_3.ipynb            luleiko.txt         Untitled6.ipynb\n",
      "'Aleka _USK_5.ipynb'          pirozhochek         Untitled.ipynb\n",
      "'Aruzhan Suleimenova.ipynb'   Untitled1.ipynb     USK02.dio\n"
     ]
    }
   ],
   "source": [
    "ls"
   ]
  },
  {
   "cell_type": "code",
   "execution_count": 44,
   "metadata": {},
   "outputs": [
    {
     "name": "stdout",
     "output_type": "stream",
     "text": [
      "Walmart \t                Retail  \t$514,405\tUnited States \n",
      "Sinopec \t                Oil and gas\t$414,649\tChina \n",
      "Royal Dutch Shell\t        Oil and gas\t$396,556\tNetherlands/United Kingdom\n",
      "China National Petroleum\tOil and gas\t$392,976        China\t\n",
      "State Grid\t                Electricity\t$387,056        China\n",
      "Saudi Aramco\t                Oil and gas\t$355,905        Saudi Arabia\n",
      "BP\t                        Oil and gas\t$303,738        United Kingdom\t\n",
      "ExxonMobil\t                Oil and gas\t$290,212        United States\t\n",
      "Volkswagen\t                Automotive\t$278,341\tGermany\t\n",
      "Toyota\t                        Automotive\t$272,612\tJapan\t\n",
      "Apple\t                        Electronics\t$265,595        United States\t\n",
      "Berkshire Hathaway\t        Financials\t$247,837\tUnited States\n",
      "Amazon\t                        Retail\t        $232,887\tUnited States\t\n",
      "UnitedHealth\t                Healthcare\t$226,247        United States\t\n",
      "Samsung Electronics\t        Electronics\t$221,579\tSouth Korea\n",
      "Glencore\t                Commodities\t$219,754\tSwitzerland\t\n",
      "McKesson\t                Healthcare\t$214,319        United States\t\n",
      "Daimler\t                        Automotive\t$197,515        Germany\t\n",
      "CVS Health\t                Healthcare\t$194,579\tUnited States\t\n",
      "Total\t                        Oil and gas\t$184,106\tFrance\t\n",
      "bash: cd: aerjkgvabk: No such file or directory\n"
     ]
    }
   ],
   "source": [
    "cat alekaresume.txt"
   ]
  },
  {
   "cell_type": "code",
   "execution_count": 45,
   "metadata": {},
   "outputs": [
    {
     "name": "stdout",
     "output_type": "stream",
     "text": [
      "McKesson\t                Healthcare\t$214,319        United States\t\n",
      "Daimler\t                        Automotive\t$197,515        Germany\t\n",
      "CVS Health\t                Healthcare\t$194,579\tUnited States\t\n",
      "Total\t                        Oil and gas\t$184,106\tFrance\t\n",
      "bash: cd: aerjkgvabk: No such file or directory\n"
     ]
    }
   ],
   "source": [
    "tail -5 alekaresume.txt"
   ]
  },
  {
   "cell_type": "code",
   "execution_count": 47,
   "metadata": {},
   "outputs": [
    {
     "name": "stdout",
     "output_type": "stream",
     "text": [
      "State Grid\t                Electricity\t$387,056        China\n",
      "Saudi Aramco\t                Oil and gas\t$355,905        Saudi Arabia\n",
      "BP\t                        Oil and gas\t$303,738        United Kingdom\t\n",
      "ExxonMobil\t                Oil and gas\t$290,212        United States\t\n",
      "Volkswagen\t                Automotive\t$278,341\tGermany\t\n",
      "Toyota\t                        Automotive\t$272,612\tJapan\t\n",
      "Apple\t                        Electronics\t$265,595        United States\t\n",
      "Berkshire Hathaway\t        Financials\t$247,837\tUnited States\n",
      "Amazon\t                        Retail\t        $232,887\tUnited States\t\n",
      "UnitedHealth\t                Healthcare\t$226,247        United States\t\n",
      "Samsung Electronics\t        Electronics\t$221,579\tSouth Korea\n",
      "Glencore\t                Commodities\t$219,754\tSwitzerland\t\n",
      "McKesson\t                Healthcare\t$214,319        United States\t\n",
      "Daimler\t                        Automotive\t$197,515        Germany\t\n",
      "CVS Health\t                Healthcare\t$194,579\tUnited States\t\n",
      "Total\t                        Oil and gas\t$184,106\tFrance\t\n",
      "bash: cd: aerjkgvabk: No such file or directory\n"
     ]
    }
   ],
   "source": [
    "tail +5 alekaresume.txt"
   ]
  },
  {
   "cell_type": "code",
   "execution_count": 48,
   "metadata": {},
   "outputs": [],
   "source": [
    "## last hometask"
   ]
  },
  {
   "cell_type": "code",
   "execution_count": null,
   "metadata": {},
   "outputs": [],
   "source": []
  }
 ],
 "metadata": {
  "kernelspec": {
   "display_name": "Bash",
   "language": "bash",
   "name": "bash"
  },
  "language_info": {
   "codemirror_mode": "shell",
   "file_extension": ".sh",
   "mimetype": "text/x-sh",
   "name": "bash"
  }
 },
 "nbformat": 4,
 "nbformat_minor": 4
}
