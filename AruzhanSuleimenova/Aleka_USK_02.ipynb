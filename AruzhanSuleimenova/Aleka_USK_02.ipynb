{
 "cells": [
  {
   "cell_type": "code",
   "execution_count": 50,
   "metadata": {},
   "outputs": [
    {
     "name": "stdout",
     "output_type": "stream",
     "text": [
      "Sun Mar 29 16:54:20 UTC 2020\n"
     ]
    }
   ],
   "source": [
    "date\n"
   ]
  },
  {
   "cell_type": "code",
   "execution_count": 2,
   "metadata": {},
   "outputs": [
    {
     "name": "stdout",
     "output_type": "stream",
     "text": [
      "/home/jupyter-aruzhan149/aleka\n"
     ]
    }
   ],
   "source": [
    "pwd"
   ]
  },
  {
   "cell_type": "code",
   "execution_count": 3,
   "metadata": {},
   "outputs": [],
   "source": [
    "cd ./../.."
   ]
  },
  {
   "cell_type": "code",
   "execution_count": 4,
   "metadata": {},
   "outputs": [
    {
     "name": "stdout",
     "output_type": "stream",
     "text": [
      "/home\n"
     ]
    }
   ],
   "source": [
    "pwd"
   ]
  },
  {
   "cell_type": "code",
   "execution_count": 8,
   "metadata": {},
   "outputs": [],
   "source": [
    "cd /"
   ]
  },
  {
   "cell_type": "code",
   "execution_count": 9,
   "metadata": {},
   "outputs": [
    {
     "name": "stdout",
     "output_type": "stream",
     "text": [
      "/\n"
     ]
    }
   ],
   "source": [
    "pwd"
   ]
  },
  {
   "cell_type": "code",
   "execution_count": 10,
   "metadata": {},
   "outputs": [
    {
     "name": "stdout",
     "output_type": "stream",
     "text": [
      "bin    etc             lib         mkdir  root  srv       usr\n",
      "boot   home            lib64       mnt    run   swap.img  var\n",
      "cdrom  initrd.img      lost+found  opt    sbin  sys       vmlinuz\n",
      "dev    initrd.img.old  media       proc   snap  tmp       vmlinuz.old\n"
     ]
    }
   ],
   "source": [
    "ls"
   ]
  },
  {
   "cell_type": "code",
   "execution_count": 11,
   "metadata": {},
   "outputs": [],
   "source": [
    "cd bin"
   ]
  },
  {
   "cell_type": "code",
   "execution_count": 12,
   "metadata": {},
   "outputs": [
    {
     "name": "stdout",
     "output_type": "stream",
     "text": [
      "bash                egrep       nc.openbsd     ss\n",
      "btrfs               false       netcat         static-sh\n",
      "btrfsck             fgconsole   netstat        stty\n",
      "btrfs-debug-tree    fgrep       networkctl     su\n",
      "btrfs-find-root     findmnt     nisdomainname  sync\n",
      "btrfs-image         fsck.btrfs  ntfs-3g        systemctl\n",
      "btrfs-map-logical   fuser       ntfs-3g.probe  systemd\n",
      "btrfs-select-super  fusermount  ntfscat        systemd-ask-password\n",
      "btrfstune           getfacl     ntfscluster    systemd-escape\n",
      "btrfs-zero-log      grep        ntfscmp        systemd-hwdb\n",
      "bunzip2             gunzip      ntfsfallocate  systemd-inhibit\n",
      "busybox             gzexe       ntfsfix        systemd-machine-id-setup\n",
      "bzcat               gzip        ntfsinfo       systemd-notify\n",
      "bzcmp               hostname    ntfsls         systemd-sysusers\n",
      "bzdiff              ip          ntfsmove       systemd-tmpfiles\n",
      "bzegrep             journalctl  ntfsrecover    systemd-tty-ask-password-agent\n",
      "bzexe               kbd_mode    ntfssecaudit   tar\n",
      "bzfgrep             kill        ntfstruncate   tempfile\n",
      "bzgrep              kmod        ntfsusermap    touch\n",
      "bzip2               less        ntfswipe       true\n",
      "bzip2recover        lessecho    open           udevadm\n",
      "bzless              lessfile    openvt         ulockmgr_server\n",
      "bzmore              lesskey     pidof          umount\n",
      "cat                 lesspipe    ping           uname\n",
      "chacl               ln          ping4          uncompress\n",
      "chgrp               loadkeys    ping6          unicode_start\n",
      "chmod               login       plymouth       vdir\n",
      "chown               loginctl    ps             wdctl\n",
      "chvt                lowntfs-3g  pwd            which\n",
      "cp                  ls          rbash          whiptail\n",
      "cpio                lsblk       readlink       ypdomainname\n",
      "dash                lsmod       red            zcat\n",
      "date                mkdir       rm             zcmp\n",
      "dd                  mkfs.btrfs  rmdir          zdiff\n",
      "df                  mknod       rnano          zegrep\n",
      "dir                 mktemp      run-parts      zfgrep\n",
      "dmesg               more        rzsh           zforce\n",
      "dnsdomainname       mount       sed            zgrep\n",
      "domainname          mountpoint  setfacl        zless\n",
      "dumpkeys            mt          setfont        zmore\n",
      "echo                mt-gnu      setupcon       znew\n",
      "ed                  mv          sh             zsh\n",
      "efibootdump         nano        sh.distrib     zsh5\n",
      "efibootmgr          nc          sleep\n"
     ]
    }
   ],
   "source": [
    "ls"
   ]
  },
  {
   "cell_type": "code",
   "execution_count": 15,
   "metadata": {},
   "outputs": [],
   "source": [
    "cd .."
   ]
  },
  {
   "cell_type": "code",
   "execution_count": 17,
   "metadata": {},
   "outputs": [
    {
     "name": "stdout",
     "output_type": "stream",
     "text": [
      "/\n"
     ]
    }
   ],
   "source": [
    "pwd"
   ]
  },
  {
   "cell_type": "code",
   "execution_count": 18,
   "metadata": {},
   "outputs": [],
   "source": [
    "cd boot\n"
   ]
  },
  {
   "cell_type": "code",
   "execution_count": 19,
   "metadata": {},
   "outputs": [
    {
     "name": "stdout",
     "output_type": "stream",
     "text": [
      "config-4.15.0-88-generic      initrd.img-4.15.0-91-generic\n",
      "config-4.15.0-91-generic      System.map-4.15.0-88-generic\n",
      "efi                           System.map-4.15.0-91-generic\n",
      "grub                          vmlinuz-4.15.0-88-generic\n",
      "initrd.img-4.15.0-88-generic  vmlinuz-4.15.0-91-generic\n"
     ]
    }
   ],
   "source": [
    "ls"
   ]
  },
  {
   "cell_type": "code",
   "execution_count": 20,
   "metadata": {},
   "outputs": [],
   "source": [
    "cd efi"
   ]
  },
  {
   "cell_type": "code",
   "execution_count": 21,
   "metadata": {},
   "outputs": [
    {
     "name": "stdout",
     "output_type": "stream",
     "text": [
      "EFI\n"
     ]
    }
   ],
   "source": [
    "ls"
   ]
  },
  {
   "cell_type": "code",
   "execution_count": 22,
   "metadata": {},
   "outputs": [],
   "source": [
    "cd EFI"
   ]
  },
  {
   "cell_type": "code",
   "execution_count": 23,
   "metadata": {},
   "outputs": [
    {
     "name": "stdout",
     "output_type": "stream",
     "text": [
      "BOOT  ubuntu\n"
     ]
    }
   ],
   "source": [
    "ls"
   ]
  },
  {
   "cell_type": "code",
   "execution_count": 24,
   "metadata": {},
   "outputs": [],
   "source": [
    "cd BOOT"
   ]
  },
  {
   "cell_type": "code",
   "execution_count": 25,
   "metadata": {},
   "outputs": [
    {
     "name": "stdout",
     "output_type": "stream",
     "text": [
      "BOOTX64.EFI  fbx64.efi\n"
     ]
    }
   ],
   "source": [
    "ls\n"
   ]
  },
  {
   "cell_type": "code",
   "execution_count": 27,
   "metadata": {},
   "outputs": [],
   "source": [
    "cd /"
   ]
  },
  {
   "cell_type": "code",
   "execution_count": 28,
   "metadata": {},
   "outputs": [
    {
     "name": "stdout",
     "output_type": "stream",
     "text": [
      "/\n"
     ]
    }
   ],
   "source": [
    "pwd"
   ]
  },
  {
   "cell_type": "code",
   "execution_count": 29,
   "metadata": {},
   "outputs": [
    {
     "name": "stdout",
     "output_type": "stream",
     "text": [
      "bin    etc             lib         mkdir  root  srv       usr\n",
      "boot   home            lib64       mnt    run   swap.img  var\n",
      "cdrom  initrd.img      lost+found  opt    sbin  sys       vmlinuz\n",
      "dev    initrd.img.old  media       proc   snap  tmp       vmlinuz.old\n"
     ]
    }
   ],
   "source": [
    "ls"
   ]
  },
  {
   "cell_type": "code",
   "execution_count": 30,
   "metadata": {},
   "outputs": [],
   "source": [
    "cd etc"
   ]
  },
  {
   "cell_type": "code",
   "execution_count": 31,
   "metadata": {},
   "outputs": [
    {
     "name": "stdout",
     "output_type": "stream",
     "text": [
      "acpi                    inputrc                  protocols\n",
      "adduser.conf            iproute2                 python\n",
      "alternatives            iscsi                    python2.7\n",
      "apache2                 issue                    python3\n",
      "apm                     issue.net                python3.6\n",
      "apparmor                java-11-openjdk          python3.8\n",
      "apparmor.d              kernel                   rc0.d\n",
      "apport                  kernel-img.conf          rc1.d\n",
      "apt                     landscape                rc2.d\n",
      "at.deny                 ldap                     rc3.d\n",
      "bash.bashrc             ld.so.cache              rc4.d\n",
      "bash_completion         ld.so.conf               rc5.d\n",
      "bash_completion.d       ld.so.conf.d             rc6.d\n",
      "bindresvport.blacklist  legal                    rc.local\n",
      "binfmt.d                libaudit.conf            rcS.d\n",
      "byobu                   libnl-3                  resolv.conf\n",
      "ca-certificates         libpaper.d               rmt\n",
      "ca-certificates.conf    lighttpd                 rpc\n",
      "calendar                locale.alias             rsyslog.conf\n",
      "cloud                   locale.gen               rsyslog.d\n",
      "console-setup           localtime                screenrc\n",
      "cron.d                  logcheck                 securetty\n",
      "cron.daily              login.defs               security\n",
      "cron.hourly             logrotate.conf           selinux\n",
      "cron.monthly            logrotate.d              sensors3.conf\n",
      "crontab                 lsb-release              sensors.d\n",
      "cron.weekly             ltrace.conf              services\n",
      "cryptsetup-initramfs    lvm                      shadow\n",
      "crypttab                machine-id               shadow-\n",
      "dbus-1                  magic                    shells\n",
      "debconf.conf            magic.mime               skel\n",
      "debian_version          mailcap                  sos.conf\n",
      "default                 mailcap.order            ssh\n",
      "deluser.conf            manpath.config           ssl\n",
      "depmod.d                mdadm                    subgid\n",
      "dhcp                    mime.types               subgid-\n",
      "dnsmasq.d               mke2fs.conf              subuid\n",
      "dnsmasq.d-available     modprobe.d               subuid-\n",
      "dpkg                    modules                  sudoers\n",
      "environment             modules-load.d           sudoers.d\n",
      "ethertypes              mtab                     supervisord.conf\n",
      "fonts                   mysql                    sysctl.conf\n",
      "fstab                   nanorc                   sysctl.d\n",
      "fuse.conf               netplan                  systemd\n",
      "gai.conf                network                  terminfo\n",
      "ghostscript             networkd-dispatcher      texmf\n",
      "glvnd                   NetworkManager           thermald\n",
      "groff                   networks                 timezone\n",
      "group                   newt                     tmpfiles.d\n",
      "group-                  nsswitch.conf            ucf.conf\n",
      "grub.d                  octave.conf              udev\n",
      "gshadow                 opt                      ufw\n",
      "gshadow-                os-release               updatedb.conf\n",
      "gss                     overlayroot.conf         update-manager\n",
      "gtk-2.0                 pam.conf                 update-motd.d\n",
      "gtk-3.0                 pam.d                    update-notifier\n",
      "hdparm.conf             papersize                vim\n",
      "host.conf               passwd                   vmware-tools\n",
      "hostname                passwd-                  vtrgb\n",
      "hosts                   perl                     wgetrc\n",
      "hosts.allow             pm                       X11\n",
      "hosts.deny              polkit-1                 xdg\n",
      "ImageMagick-6           pollinate                zsh\n",
      "init                    popularity-contest.conf  zsh_command_not_found\n",
      "init.d                  profile\n",
      "initramfs-tools         profile.d\n"
     ]
    }
   ],
   "source": [
    "ls"
   ]
  },
  {
   "cell_type": "code",
   "execution_count": 32,
   "metadata": {},
   "outputs": [
    {
     "name": "stdout",
     "output_type": "stream",
     "text": [
      "init  parser.conf  subdomain.conf\n"
     ]
    }
   ],
   "source": [
    "ls apparmor"
   ]
  },
  {
   "cell_type": "code",
   "execution_count": 33,
   "metadata": {},
   "outputs": [
    {
     "name": "stdout",
     "output_type": "stream",
     "text": [
      "mysql.conf\n"
     ]
    }
   ],
   "source": [
    "ls init"
   ]
  },
  {
   "cell_type": "code",
   "execution_count": 35,
   "metadata": {},
   "outputs": [],
   "source": [
    "cd ./../.."
   ]
  },
  {
   "cell_type": "code",
   "execution_count": 36,
   "metadata": {},
   "outputs": [
    {
     "name": "stdout",
     "output_type": "stream",
     "text": [
      "/\n"
     ]
    }
   ],
   "source": [
    "pwd"
   ]
  },
  {
   "cell_type": "code",
   "execution_count": 37,
   "metadata": {},
   "outputs": [],
   "source": [
    "cd lib\n"
   ]
  },
  {
   "cell_type": "code",
   "execution_count": 38,
   "metadata": {},
   "outputs": [
    {
     "name": "stdout",
     "output_type": "stream",
     "text": [
      "apparmor       init                                  netplan\n",
      "console-setup  klibc-wBFLvVtxy4xJqEadIBJMa78iJz8.so  open-iscsi\n",
      "cpp            libhandle.so.1                        recovery-mode\n",
      "crda           libhandle.so.1.0.3                    systemd\n",
      "cryptsetup     lsb                                   terminfo\n",
      "ebtables       modprobe.d                            udev\n",
      "firmware       modules                               ufw\n",
      "hdparm         modules-load.d                        x86_64-linux-gnu\n"
     ]
    }
   ],
   "source": [
    "ls"
   ]
  },
  {
   "cell_type": "code",
   "execution_count": 40,
   "metadata": {},
   "outputs": [],
   "source": [
    "cd /\n"
   ]
  },
  {
   "cell_type": "code",
   "execution_count": 41,
   "metadata": {},
   "outputs": [
    {
     "name": "stdout",
     "output_type": "stream",
     "text": [
      "bin  games  include  lib  local  sbin  share  src\n"
     ]
    }
   ],
   "source": [
    "ls usr"
   ]
  },
  {
   "cell_type": "code",
   "execution_count": 43,
   "metadata": {},
   "outputs": [],
   "source": [
    "cd /\n"
   ]
  },
  {
   "cell_type": "code",
   "execution_count": 44,
   "metadata": {},
   "outputs": [
    {
     "name": "stdout",
     "output_type": "stream",
     "text": [
      "azat                   jupyter-azat           jupyter-nurlaura\n",
      "jupyter-admin          jupyter-cubefiction    jupyter-nurlaura2\n",
      "jupyter-aiana178       jupyter-danenok        jupyter-official-nanakai\n",
      "jupyter-aigerimunisat  jupyter-darganius      jupyter-orissim\n",
      "jupyter-aizadait       jupyter-ekdana         jupyter-tsagynysh\n",
      "jupyter-amayakof       jupyter-inkar601       jupyter-unisat\n",
      "jupyter-amirkhan       jupyter-kkenzh         jupyter-yeldana\n",
      "jupyter-arayka         jupyter-nazymungarova  jupyter-zhandos\n",
      "jupyter-aruzhan149     jupyter-nuray.serkali  jupyter-zhanelbaltabay\n",
      "jupyter-aselleon       jupyter-nurike         jupyter-zhannaspace\n"
     ]
    }
   ],
   "source": [
    "ls home\n"
   ]
  },
  {
   "cell_type": "code",
   "execution_count": 49,
   "metadata": {},
   "outputs": [
    {
     "name": "stdout",
     "output_type": "stream",
     "text": [
      "/\n"
     ]
    }
   ],
   "source": [
    "pwd"
   ]
  },
  {
   "cell_type": "code",
   "execution_count": 53,
   "metadata": {},
   "outputs": [],
   "source": [
    "cd home"
   ]
  },
  {
   "cell_type": "code",
   "execution_count": 54,
   "metadata": {},
   "outputs": [],
   "source": [
    "cd jupyter-aruzhan149\n"
   ]
  },
  {
   "cell_type": "code",
   "execution_count": 55,
   "metadata": {},
   "outputs": [
    {
     "name": "stdout",
     "output_type": "stream",
     "text": [
      " aleka               Untitled1.ipynb   Untitled4.ipynb   Untitled.ipynb\n",
      "'Home work1.ipynb'   Untitled2.ipynb   Untitled5.ipynb\n",
      " shared              Untitled3.ipynb   Untitled6.ipynb\n"
     ]
    }
   ],
   "source": [
    "ls"
   ]
  },
  {
   "cell_type": "code",
   "execution_count": 57,
   "metadata": {},
   "outputs": [
    {
     "name": "stdout",
     "output_type": "stream",
     "text": [
      "bash: cd: alekals: No such file or directory\n"
     ]
    },
    {
     "ename": "",
     "evalue": "1",
     "output_type": "error",
     "traceback": []
    }
   ],
   "source": [
    "cd aleka"
   ]
  },
  {
   "cell_type": "code",
   "execution_count": 58,
   "metadata": {},
   "outputs": [
    {
     "name": "stdout",
     "output_type": "stream",
     "text": [
      " alekaresume.txt          'Aruzhan Suleimenova.ipynb'   Untitled3.ipynb\n",
      " Aleka_USK_01_file.ipynb   pirozhochek                  Untitled.ipynb\n",
      " Aleka_USK_02              Untitled2.ipynb\n"
     ]
    }
   ],
   "source": [
    "ls"
   ]
  },
  {
   "cell_type": "code",
   "execution_count": null,
   "metadata": {},
   "outputs": [],
   "source": []
  }
 ],
 "metadata": {
  "kernelspec": {
   "display_name": "Bash",
   "language": "bash",
   "name": "bash"
  },
  "language_info": {
   "codemirror_mode": "shell",
   "file_extension": ".sh",
   "mimetype": "text/x-sh",
   "name": "bash"
  }
 },
 "nbformat": 4,
 "nbformat_minor": 4
}
