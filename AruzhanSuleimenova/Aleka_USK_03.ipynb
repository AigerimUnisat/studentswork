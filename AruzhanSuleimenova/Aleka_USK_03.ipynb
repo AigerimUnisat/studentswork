{
 "cells": [
  {
   "cell_type": "code",
   "execution_count": 1,
   "metadata": {},
   "outputs": [
    {
     "name": "stdout",
     "output_type": "stream",
     "text": [
      "/home/jupyter-aruzhan149/aleka\n"
     ]
    }
   ],
   "source": [
    "pwd"
   ]
  },
  {
   "cell_type": "code",
   "execution_count": 4,
   "metadata": {},
   "outputs": [],
   "source": [
    "cd .."
   ]
  },
  {
   "cell_type": "code",
   "execution_count": 5,
   "metadata": {},
   "outputs": [
    {
     "name": "stdout",
     "output_type": "stream",
     "text": [
      "/home/jupyter-aruzhan149\n"
     ]
    }
   ],
   "source": [
    "pwd"
   ]
  },
  {
   "cell_type": "code",
   "execution_count": 6,
   "metadata": {},
   "outputs": [
    {
     "name": "stdout",
     "output_type": "stream",
     "text": [
      " aleka               Untitled1.ipynb   Untitled4.ipynb   Untitled.ipynb\n",
      "'Home work1.ipynb'   Untitled2.ipynb   Untitled5.ipynb\n",
      " shared              Untitled3.ipynb   Untitled6.ipynb\n"
     ]
    }
   ],
   "source": [
    "ls\n"
   ]
  },
  {
   "cell_type": "code",
   "execution_count": 8,
   "metadata": {},
   "outputs": [],
   "source": [
    "touch Toni"
   ]
  },
  {
   "cell_type": "code",
   "execution_count": 9,
   "metadata": {},
   "outputs": [
    {
     "name": "stdout",
     "output_type": "stream",
     "text": [
      " aleka               Toni              Untitled3.ipynb   Untitled6.ipynb\n",
      "'Home work1.ipynb'   Untitled1.ipynb   Untitled4.ipynb   Untitled.ipynb\n",
      " shared              Untitled2.ipynb   Untitled5.ipynb\n"
     ]
    }
   ],
   "source": [
    "ls"
   ]
  },
  {
   "cell_type": "code",
   "execution_count": 10,
   "metadata": {},
   "outputs": [],
   "source": [
    "touch Noni\n",
    "\n"
   ]
  },
  {
   "cell_type": "code",
   "execution_count": 11,
   "metadata": {},
   "outputs": [],
   "source": [
    "touch Aroni"
   ]
  },
  {
   "cell_type": "code",
   "execution_count": 12,
   "metadata": {},
   "outputs": [
    {
     "name": "stdout",
     "output_type": "stream",
     "text": [
      "Aroni  Noni  Toni\n"
     ]
    }
   ],
   "source": [
    "ls *oni"
   ]
  },
  {
   "cell_type": "code",
   "execution_count": 13,
   "metadata": {},
   "outputs": [
    {
     "name": "stdout",
     "output_type": "stream",
     "text": [
      "Noni  Toni\n"
     ]
    }
   ],
   "source": [
    "ls ?oni\n"
   ]
  },
  {
   "cell_type": "code",
   "execution_count": 14,
   "metadata": {},
   "outputs": [],
   "source": [
    "touch 1.txt\n"
   ]
  },
  {
   "cell_type": "code",
   "execution_count": 15,
   "metadata": {},
   "outputs": [],
   "source": [
    "touch 2.txt"
   ]
  },
  {
   "cell_type": "code",
   "execution_count": 16,
   "metadata": {},
   "outputs": [],
   "source": [
    "touch 3.txt"
   ]
  },
  {
   "cell_type": "code",
   "execution_count": 17,
   "metadata": {},
   "outputs": [
    {
     "name": "stdout",
     "output_type": "stream",
     "text": [
      "1.txt  2.txt  3.txt\n"
     ]
    }
   ],
   "source": [
    "ls *.txt\n"
   ]
  },
  {
   "cell_type": "code",
   "execution_count": 18,
   "metadata": {},
   "outputs": [],
   "source": [
    "touch neytron"
   ]
  },
  {
   "cell_type": "code",
   "execution_count": 19,
   "metadata": {},
   "outputs": [],
   "source": [
    "touch neytrron"
   ]
  },
  {
   "cell_type": "code",
   "execution_count": 20,
   "metadata": {},
   "outputs": [
    {
     "name": "stdout",
     "output_type": "stream",
     "text": [
      " 1.txt  'Home work1.ipynb'   Toni              Untitled5.ipynb\n",
      " 2.txt   neytron             Untitled1.ipynb   Untitled6.ipynb\n",
      " 3.txt   neytrron            Untitled2.ipynb   Untitled.ipynb\n",
      " aleka   Noni                Untitled3.ipynb\n",
      " Aroni   shared              Untitled4.ipynb\n"
     ]
    }
   ],
   "source": [
    "ls"
   ]
  },
  {
   "cell_type": "code",
   "execution_count": 21,
   "metadata": {},
   "outputs": [
    {
     "name": "stdout",
     "output_type": "stream",
     "text": [
      "neytron  neytrron\n"
     ]
    }
   ],
   "source": [
    "ls neyt*on    # '*' represents one or more characteristics \n"
   ]
  },
  {
   "cell_type": "code",
   "execution_count": 22,
   "metadata": {},
   "outputs": [
    {
     "name": "stdout",
     "output_type": "stream",
     "text": [
      "neytron\n"
     ]
    }
   ],
   "source": [
    "ls neyt?on # '?' represents only one characterictic at a time"
   ]
  },
  {
   "cell_type": "code",
   "execution_count": 23,
   "metadata": {},
   "outputs": [],
   "source": [
    "# [] usage"
   ]
  },
  {
   "cell_type": "code",
   "execution_count": 24,
   "metadata": {},
   "outputs": [
    {
     "name": "stdout",
     "output_type": "stream",
     "text": [
      "1.txt  2.txt  3.txt\n"
     ]
    }
   ],
   "source": [
    "ls [1-3].txt"
   ]
  },
  {
   "cell_type": "code",
   "execution_count": 25,
   "metadata": {},
   "outputs": [],
   "source": [
    "touch 14.txt"
   ]
  },
  {
   "cell_type": "code",
   "execution_count": 26,
   "metadata": {},
   "outputs": [
    {
     "name": "stdout",
     "output_type": "stream",
     "text": [
      " 14.txt   aleka               neytrron   Untitled1.ipynb   Untitled5.ipynb\n",
      " 1.txt    Aroni               Noni       Untitled2.ipynb   Untitled6.ipynb\n",
      " 2.txt   'Home work1.ipynb'   shared     Untitled3.ipynb   Untitled.ipynb\n",
      " 3.txt    neytron             Toni       Untitled4.ipynb\n"
     ]
    }
   ],
   "source": [
    "ls"
   ]
  },
  {
   "cell_type": "code",
   "execution_count": 30,
   "metadata": {},
   "outputs": [
    {
     "name": "stdout",
     "output_type": "stream",
     "text": [
      "14.txt  1.txt  2.txt  3.txt\n"
     ]
    }
   ],
   "source": [
    "ls [1-30]*.txt"
   ]
  },
  {
   "cell_type": "code",
   "execution_count": 33,
   "metadata": {},
   "outputs": [],
   "source": [
    "touch abc.txt\n"
   ]
  },
  {
   "cell_type": "code",
   "execution_count": 34,
   "metadata": {},
   "outputs": [],
   "source": [
    "touch absd.txt"
   ]
  },
  {
   "cell_type": "code",
   "execution_count": 35,
   "metadata": {},
   "outputs": [
    {
     "name": "stdout",
     "output_type": "stream",
     "text": [
      "abc.txt  absd.txt\n"
     ]
    }
   ],
   "source": [
    "ls [a-z]*.txt"
   ]
  },
  {
   "cell_type": "code",
   "execution_count": 36,
   "metadata": {},
   "outputs": [],
   "source": [
    "touch a.jpg"
   ]
  },
  {
   "cell_type": "code",
   "execution_count": 37,
   "metadata": {},
   "outputs": [],
   "source": [
    "touch n.png"
   ]
  },
  {
   "cell_type": "code",
   "execution_count": 38,
   "metadata": {},
   "outputs": [],
   "source": [
    "touch t.png"
   ]
  },
  {
   "cell_type": "code",
   "execution_count": 40,
   "metadata": {},
   "outputs": [
    {
     "name": "stdout",
     "output_type": "stream",
     "text": [
      "a.jpg  n.png  t.png\n"
     ]
    }
   ],
   "source": [
    "ls *.[jp][pn]g\n"
   ]
  },
  {
   "cell_type": "code",
   "execution_count": 41,
   "metadata": {},
   "outputs": [
    {
     "name": "stdout",
     "output_type": "stream",
     "text": [
      "/home/jupyter-aruzhan149\n"
     ]
    }
   ],
   "source": [
    "pwd"
   ]
  },
  {
   "cell_type": "code",
   "execution_count": 42,
   "metadata": {},
   "outputs": [],
   "source": [
    "cd ./../.."
   ]
  },
  {
   "cell_type": "code",
   "execution_count": 43,
   "metadata": {},
   "outputs": [
    {
     "name": "stdout",
     "output_type": "stream",
     "text": [
      "/\n"
     ]
    }
   ],
   "source": [
    "pwd"
   ]
  },
  {
   "cell_type": "code",
   "execution_count": 44,
   "metadata": {},
   "outputs": [],
   "source": [
    "cd home\n"
   ]
  },
  {
   "cell_type": "code",
   "execution_count": 45,
   "metadata": {},
   "outputs": [
    {
     "name": "stdout",
     "output_type": "stream",
     "text": [
      "azat                   jupyter-cubefiction    jupyter-official-nanakai\n",
      "jupyter-admin          jupyter-danenok        jupyter-orissim\n",
      "jupyter-aiana178       jupyter-darganius      jupyter-tsagynysh\n",
      "jupyter-aigerimunisat  jupyter-ekdana         jupyter-unisat\n",
      "jupyter-aizadait       jupyter-inkar601       jupyter-unisatkz\n",
      "jupyter-amayakof       jupyter-kkenzh         jupyter-yeldana\n",
      "jupyter-amirkhan       jupyter-nazymungarova  jupyter-zhandos\n",
      "jupyter-arayka         jupyter-nuray.serkali  jupyter-zhanelbaltabay\n",
      "jupyter-aruzhan149     jupyter-nurike         jupyter-zhannaspace\n",
      "jupyter-aselleon       jupyter-nurlaura\n",
      "jupyter-azat           jupyter-nurlaura2\n"
     ]
    }
   ],
   "source": [
    "ls"
   ]
  },
  {
   "cell_type": "code",
   "execution_count": 46,
   "metadata": {},
   "outputs": [
    {
     "name": "stdout",
     "output_type": "stream",
     "text": [
      "total 132\n",
      "drwxr-xr-x 33 root                     root                     4096 Apr  2 17:12 .\n",
      "drwxr-xr-x 25 root                     root                     4096 Mar 17 15:25 ..\n",
      "drwxr-xr-x 12 azat                     azat                     4096 Mar 18 01:23 azat\n",
      "drwxr-x---  8 jupyter-admin            jupyter-admin            4096 Mar 21 17:42 jupyter-admin\n",
      "drwxr-x---  8 jupyter-aiana178         jupyter-aiana178         4096 Apr  3 00:29 jupyter-aiana178\n",
      "drwxr-x--- 10 jupyter-aigerimunisat    jupyter-aigerimunisat    4096 Apr  3 19:25 jupyter-aigerimunisat\n",
      "drwxr-x---  8 jupyter-aizadait         jupyter-aizadait         4096 Mar 28 01:17 jupyter-aizadait\n",
      "drwxr-x--- 10 jupyter-amayakof         jupyter-amayakof         4096 Mar 31 23:59 jupyter-amayakof\n",
      "drwxr-x---  7 jupyter-amirkhan         jupyter-amirkhan         4096 Mar 21 13:40 jupyter-amirkhan\n",
      "drwxr-x---  4 jupyter-arayka           jupyter-arayka           4096 Mar 18 17:22 jupyter-arayka\n",
      "drwxr-x---  8 jupyter-aruzhan149       jupyter-aruzhan149       4096 Apr  3 23:37 jupyter-aruzhan149\n",
      "drwxr-x---  7 jupyter-aselleon         jupyter-aselleon         4096 Mar 23 19:08 jupyter-aselleon\n",
      "drwxr-x--- 12 jupyter-azat             jupyter-azat             4096 Mar 23 22:20 jupyter-azat\n",
      "drwxr-x--- 11 jupyter-cubefiction      jupyter-cubefiction      4096 Apr  2 17:47 jupyter-cubefiction\n",
      "drwxr-x--- 12 jupyter-danenok          jupyter-danenok          4096 Apr  3 22:44 jupyter-danenok\n",
      "drwxr-x---  7 jupyter-darganius        jupyter-darganius        4096 Mar 23 12:19 jupyter-darganius\n",
      "drwxr-x---  8 jupyter-ekdana           jupyter-ekdana           4096 Mar 28 12:22 jupyter-ekdana\n",
      "drwxr-x--- 10 jupyter-inkar601         jupyter-inkar601         4096 Mar 28 14:09 jupyter-inkar601\n",
      "drwxr-x--- 10 jupyter-kkenzh           jupyter-kkenzh           4096 Apr  2 18:49 jupyter-kkenzh\n",
      "drwxr-x---  7 jupyter-nazymungarova    jupyter-nazymungarova    4096 Mar 21 14:26 jupyter-nazymungarova\n",
      "drwxr-x---  7 jupyter-nuray.serkali    jupyter-nuray.serkali    4096 Mar 19 17:09 jupyter-nuray.serkali\n",
      "drwxr-x---  7 jupyter-nurike           jupyter-nurike           4096 Mar 24 04:56 jupyter-nurike\n",
      "drwxr-x---  8 jupyter-nurlaura         jupyter-nurlaura         4096 Mar 28 00:09 jupyter-nurlaura\n",
      "drwxr-x---  8 jupyter-nurlaura2        jupyter-nurlaura2        4096 Apr  2 01:29 jupyter-nurlaura2\n",
      "drwxr-x---  9 jupyter-official-nanakai jupyter-official-nanakai 4096 Apr  3 22:31 jupyter-official-nanakai\n",
      "drwxr-x---  8 jupyter-orissim          jupyter-orissim          4096 Apr  3 22:10 jupyter-orissim\n",
      "drwxr-x---  8 jupyter-tsagynysh        jupyter-tsagynysh        4096 Apr  1 17:39 jupyter-tsagynysh\n",
      "drwxr-x--- 15 jupyter-unisat           jupyter-unisat           4096 Apr  2 17:10 jupyter-unisat\n",
      "drwxr-x--- 11 jupyter-unisatkz         jupyter-unisatkz         4096 Apr  2 19:05 jupyter-unisatkz\n",
      "drwxr-x---  4 jupyter-yeldana          jupyter-yeldana          4096 Mar 23 16:17 jupyter-yeldana\n",
      "drwxr-x---  5 jupyter-zhandos          jupyter-zhandos          4096 Mar 23 12:19 jupyter-zhandos\n",
      "drwxr-x---  8 jupyter-zhanelbaltabay   jupyter-zhanelbaltabay   4096 Apr  2 14:23 jupyter-zhanelbaltabay\n",
      "drwxr-x---  9 jupyter-zhannaspace      jupyter-zhannaspace      4096 Apr  2 04:01 jupyter-zhannaspace\n"
     ]
    }
   ],
   "source": [
    "ls -al"
   ]
  },
  {
   "cell_type": "code",
   "execution_count": 47,
   "metadata": {},
   "outputs": [
    {
     "name": "stdout",
     "output_type": "stream",
     "text": [
      "ls: cannot open directory '/home/jupyter-admin': Permission denied\n",
      "ls: cannot open directory '/home/jupyter-aiana178': Permission denied\n",
      "ls: cannot open directory '/home/jupyter-aigerimunisat': Permission denied\n",
      "ls: cannot open directory '/home/jupyter-aizadait': Permission denied\n",
      "ls: cannot open directory '/home/jupyter-amayakof': Permission denied\n",
      "ls: cannot open directory '/home/jupyter-amirkhan': Permission denied\n",
      "ls: cannot open directory '/home/jupyter-arayka': Permission denied\n",
      "/home/jupyter-aruzhan149:\n",
      " 14.txt    absd                neytron    t.png             Untitled6.ipynb\n",
      " 1.txt     absd.txt            neytrron   Untitled1.ipynb   Untitled.ipynb\n",
      " 2.txt     a.jpg               Noni       Untitled2.ipynb\n",
      " 3.txt     aleka               n.png      Untitled3.ipynb\n",
      " abc       Aroni               shared     Untitled4.ipynb\n",
      " abc.txt  'Home work1.ipynb'   Toni       Untitled5.ipynb\n",
      "ls: cannot open directory '/home/jupyter-aselleon': Permission denied\n",
      "ls: cannot open directory '/home/jupyter-azat': Permission denied\n"
     ]
    },
    {
     "ename": "",
     "evalue": "2",
     "output_type": "error",
     "traceback": []
    }
   ],
   "source": [
    "ls /home/jupyter-a*"
   ]
  },
  {
   "cell_type": "code",
   "execution_count": 48,
   "metadata": {},
   "outputs": [
    {
     "name": "stdout",
     "output_type": "stream",
     "text": [
      "ls: cannot open directory '/home/jupyter-unisat': Permission denied\n",
      "ls: cannot open directory '/home/jupyter-unisatkz': Permission denied\n"
     ]
    },
    {
     "ename": "",
     "evalue": "2",
     "output_type": "error",
     "traceback": []
    }
   ],
   "source": [
    "ls /home/jupyter-u*"
   ]
  },
  {
   "cell_type": "code",
   "execution_count": 50,
   "metadata": {},
   "outputs": [
    {
     "name": "stdout",
     "output_type": "stream",
     "text": [
      "bash                egrep       nc.openbsd     ss\n",
      "btrfs               false       netcat         static-sh\n",
      "btrfsck             fgconsole   netstat        stty\n",
      "btrfs-debug-tree    fgrep       networkctl     su\n",
      "btrfs-find-root     findmnt     nisdomainname  sync\n",
      "btrfs-image         fsck.btrfs  ntfs-3g        systemctl\n",
      "btrfs-map-logical   fuser       ntfs-3g.probe  systemd\n",
      "btrfs-select-super  fusermount  ntfscat        systemd-ask-password\n",
      "btrfstune           getfacl     ntfscluster    systemd-escape\n",
      "btrfs-zero-log      grep        ntfscmp        systemd-hwdb\n",
      "bunzip2             gunzip      ntfsfallocate  systemd-inhibit\n",
      "busybox             gzexe       ntfsfix        systemd-machine-id-setup\n",
      "bzcat               gzip        ntfsinfo       systemd-notify\n",
      "bzcmp               hostname    ntfsls         systemd-sysusers\n",
      "bzdiff              ip          ntfsmove       systemd-tmpfiles\n",
      "bzegrep             journalctl  ntfsrecover    systemd-tty-ask-password-agent\n",
      "bzexe               kbd_mode    ntfssecaudit   tar\n",
      "bzfgrep             kill        ntfstruncate   tempfile\n",
      "bzgrep              kmod        ntfsusermap    touch\n",
      "bzip2               less        ntfswipe       true\n",
      "bzip2recover        lessecho    open           udevadm\n",
      "bzless              lessfile    openvt         ulockmgr_server\n",
      "bzmore              lesskey     pidof          umount\n",
      "cat                 lesspipe    ping           uname\n",
      "chacl               ln          ping4          uncompress\n",
      "chgrp               loadkeys    ping6          unicode_start\n",
      "chmod               login       plymouth       vdir\n",
      "chown               loginctl    ps             wdctl\n",
      "chvt                lowntfs-3g  pwd            which\n",
      "cp                  ls          rbash          whiptail\n",
      "cpio                lsblk       readlink       ypdomainname\n",
      "dash                lsmod       red            zcat\n",
      "date                mkdir       rm             zcmp\n",
      "dd                  mkfs.btrfs  rmdir          zdiff\n",
      "df                  mknod       rnano          zegrep\n",
      "dir                 mktemp      run-parts      zfgrep\n",
      "dmesg               more        rzsh           zforce\n",
      "dnsdomainname       mount       sed            zgrep\n",
      "domainname          mountpoint  setfacl        zless\n",
      "dumpkeys            mt          setfont        zmore\n",
      "echo                mt-gnu      setupcon       znew\n",
      "ed                  mv          sh             zsh\n",
      "efibootdump         nano        sh.distrib     zsh5\n",
      "efibootmgr          nc          sleep\n"
     ]
    }
   ],
   "source": [
    "ls /bin"
   ]
  },
  {
   "cell_type": "code",
   "execution_count": 51,
   "metadata": {},
   "outputs": [
    {
     "name": "stdout",
     "output_type": "stream",
     "text": [
      "/bin/cat    /bin/chgrp  /bin/chown  /bin/cp\n",
      "/bin/chacl  /bin/chmod  /bin/chvt   /bin/cpio\n"
     ]
    }
   ],
   "source": [
    "ls /bin/c*"
   ]
  },
  {
   "cell_type": "code",
   "execution_count": 53,
   "metadata": {},
   "outputs": [
    {
     "name": "stdout",
     "output_type": "stream",
     "text": [
      "/home\n"
     ]
    }
   ],
   "source": [
    "pwd"
   ]
  },
  {
   "cell_type": "code",
   "execution_count": 54,
   "metadata": {},
   "outputs": [
    {
     "name": "stdout",
     "output_type": "stream",
     "text": [
      "'Aleka HM3.ipynb'         'Aruzhan Suleimenova.ipynb'   Untitled.ipynb\n",
      " alekaresume.txt           pirozhochek                  USK02.dio\n",
      " Aleka_USK_01_file.ipynb   Untitled1.ipynb\n",
      " Aleka_USK_02.ipynb        Untitled3.ipynb\n"
     ]
    }
   ],
   "source": [
    "ls /home/*/aleka"
   ]
  },
  {
   "cell_type": "code",
   "execution_count": 55,
   "metadata": {},
   "outputs": [
    {
     "name": "stdout",
     "output_type": "stream",
     "text": [
      "/home\n"
     ]
    }
   ],
   "source": [
    "pwd"
   ]
  },
  {
   "cell_type": "code",
   "execution_count": 57,
   "metadata": {},
   "outputs": [],
   "source": [
    "cd /home/*/aleka"
   ]
  },
  {
   "cell_type": "code",
   "execution_count": 58,
   "metadata": {},
   "outputs": [
    {
     "name": "stdout",
     "output_type": "stream",
     "text": [
      "/home/jupyter-aruzhan149/aleka\n"
     ]
    }
   ],
   "source": [
    "pwd"
   ]
  },
  {
   "cell_type": "code",
   "execution_count": 59,
   "metadata": {},
   "outputs": [],
   "source": [
    "cd .."
   ]
  },
  {
   "cell_type": "code",
   "execution_count": 60,
   "metadata": {},
   "outputs": [
    {
     "name": "stdout",
     "output_type": "stream",
     "text": [
      "/home/jupyter-aruzhan149\n"
     ]
    }
   ],
   "source": [
    "pwd"
   ]
  },
  {
   "cell_type": "code",
   "execution_count": 63,
   "metadata": {},
   "outputs": [
    {
     "name": "stdout",
     "output_type": "stream",
     "text": [
      " 14.txt    absd                neytron    t.png             Untitled6.ipynb\n",
      " 1.txt     absd.txt            neytrron   Untitled1.ipynb   Untitled.ipynb\n",
      " 2.txt     a.jpg               Noni       Untitled2.ipynb\n",
      " 3.txt     aleka               n.png      Untitled3.ipynb\n",
      " abc       Aroni               shared     Untitled4.ipynb\n",
      " abc.txt  'Home work1.ipynb'   Toni       Untitled5.ipynb\n"
     ]
    }
   ],
   "source": [
    "ls"
   ]
  },
  {
   "cell_type": "code",
   "execution_count": 71,
   "metadata": {},
   "outputs": [],
   "source": [
    "cd /home/*aruzhan149/aleka\n"
   ]
  },
  {
   "cell_type": "code",
   "execution_count": 72,
   "metadata": {},
   "outputs": [
    {
     "name": "stdout",
     "output_type": "stream",
     "text": [
      "/home/jupyter-aruzhan149/aleka\n"
     ]
    }
   ],
   "source": [
    "pwd"
   ]
  },
  {
   "cell_type": "code",
   "execution_count": 73,
   "metadata": {},
   "outputs": [],
   "source": [
    "# permission practice"
   ]
  },
  {
   "cell_type": "code",
   "execution_count": 74,
   "metadata": {},
   "outputs": [
    {
     "name": "stdout",
     "output_type": "stream",
     "text": [
      "azat                   jupyter-cubefiction    jupyter-official-nanakai\n",
      "jupyter-admin          jupyter-danenok        jupyter-orissim\n",
      "jupyter-aiana178       jupyter-darganius      jupyter-tsagynysh\n",
      "jupyter-aigerimunisat  jupyter-ekdana         jupyter-unisat\n",
      "jupyter-aizadait       jupyter-inkar601       jupyter-unisatkz\n",
      "jupyter-amayakof       jupyter-kkenzh         jupyter-yeldana\n",
      "jupyter-amirkhan       jupyter-nazymungarova  jupyter-zhandos\n",
      "jupyter-arayka         jupyter-nuray.serkali  jupyter-zhanelbaltabay\n",
      "jupyter-aruzhan149     jupyter-nurike         jupyter-zhannaspace\n",
      "jupyter-aselleon       jupyter-nurlaura\n",
      "jupyter-azat           jupyter-nurlaura2\n"
     ]
    }
   ],
   "source": [
    "ls /home"
   ]
  },
  {
   "cell_type": "code",
   "execution_count": 75,
   "metadata": {},
   "outputs": [],
   "source": [
    "cd /home/jupyter-aruzhan149"
   ]
  },
  {
   "cell_type": "code",
   "execution_count": 76,
   "metadata": {},
   "outputs": [
    {
     "name": "stdout",
     "output_type": "stream",
     "text": [
      "/home/jupyter-aruzhan149\n"
     ]
    }
   ],
   "source": [
    "pwd"
   ]
  },
  {
   "cell_type": "code",
   "execution_count": 77,
   "metadata": {},
   "outputs": [],
   "source": [
    "cd /home"
   ]
  },
  {
   "cell_type": "code",
   "execution_count": 78,
   "metadata": {},
   "outputs": [
    {
     "name": "stdout",
     "output_type": "stream",
     "text": [
      "total 124\n",
      "drwxr-xr-x 12 azat                     azat                     4096 Mar 18 01:23 azat\n",
      "drwxr-x---  8 jupyter-admin            jupyter-admin            4096 Mar 21 17:42 jupyter-admin\n",
      "drwxr-x---  8 jupyter-aiana178         jupyter-aiana178         4096 Apr  3 00:29 jupyter-aiana178\n",
      "drwxr-x--- 10 jupyter-aigerimunisat    jupyter-aigerimunisat    4096 Apr  3 19:25 jupyter-aigerimunisat\n",
      "drwxr-x---  8 jupyter-aizadait         jupyter-aizadait         4096 Mar 28 01:17 jupyter-aizadait\n",
      "drwxr-x--- 10 jupyter-amayakof         jupyter-amayakof         4096 Mar 31 23:59 jupyter-amayakof\n",
      "drwxr-x---  7 jupyter-amirkhan         jupyter-amirkhan         4096 Mar 21 13:40 jupyter-amirkhan\n",
      "drwxr-x---  4 jupyter-arayka           jupyter-arayka           4096 Mar 18 17:22 jupyter-arayka\n",
      "drwxr-x---  8 jupyter-aruzhan149       jupyter-aruzhan149       4096 Apr  3 23:37 jupyter-aruzhan149\n",
      "drwxr-x---  7 jupyter-aselleon         jupyter-aselleon         4096 Mar 23 19:08 jupyter-aselleon\n",
      "drwxr-x--- 12 jupyter-azat             jupyter-azat             4096 Mar 23 22:20 jupyter-azat\n",
      "drwxr-x--- 11 jupyter-cubefiction      jupyter-cubefiction      4096 Apr  2 17:47 jupyter-cubefiction\n",
      "drwxr-x--- 12 jupyter-danenok          jupyter-danenok          4096 Apr  3 22:44 jupyter-danenok\n",
      "drwxr-x---  7 jupyter-darganius        jupyter-darganius        4096 Mar 23 12:19 jupyter-darganius\n",
      "drwxr-x---  8 jupyter-ekdana           jupyter-ekdana           4096 Mar 28 12:22 jupyter-ekdana\n",
      "drwxr-x--- 10 jupyter-inkar601         jupyter-inkar601         4096 Mar 28 14:09 jupyter-inkar601\n",
      "drwxr-x--- 10 jupyter-kkenzh           jupyter-kkenzh           4096 Apr  2 18:49 jupyter-kkenzh\n",
      "drwxr-x---  7 jupyter-nazymungarova    jupyter-nazymungarova    4096 Mar 21 14:26 jupyter-nazymungarova\n",
      "drwxr-x---  7 jupyter-nuray.serkali    jupyter-nuray.serkali    4096 Mar 19 17:09 jupyter-nuray.serkali\n",
      "drwxr-x---  7 jupyter-nurike           jupyter-nurike           4096 Mar 24 04:56 jupyter-nurike\n",
      "drwxr-x---  8 jupyter-nurlaura         jupyter-nurlaura         4096 Mar 28 00:09 jupyter-nurlaura\n",
      "drwxr-x---  8 jupyter-nurlaura2        jupyter-nurlaura2        4096 Apr  2 01:29 jupyter-nurlaura2\n",
      "drwxr-x---  9 jupyter-official-nanakai jupyter-official-nanakai 4096 Apr  3 22:31 jupyter-official-nanakai\n",
      "drwxr-x---  9 jupyter-orissim          jupyter-orissim          4096 Apr  3 23:50 jupyter-orissim\n",
      "drwxr-x---  8 jupyter-tsagynysh        jupyter-tsagynysh        4096 Apr  1 17:39 jupyter-tsagynysh\n",
      "drwxr-x--- 15 jupyter-unisat           jupyter-unisat           4096 Apr  2 17:10 jupyter-unisat\n",
      "drwxr-x--- 11 jupyter-unisatkz         jupyter-unisatkz         4096 Apr  2 19:05 jupyter-unisatkz\n",
      "drwxr-x---  4 jupyter-yeldana          jupyter-yeldana          4096 Mar 23 16:17 jupyter-yeldana\n",
      "drwxr-x---  5 jupyter-zhandos          jupyter-zhandos          4096 Mar 23 12:19 jupyter-zhandos\n",
      "drwxr-x---  8 jupyter-zhanelbaltabay   jupyter-zhanelbaltabay   4096 Apr  2 14:23 jupyter-zhanelbaltabay\n",
      "drwxr-x---  9 jupyter-zhannaspace      jupyter-zhannaspace      4096 Apr  2 04:01 jupyter-zhannaspace\n"
     ]
    }
   ],
   "source": [
    "ls -l"
   ]
  },
  {
   "cell_type": "code",
   "execution_count": 79,
   "metadata": {},
   "outputs": [],
   "source": [
    "cd "
   ]
  },
  {
   "cell_type": "code",
   "execution_count": 80,
   "metadata": {},
   "outputs": [
    {
     "name": "stdout",
     "output_type": "stream",
     "text": [
      "/home/jupyter-aruzhan149\n"
     ]
    }
   ],
   "source": [
    "pwd"
   ]
  },
  {
   "cell_type": "code",
   "execution_count": 82,
   "metadata": {},
   "outputs": [
    {
     "name": "stdout",
     "output_type": "stream",
     "text": [
      "total 144\n",
      "-rw-r--r-- 1 jupyter-aruzhan149 jupyter-aruzhan149 23063 Apr  3 23:53 'Aleka HM3.ipynb'\n",
      "-rw-r--r-- 1 jupyter-aruzhan149 jupyter-aruzhan149     0 Mar 27 18:17  alekaresume.txt\n",
      "-rw-r--r-- 1 jupyter-aruzhan149 jupyter-aruzhan149 18086 Mar 28 11:57  Aleka_USK_01_file.ipynb\n",
      "-rw-r--r-- 1 jupyter-aruzhan149 jupyter-aruzhan149 18376 Apr  1 02:38  Aleka_USK_02.ipynb\n",
      "-rw-r--r-- 1 jupyter-aruzhan149 jupyter-aruzhan149 13016 Mar 27 16:21 'Aruzhan Suleimenova.ipynb'\n",
      "drwxr-xr-x 2 jupyter-aruzhan149 jupyter-aruzhan149  4096 Mar 26 15:26  pirozhochek\n",
      "-rw-r--r-- 1 jupyter-aruzhan149 jupyter-aruzhan149  5331 Apr  2 17:39  Untitled1.ipynb\n",
      "-rw-r--r-- 1 jupyter-aruzhan149 jupyter-aruzhan149 14140 Mar 29 16:42  Untitled3.ipynb\n",
      "-rw-r--r-- 1 jupyter-aruzhan149 jupyter-aruzhan149 13240 Mar 27 16:37  Untitled.ipynb\n",
      "-rw-r--r-- 1 jupyter-aruzhan149 jupyter-aruzhan149 17325 Apr  1 02:37  USK02.dio\n"
     ]
    }
   ],
   "source": [
    "ls -l aleka\n"
   ]
  },
  {
   "cell_type": "code",
   "execution_count": 83,
   "metadata": {},
   "outputs": [
    {
     "name": "stdout",
     "output_type": "stream",
     "text": [
      "-rw-r--r-- 1 jupyter-aruzhan149 jupyter-aruzhan149 0 Apr  3 23:22 Aroni\n"
     ]
    }
   ],
   "source": [
    "ls -l Aroni"
   ]
  },
  {
   "cell_type": "code",
   "execution_count": 84,
   "metadata": {},
   "outputs": [],
   "source": [
    "chmod u-w Aroni"
   ]
  },
  {
   "cell_type": "code",
   "execution_count": 85,
   "metadata": {},
   "outputs": [
    {
     "name": "stdout",
     "output_type": "stream",
     "text": [
      "-r--r--r-- 1 jupyter-aruzhan149 jupyter-aruzhan149 0 Apr  3 23:22 Aroni\n"
     ]
    }
   ],
   "source": [
    "ls -l Aroni"
   ]
  },
  {
   "cell_type": "code",
   "execution_count": 86,
   "metadata": {},
   "outputs": [],
   "source": [
    "chmod o+w Aroni"
   ]
  },
  {
   "cell_type": "code",
   "execution_count": 87,
   "metadata": {},
   "outputs": [
    {
     "name": "stdout",
     "output_type": "stream",
     "text": [
      "-r--r--rw- 1 jupyter-aruzhan149 jupyter-aruzhan149 0 Apr  3 23:22 Aroni\n"
     ]
    }
   ],
   "source": [
    "ls -l Aroni"
   ]
  },
  {
   "cell_type": "code",
   "execution_count": 88,
   "metadata": {},
   "outputs": [],
   "source": [
    "chmod o-w Aroni"
   ]
  },
  {
   "cell_type": "code",
   "execution_count": 89,
   "metadata": {},
   "outputs": [
    {
     "name": "stdout",
     "output_type": "stream",
     "text": [
      "-r--r--r-- 1 jupyter-aruzhan149 jupyter-aruzhan149 0 Apr  3 23:22 Aroni\n"
     ]
    }
   ],
   "source": [
    "ls -l Aroni"
   ]
  },
  {
   "cell_type": "code",
   "execution_count": 90,
   "metadata": {},
   "outputs": [],
   "source": [
    "chmod u+wrx Aroni"
   ]
  },
  {
   "cell_type": "code",
   "execution_count": 91,
   "metadata": {},
   "outputs": [
    {
     "name": "stdout",
     "output_type": "stream",
     "text": [
      "-rwxr--r-- 1 jupyter-aruzhan149 jupyter-aruzhan149 0 Apr  3 23:22 Aroni\n"
     ]
    }
   ],
   "source": [
    "ls -l Aroni\n"
   ]
  },
  {
   "cell_type": "code",
   "execution_count": 92,
   "metadata": {},
   "outputs": [
    {
     "name": "stdout",
     "output_type": "stream",
     "text": [
      "CHMOD(1)                         User Commands                        CHMOD(1)\n",
      "\n",
      "NAME\n",
      "       chmod - change file mode bits\n",
      "\n",
      "SYNOPSIS\n",
      "       chmod [OPTION]... MODE[,MODE]... FILE...\n",
      "       chmod [OPTION]... OCTAL-MODE FILE...\n",
      "       chmod [OPTION]... --reference=RFILE FILE...\n",
      "\n",
      "DESCRIPTION\n",
      "       This manual page documents the GNU version of chmod.  chmod changes the\n",
      "       file mode bits of each given file  according  to  mode,  which  can  be\n",
      "       either a symbolic representation of changes to make, or an octal number\n",
      "       representing the bit pattern for the new mode bits.\n",
      "\n",
      "       The format of a symbolic mode is  [ugoa...][[-+=][perms...]...],  where\n",
      "       perms  is  either zero or more letters from the set rwxXst, or a single\n",
      "       letter from the set ugo.  Multiple symbolic modes can be  given,  sepa‐\n",
      "       rated by commas.\n",
      "\n",
      "       A  combination  of the letters ugoa controls which users' access to the\n",
      "       file will be changed: the user who owns it  (u),  other  users  in  the\n",
      "       file's group (g), other users not in the file's group (o), or all users\n",
      "       (a).  If none of these are given, the effect is as if (a)  were  given,\n",
      "       but bits that are set in the umask are not affected.\n",
      "\n",
      "       The  operator  +  causes the selected file mode bits to be added to the\n",
      "       existing file mode bits of each file; - causes them to be removed;  and\n",
      "       =  causes  them  to  be added and causes unmentioned bits to be removed\n",
      "       except that a directory's unmentioned set user and group  ID  bits  are\n",
      "       not affected.\n",
      "\n",
      "       The  letters  rwxXst select file mode bits for the affected users: read\n",
      "       (r), write (w), execute (or search for directories) (x), execute/search\n",
      "       only  if  the file is a directory or already has execute permission for\n",
      "       some user (X), set user or group ID on execution (s), restricted  dele‐\n",
      "       tion  flag or sticky bit (t).  Instead of one or more of these letters,\n",
      "       you can specify exactly one of the letters ugo: the permissions granted\n",
      "       to  the  user  who  owns the file (u), the permissions granted to other\n",
      "       users who are members of the file's  group  (g),  and  the  permissions\n",
      "       granted  to  users  that are in neither of the two preceding categories\n",
      "       (o).\n",
      "\n",
      "       A numeric mode is from one to  four  octal  digits  (0-7),  derived  by\n",
      "       adding up the bits with values 4, 2, and 1.  Omitted digits are assumed\n",
      "       to be leading zeros.  The first digit selects the set user ID  (4)  and\n",
      "       set group ID (2) and restricted deletion or sticky (1) attributes.  The\n",
      "       second digit selects permissions for the user who owns the  file:  read\n",
      "       (4),  write  (2),  and  execute  (1); the third selects permissions for\n",
      "       other users in the file's group, with the same values; and  the  fourth\n",
      "       for other users not in the file's group, with the same values.\n",
      "\n",
      "       chmod never changes the permissions of symbolic links; the chmod system\n",
      "       call cannot change their permissions.  This is not a problem since  the\n",
      "       permissions  of  symbolic links are never used.  However, for each sym‐\n",
      "       bolic link listed on the command line, chmod changes the permissions of\n",
      "       the pointed-to file.  In contrast, chmod ignores symbolic links encoun‐\n",
      "       tered during recursive directory traversals.\n",
      "\n",
      "SETUID AND SETGID BITS\n",
      "       chmod clears the set-group-ID bit of a regular file if the file's group\n",
      "       ID  does  not  match the user's effective group ID or one of the user's\n",
      "       supplementary group IDs, unless the user  has  appropriate  privileges.\n",
      "       Additional restrictions may cause the set-user-ID and set-group-ID bits\n",
      "       of MODE or RFILE to be ignored.  This behavior depends  on  the  policy\n",
      "       and  functionality of the underlying chmod system call.  When in doubt,\n",
      "       check the underlying system behavior.\n",
      "\n",
      "       chmod preserves a directory's set-user-ID and set-group-ID bits  unless\n",
      "       you  explicitly  specify otherwise.  You can set or clear the bits with\n",
      "       symbolic modes like u+s and g-s, and you can set (but  not  clear)  the\n",
      "       bits with a numeric mode.\n",
      "\n",
      "RESTRICTED DELETION FLAG OR STICKY BIT\n",
      "       The  restricted  deletion  flag  or  sticky  bit is a single bit, whose\n",
      "       interpretation depends on the file type.  For directories, it  prevents\n",
      "       unprivileged  users  from  removing or renaming a file in the directory\n",
      "       unless they  own  the  file  or  the  directory;  this  is  called  the\n",
      "       restricted  deletion  flag  for the directory, and is commonly found on\n",
      "       world-writable directories like /tmp.  For regular files on some  older\n",
      "       systems,  the  bit saves the program's text image on the swap device so\n",
      "       it will load more quickly when run; this is called the sticky bit.\n",
      "\n",
      "OPTIONS\n",
      "       Change the mode of each FILE to MODE.   With  --reference,  change  the\n",
      "       mode of each FILE to that of RFILE.\n",
      "\n",
      "       -c, --changes\n",
      "              like verbose but report only when a change is made\n",
      "\n",
      "       -f, --silent, --quiet\n",
      "              suppress most error messages\n",
      "\n",
      "       -v, --verbose\n",
      "              output a diagnostic for every file processed\n",
      "\n",
      "       --no-preserve-root\n",
      "              do not treat '/' specially (the default)\n",
      "\n",
      "       --preserve-root\n",
      "              fail to operate recursively on '/'\n",
      "\n",
      "       --reference=RFILE\n",
      "              use RFILE's mode instead of MODE values\n",
      "\n",
      "       -R, --recursive\n",
      "              change files and directories recursively\n",
      "\n",
      "       --help display this help and exit\n",
      "\n",
      "       --version\n",
      "              output version information and exit\n",
      "\n",
      "       Each           MODE           is          of          the          form\n",
      "       '[ugoa]*([-+=]([rwxXst]*|[ugo]))+|[-+=][0-7]+'.\n",
      "\n",
      "AUTHOR\n",
      "       Written by David MacKenzie and Jim Meyering.\n",
      "\n",
      "REPORTING BUGS\n",
      "       GNU coreutils online help: <http://www.gnu.org/software/coreutils/>\n",
      "       Report chmod translation bugs to <http://translationproject.org/team/>\n",
      "\n",
      "COPYRIGHT\n",
      "       Copyright © 2017 Free Software Foundation, Inc.   License  GPLv3+:  GNU\n",
      "       GPL version 3 or later <http://gnu.org/licenses/gpl.html>.\n",
      "       This  is  free  software:  you  are free to change and redistribute it.\n",
      "       There is NO WARRANTY, to the extent permitted by law.\n",
      "\n",
      "SEE ALSO\n",
      "       chmod(2)\n",
      "\n",
      "       Full documentation at: <http://www.gnu.org/software/coreutils/chmod>\n",
      "       or available locally via: info '(coreutils) chmod invocation'\n",
      "\n",
      "GNU coreutils 8.28               January 2018                         CHMOD(1)\n"
     ]
    }
   ],
   "source": [
    "man chmod"
   ]
  },
  {
   "cell_type": "code",
   "execution_count": 93,
   "metadata": {},
   "outputs": [],
   "source": [
    "# I've learned to use commands:\n",
    "# pwd (shows present working directory)\n",
    "# ls, ls-a, ls-l\n",
    "# cd (root directory), cd.., cd./../.. and etc\n",
    "# touch (create new files)\n",
    "# man (manual description of commands)\n",
    "# and i've learned how to use wildcards such as [] , * , ?. "
   ]
  },
  {
   "cell_type": "code",
   "execution_count": 94,
   "metadata": {},
   "outputs": [
    {
     "name": "stdout",
     "output_type": "stream",
     "text": [
      "Sat Apr  4 00:06:52 UTC 2020\n"
     ]
    }
   ],
   "source": [
    "date"
   ]
  },
  {
   "cell_type": "code",
   "execution_count": null,
   "metadata": {},
   "outputs": [],
   "source": []
  }
 ],
 "metadata": {
  "kernelspec": {
   "display_name": "Bash",
   "language": "bash",
   "name": "bash"
  },
  "language_info": {
   "codemirror_mode": "shell",
   "file_extension": ".sh",
   "mimetype": "text/x-sh",
   "name": "bash"
  }
 },
 "nbformat": 4,
 "nbformat_minor": 4
}
