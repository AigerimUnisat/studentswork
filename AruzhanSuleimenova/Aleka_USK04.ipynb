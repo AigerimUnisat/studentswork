{
 "cells": [
  {
   "cell_type": "code",
   "execution_count": 1,
   "metadata": {},
   "outputs": [],
   "source": [
    "# practice\n"
   ]
  },
  {
   "cell_type": "code",
   "execution_count": 2,
   "metadata": {},
   "outputs": [],
   "source": [
    "# numbers"
   ]
  },
  {
   "cell_type": "code",
   "execution_count": 4,
   "metadata": {},
   "outputs": [],
   "source": [
    "# binary\n",
    " # 0 --- 000 (no read no write no execute)\n",
    " # 1 --- 001 (no read no write execute)\n",
    " # 2 --- 010 (no read write no execute)\n",
    " # 3 --- 011 (no read write execute)\n",
    " # 4 --- 100 (read no write execute)\n",
    " # 5 --- 101 (read no write execute)\n",
    " # 6 --- 110 (read write no execute)\n",
    " # 7 --- 111 (read write execute)\n"
   ]
  },
  {
   "cell_type": "code",
   "execution_count": 5,
   "metadata": {},
   "outputs": [],
   "source": [
    "touch luleiko"
   ]
  },
  {
   "cell_type": "code",
   "execution_count": 6,
   "metadata": {},
   "outputs": [
    {
     "name": "stdout",
     "output_type": "stream",
     "text": [
      "-rw-r--r-- 1 jupyter-aruzhan149 jupyter-aruzhan149 0 Apr  5 22:23 luleiko\n"
     ]
    }
   ],
   "source": [
    "ls -l luleiko"
   ]
  },
  {
   "cell_type": "code",
   "execution_count": 7,
   "metadata": {},
   "outputs": [],
   "source": [
    "# change permission: user can rwx/ group can w/ other can r\n",
    "# 111010100 --- 734"
   ]
  },
  {
   "cell_type": "code",
   "execution_count": 13,
   "metadata": {},
   "outputs": [],
   "source": [
    "chmod 724 luleiko"
   ]
  },
  {
   "cell_type": "code",
   "execution_count": 14,
   "metadata": {},
   "outputs": [
    {
     "name": "stdout",
     "output_type": "stream",
     "text": [
      "-rwx-w-r-- 1 jupyter-aruzhan149 jupyter-aruzhan149 0 Apr  5 22:23 luleiko\n"
     ]
    }
   ],
   "source": [
    "ls -l luleiko\n",
    "\n"
   ]
  },
  {
   "cell_type": "code",
   "execution_count": 11,
   "metadata": {},
   "outputs": [],
   "source": [
    "chmod 562 luleiko"
   ]
  },
  {
   "cell_type": "code",
   "execution_count": 12,
   "metadata": {},
   "outputs": [
    {
     "name": "stdout",
     "output_type": "stream",
     "text": [
      "-r-xrw--w- 1 jupyter-aruzhan149 jupyter-aruzhan149 0 Apr  5 22:23 luleiko\n"
     ]
    }
   ],
   "source": [
    "ls -l luleiko"
   ]
  },
  {
   "cell_type": "code",
   "execution_count": 15,
   "metadata": {},
   "outputs": [],
   "source": [
    "# change permission u-r g-wx o-x\n",
    "# 100011001 --- 431"
   ]
  },
  {
   "cell_type": "code",
   "execution_count": 16,
   "metadata": {},
   "outputs": [],
   "source": [
    "chmod 431 luleiko\n"
   ]
  },
  {
   "cell_type": "code",
   "execution_count": 17,
   "metadata": {},
   "outputs": [
    {
     "name": "stdout",
     "output_type": "stream",
     "text": [
      "-r---wx--x 1 jupyter-aruzhan149 jupyter-aruzhan149 0 Apr  5 22:23 luleiko\n"
     ]
    }
   ],
   "source": [
    "ls -l luleiko\n"
   ]
  },
  {
   "cell_type": "code",
   "execution_count": 18,
   "metadata": {},
   "outputs": [],
   "source": [
    "# practice DIR\n"
   ]
  },
  {
   "cell_type": "code",
   "execution_count": 20,
   "metadata": {},
   "outputs": [
    {
     "name": "stdout",
     "output_type": "stream",
     "text": [
      "/home/jupyter-aruzhan149/aleka\n"
     ]
    }
   ],
   "source": [
    "pwd"
   ]
  },
  {
   "cell_type": "code",
   "execution_count": 21,
   "metadata": {},
   "outputs": [],
   "source": [
    "ls pirozhochek"
   ]
  },
  {
   "cell_type": "code",
   "execution_count": 22,
   "metadata": {},
   "outputs": [
    {
     "name": "stdout",
     "output_type": "stream",
     "text": [
      "pirozhochek: directory\n"
     ]
    }
   ],
   "source": [
    "file pirozhochek"
   ]
  },
  {
   "cell_type": "code",
   "execution_count": 23,
   "metadata": {},
   "outputs": [
    {
     "name": "stdout",
     "output_type": "stream",
     "text": [
      "total 0\n"
     ]
    }
   ],
   "source": [
    "ls -l pirozhochek"
   ]
  },
  {
   "cell_type": "code",
   "execution_count": 24,
   "metadata": {},
   "outputs": [],
   "source": [
    "touch boni"
   ]
  },
  {
   "cell_type": "code",
   "execution_count": 25,
   "metadata": {},
   "outputs": [],
   "source": [
    "touch moni"
   ]
  },
  {
   "cell_type": "code",
   "execution_count": 26,
   "metadata": {},
   "outputs": [],
   "source": [
    "touch joni"
   ]
  },
  {
   "cell_type": "code",
   "execution_count": 27,
   "metadata": {},
   "outputs": [
    {
     "name": "stdout",
     "output_type": "stream",
     "text": [
      "'Aleka HM3.ipynb'         'Aruzhan Suleimenova.ipynb'   pirozhochek\n",
      " alekaresume.txt           boni                         Untitled1.ipynb\n",
      " Aleka_USK_01_file.ipynb   joni                         Untitled3.ipynb\n",
      " Aleka_USK_02.ipynb        luleiko                      Untitled.ipynb\n",
      " Aleka_USK04.ipynb         moni                         USK02.dio\n"
     ]
    }
   ],
   "source": [
    "ls"
   ]
  },
  {
   "cell_type": "code",
   "execution_count": 28,
   "metadata": {},
   "outputs": [],
   "source": [
    "cd pirozhochek"
   ]
  },
  {
   "cell_type": "code",
   "execution_count": 29,
   "metadata": {},
   "outputs": [],
   "source": [
    "touch moni"
   ]
  },
  {
   "cell_type": "code",
   "execution_count": 30,
   "metadata": {},
   "outputs": [],
   "source": [
    "touch joni"
   ]
  },
  {
   "cell_type": "code",
   "execution_count": 31,
   "metadata": {},
   "outputs": [],
   "source": [
    "touch boni"
   ]
  },
  {
   "cell_type": "code",
   "execution_count": 32,
   "metadata": {},
   "outputs": [
    {
     "name": "stdout",
     "output_type": "stream",
     "text": [
      "boni  joni  moni\n"
     ]
    }
   ],
   "source": [
    "ls\n"
   ]
  },
  {
   "cell_type": "code",
   "execution_count": 33,
   "metadata": {},
   "outputs": [],
   "source": [
    "cd .."
   ]
  },
  {
   "cell_type": "code",
   "execution_count": 34,
   "metadata": {},
   "outputs": [
    {
     "name": "stdout",
     "output_type": "stream",
     "text": [
      "total 0\n",
      "-rw-r--r-- 1 jupyter-aruzhan149 jupyter-aruzhan149 0 Apr  5 22:35 boni\n",
      "-rw-r--r-- 1 jupyter-aruzhan149 jupyter-aruzhan149 0 Apr  5 22:35 joni\n",
      "-rw-r--r-- 1 jupyter-aruzhan149 jupyter-aruzhan149 0 Apr  5 22:35 moni\n"
     ]
    }
   ],
   "source": [
    "ls -l pirozhochek"
   ]
  },
  {
   "cell_type": "code",
   "execution_count": 36,
   "metadata": {},
   "outputs": [],
   "source": [
    "chmod 400 pirozhochek"
   ]
  },
  {
   "cell_type": "code",
   "execution_count": 37,
   "metadata": {},
   "outputs": [],
   "source": [
    "# 400 --- 100000000 (u can read, g and o nothing)"
   ]
  },
  {
   "cell_type": "code",
   "execution_count": 38,
   "metadata": {},
   "outputs": [
    {
     "name": "stdout",
     "output_type": "stream",
     "text": [
      "ls: cannot access 'pirozhochek/moni': Permission denied\n",
      "ls: cannot access 'pirozhochek/joni': Permission denied\n",
      "ls: cannot access 'pirozhochek/boni': Permission denied\n",
      "total 0\n",
      "-????????? ? ? ? ?            ? boni\n",
      "-????????? ? ? ? ?            ? joni\n",
      "-????????? ? ? ? ?            ? moni\n"
     ]
    },
    {
     "ename": "",
     "evalue": "1",
     "output_type": "error",
     "traceback": []
    }
   ],
   "source": [
    "ls -l pirozhochek"
   ]
  },
  {
   "cell_type": "code",
   "execution_count": 39,
   "metadata": {},
   "outputs": [],
   "source": [
    "chmod 100 pirozhochek"
   ]
  },
  {
   "cell_type": "code",
   "execution_count": 40,
   "metadata": {},
   "outputs": [],
   "source": [
    "# 100---001000000 "
   ]
  },
  {
   "cell_type": "code",
   "execution_count": 41,
   "metadata": {},
   "outputs": [
    {
     "name": "stdout",
     "output_type": "stream",
     "text": [
      "ls: cannot open directory 'pirozhochek': Permission denied\n"
     ]
    },
    {
     "ename": "",
     "evalue": "2",
     "output_type": "error",
     "traceback": []
    }
   ],
   "source": [
    "ls -l pirozhochek"
   ]
  },
  {
   "cell_type": "code",
   "execution_count": 42,
   "metadata": {},
   "outputs": [],
   "source": [
    "chmod 700 pirozhochek"
   ]
  },
  {
   "cell_type": "code",
   "execution_count": 43,
   "metadata": {},
   "outputs": [
    {
     "name": "stdout",
     "output_type": "stream",
     "text": [
      "total 0\n",
      "-rw-r--r-- 1 jupyter-aruzhan149 jupyter-aruzhan149 0 Apr  5 22:35 boni\n",
      "-rw-r--r-- 1 jupyter-aruzhan149 jupyter-aruzhan149 0 Apr  5 22:35 joni\n",
      "-rw-r--r-- 1 jupyter-aruzhan149 jupyter-aruzhan149 0 Apr  5 22:35 moni\n"
     ]
    }
   ],
   "source": [
    "ls -l pirozhochek"
   ]
  },
  {
   "cell_type": "code",
   "execution_count": 44,
   "metadata": {},
   "outputs": [],
   "source": [
    "chmod 500 pirozhochek # 500 --- 101000000"
   ]
  },
  {
   "cell_type": "code",
   "execution_count": 45,
   "metadata": {},
   "outputs": [
    {
     "name": "stdout",
     "output_type": "stream",
     "text": [
      "/home/jupyter-aruzhan149/aleka\n"
     ]
    }
   ],
   "source": [
    "pwd"
   ]
  },
  {
   "cell_type": "code",
   "execution_count": 46,
   "metadata": {},
   "outputs": [],
   "source": [
    "cd pirozhochek"
   ]
  },
  {
   "cell_type": "code",
   "execution_count": 47,
   "metadata": {},
   "outputs": [
    {
     "name": "stdout",
     "output_type": "stream",
     "text": [
      "touch: cannot touch 'toni': Permission denied\n"
     ]
    },
    {
     "ename": "",
     "evalue": "1",
     "output_type": "error",
     "traceback": []
    }
   ],
   "source": [
    "touch toni"
   ]
  },
  {
   "cell_type": "code",
   "execution_count": 49,
   "metadata": {},
   "outputs": [
    {
     "name": "stdout",
     "output_type": "stream",
     "text": [
      "/home/jupyter-aruzhan149/aleka/pirozhochek\n"
     ]
    }
   ],
   "source": [
    "pwd"
   ]
  },
  {
   "cell_type": "code",
   "execution_count": 50,
   "metadata": {},
   "outputs": [],
   "source": [
    "cd .."
   ]
  },
  {
   "cell_type": "code",
   "execution_count": 51,
   "metadata": {},
   "outputs": [],
   "source": [
    "chmod 700 pirozhochek"
   ]
  },
  {
   "cell_type": "code",
   "execution_count": 52,
   "metadata": {},
   "outputs": [],
   "source": [
    "# practice filters"
   ]
  },
  {
   "cell_type": "code",
   "execution_count": 53,
   "metadata": {},
   "outputs": [
    {
     "name": "stdout",
     "output_type": "stream",
     "text": [
      "/home/jupyter-aruzhan149/aleka\n"
     ]
    }
   ],
   "source": [
    "pwd"
   ]
  },
  {
   "cell_type": "code",
   "execution_count": 54,
   "metadata": {},
   "outputs": [
    {
     "name": "stdout",
     "output_type": "stream",
     "text": [
      "luleiko.txt\n"
     ]
    }
   ],
   "source": [
    "ls luleiko.txt"
   ]
  },
  {
   "cell_type": "code",
   "execution_count": 59,
   "metadata": {},
   "outputs": [
    {
     "name": "stdout",
     "output_type": "stream",
     "text": [
      "luleiko.txt: empty\n"
     ]
    }
   ],
   "source": [
    "file luleiko.txt"
   ]
  },
  {
   "cell_type": "code",
   "execution_count": 61,
   "metadata": {},
   "outputs": [],
   "source": [
    "head luleiko.txt"
   ]
  },
  {
   "cell_type": "code",
   "execution_count": 62,
   "metadata": {},
   "outputs": [
    {
     "name": "stdout",
     "output_type": "stream",
     "text": [
      "luleiko.txt: empty\n"
     ]
    }
   ],
   "source": [
    "file luleiko.txt"
   ]
  },
  {
   "cell_type": "code",
   "execution_count": 63,
   "metadata": {},
   "outputs": [
    {
     "name": "stdout",
     "output_type": "stream",
     "text": [
      "/home/jupyter-aruzhan149/aleka\n"
     ]
    }
   ],
   "source": [
    "pwd"
   ]
  },
  {
   "cell_type": "code",
   "execution_count": 64,
   "metadata": {},
   "outputs": [
    {
     "name": "stdout",
     "output_type": "stream",
     "text": [
      "luleiko.txt\n"
     ]
    }
   ],
   "source": [
    "ls luleiko.txt"
   ]
  },
  {
   "cell_type": "code",
   "execution_count": 65,
   "metadata": {},
   "outputs": [],
   "source": [
    "chmod 700 luleiko.txt"
   ]
  },
  {
   "cell_type": "code",
   "execution_count": 66,
   "metadata": {},
   "outputs": [],
   "source": [
    "cd .."
   ]
  },
  {
   "cell_type": "code",
   "execution_count": 67,
   "metadata": {},
   "outputs": [
    {
     "name": "stdout",
     "output_type": "stream",
     "text": [
      "/home/jupyter-aruzhan149\n"
     ]
    }
   ],
   "source": [
    "pwd"
   ]
  },
  {
   "cell_type": "code",
   "execution_count": 68,
   "metadata": {},
   "outputs": [
    {
     "name": "stdout",
     "output_type": "stream",
     "text": [
      "luleiko.txt: cannot open `luleiko.txt' (No such file or directory)\n"
     ]
    }
   ],
   "source": [
    "file luleiko.txt"
   ]
  },
  {
   "cell_type": "code",
   "execution_count": 70,
   "metadata": {},
   "outputs": [],
   "source": [
    "cd aleka"
   ]
  },
  {
   "cell_type": "code",
   "execution_count": 72,
   "metadata": {},
   "outputs": [
    {
     "name": "stdout",
     "output_type": "stream",
     "text": [
      "luleiko.txt: empty\n"
     ]
    }
   ],
   "source": [
    "file luleiko.txt"
   ]
  },
  {
   "cell_type": "code",
   "execution_count": 73,
   "metadata": {},
   "outputs": [],
   "source": [
    "cd"
   ]
  },
  {
   "cell_type": "code",
   "execution_count": 75,
   "metadata": {},
   "outputs": [
    {
     "name": "stdout",
     "output_type": "stream",
     "text": [
      " 1.txt     absd.txt            neytron    t.png             Untitled6.ipynb\n",
      " 2.txt     a.jpg               neytrron   Untitled1.ipynb   Untitled.ipynb\n",
      " 3.txt     aleka               Noni       Untitled2.ipynb\n",
      " abc       Aroni               n.png      Untitled3.ipynb\n",
      " abc.txt  'Home work1.ipynb'   shared     Untitled4.ipynb\n",
      " absd      luleiko.txt         Toni       Untitled5.ipynb\n"
     ]
    }
   ],
   "source": [
    "ls"
   ]
  },
  {
   "cell_type": "code",
   "execution_count": 78,
   "metadata": {},
   "outputs": [
    {
     "name": "stdout",
     "output_type": "stream",
     "text": [
      "luleiko.txt: ASCII text\n"
     ]
    }
   ],
   "source": [
    "file luleiko.txt"
   ]
  },
  {
   "cell_type": "code",
   "execution_count": 79,
   "metadata": {},
   "outputs": [
    {
     "name": "stdout",
     "output_type": "stream",
     "text": [
      "hello hello hello hello hello\n",
      "bye-bye bye-bye bye-bye bye-bye\n",
      "book book book book book book \n",
      "red red red red red red red red \n",
      "math math math math math math math \n",
      "physics physics physics physics physics\n",
      "learn learn learn learn learn learn learn\n",
      "change change change change change change\n",
      "eat eat eat eat eat eat eat eat eat eat eat\n",
      "sleep sleep sleep sleep sleep sleep sleep \n"
     ]
    }
   ],
   "source": [
    "head luleiko.txt"
   ]
  },
  {
   "cell_type": "code",
   "execution_count": 80,
   "metadata": {},
   "outputs": [
    {
     "name": "stdout",
     "output_type": "stream",
     "text": [
      "hello hello hello hello hello\n",
      "bye-bye bye-bye bye-bye bye-bye\n",
      "book book book book book book \n",
      "red red red red red red red red \n",
      "math math math math math math math \n"
     ]
    }
   ],
   "source": [
    "head -5 luleiko.txt"
   ]
  },
  {
   "cell_type": "code",
   "execution_count": 81,
   "metadata": {},
   "outputs": [
    {
     "name": "stdout",
     "output_type": "stream",
     "text": [
      "bye-bye bye-bye bye-bye bye-bye\n",
      "book book book book book book \n",
      "red red red red red red red red \n",
      "math math math math math math math \n",
      "physics physics physics physics physics\n",
      "learn learn learn learn learn learn learn\n",
      "change change change change change change\n",
      "eat eat eat eat eat eat eat eat eat eat eat\n",
      "sleep sleep sleep sleep sleep sleep sleep \n",
      "good good good good good good good good  "
     ]
    }
   ],
   "source": [
    "tail luleiko.txt"
   ]
  },
  {
   "cell_type": "code",
   "execution_count": 82,
   "metadata": {},
   "outputs": [
    {
     "name": "stdout",
     "output_type": "stream",
     "text": [
      "learn learn learn learn learn learn learn\n",
      "change change change change change change\n",
      "eat eat eat eat eat eat eat eat eat eat eat\n",
      "sleep sleep sleep sleep sleep sleep sleep \n",
      "good good good good good good good good  "
     ]
    }
   ],
   "source": [
    "tail -5 luleiko.txt"
   ]
  },
  {
   "cell_type": "code",
   "execution_count": 83,
   "metadata": {},
   "outputs": [
    {
     "name": "stdout",
     "output_type": "stream",
     "text": [
      "hello hello hello hello hello\n",
      "bye-bye bye-bye bye-bye bye-bye\n",
      "book book book book book book \n",
      "red red red red red red red red \n",
      "math math math math math math math \n",
      "physics physics physics physics physics\n",
      "learn learn learn learn learn learn learn\n",
      "change change change change change change\n",
      "eat eat eat eat eat eat eat eat eat eat eat\n",
      "sleep sleep sleep sleep sleep sleep sleep \n",
      "good good good good good good good good \n",
      "hello hello hello hello hello\n",
      "bye-bye bye-bye bye-bye bye-bye\n",
      "book book book book book book \n",
      "red red red red red red red red \n",
      "math math math math math math math \n",
      "physics physics physics physics physics\n",
      "learn learn learn learn learn learn learn\n",
      "change change change change change change\n",
      "eat eat eat eat eat eat eat eat eat eat eat\n",
      "sleep sleep sleep sleep sleep sleep sleep \n",
      "good good good good good good good good hello hello hello hello hello\n",
      "bye-bye bye-bye bye-bye bye-bye\n",
      "book book book book book book \n",
      "red red red red red red red red \n",
      "math math math math math math math \n",
      "physics physics physics physics physics\n",
      "learn learn learn learn learn learn learn\n",
      "change change change change change change\n",
      "eat eat eat eat eat eat eat eat eat eat eat\n",
      "sleep sleep sleep sleep sleep sleep sleep \n",
      "good good good good good good good good hello hello hello hello hello\n",
      "bye-bye bye-bye bye-bye bye-bye\n",
      "book book book book book book \n",
      "red red red red red red red red \n",
      "math math math math math math math \n",
      "physics physics physics physics physics\n",
      "learn learn learn learn learn learn learn\n",
      "change change change change change change\n",
      "eat eat eat eat eat eat eat eat eat eat eat\n",
      "sleep sleep sleep sleep sleep sleep sleep \n",
      "good good good good good good good good hello hello hello hello hello\n",
      "bye-bye bye-bye bye-bye bye-bye\n",
      "book book book book book book \n",
      "red red red red red red red red \n",
      "math math math math math math math \n",
      "physics physics physics physics physics\n",
      "learn learn learn learn learn learn learn\n",
      "change change change change change change\n",
      "eat eat eat eat eat eat eat eat eat eat eat\n",
      "sleep sleep sleep sleep sleep sleep sleep \n",
      "good good good good good good good good hello hello hello hello hello\n",
      "bye-bye bye-bye bye-bye bye-bye\n",
      "book book book book book book \n",
      "red red red red red red red red \n",
      "math math math math math math math \n",
      "physics physics physics physics physics\n",
      "learn learn learn learn learn learn learn\n",
      "change change change change change change\n",
      "eat eat eat eat eat eat eat eat eat eat eat\n",
      "sleep sleep sleep sleep sleep sleep sleep \n",
      "good good good good good good good good hello hello hello hello hello\n",
      "bye-bye bye-bye bye-bye bye-bye\n",
      "book book book book book book \n",
      "red red red red red red red red \n",
      "math math math math math math math \n",
      "physics physics physics physics physics\n",
      "learn learn learn learn learn learn learn\n",
      "change change change change change change\n",
      "eat eat eat eat eat eat eat eat eat eat eat\n",
      "sleep sleep sleep sleep sleep sleep sleep \n",
      "good good good good good good good good hello hello hello hello hello\n",
      "bye-bye bye-bye bye-bye bye-bye\n",
      "book book book book book book \n",
      "red red red red red red red red \n",
      "math math math math math math math \n",
      "physics physics physics physics physics\n",
      "learn learn learn learn learn learn learn\n",
      "change change change change change change\n",
      "eat eat eat eat eat eat eat eat eat eat eat\n",
      "sleep sleep sleep sleep sleep sleep sleep \n",
      "good good good good good good good good hello hello hello hello hello\n",
      "bye-bye bye-bye bye-bye bye-bye\n",
      "book book book book book book \n",
      "red red red red red red red red \n",
      "math math math math math math math \n",
      "physics physics physics physics physics\n",
      "learn learn learn learn learn learn learn\n",
      "change change change change change change\n",
      "eat eat eat eat eat eat eat eat eat eat eat\n",
      "sleep sleep sleep sleep sleep sleep sleep \n",
      "good good good good good good good good hello hello hello hello hello\n",
      "bye-bye bye-bye bye-bye bye-bye\n",
      "book book book book book book \n",
      "red red red red red red red red \n",
      "math math math math math math math \n",
      "physics physics physics physics physics\n",
      "learn learn learn learn learn learn learn\n",
      "change change change change change change\n",
      "eat eat eat eat eat eat eat eat eat eat eat\n",
      "sleep sleep sleep sleep sleep sleep sleep \n",
      "good good good good good good good good hello hello hello hello hello\n",
      "bye-bye bye-bye bye-bye bye-bye\n",
      "book book book book book book \n",
      "red red red red red red red red \n",
      "math math math math math math math \n",
      "physics physics physics physics physics\n",
      "learn learn learn learn learn learn learn\n",
      "change change change change change change\n",
      "eat eat eat eat eat eat eat eat eat eat eat\n",
      "sleep sleep sleep sleep sleep sleep sleep \n",
      "good good good good good good good good hello hello hello hello hello\n",
      "bye-bye bye-bye bye-bye bye-bye\n",
      "book book book book book book \n",
      "red red red red red red red red \n",
      "math math math math math math math \n",
      "physics physics physics physics physics\n",
      "learn learn learn learn learn learn learn\n",
      "change change change change change change\n",
      "eat eat eat eat eat eat eat eat eat eat eat\n",
      "sleep sleep sleep sleep sleep sleep sleep \n",
      "good good good good good good good good hello hello hello hello hello\n",
      "bye-bye bye-bye bye-bye bye-bye\n",
      "book book book book book book \n",
      "red red red red red red red red \n",
      "math math math math math math math \n",
      "physics physics physics physics physics\n",
      "learn learn learn learn learn learn learn\n",
      "change change change change change change\n",
      "eat eat eat eat eat eat eat eat eat eat eat\n",
      "sleep sleep sleep sleep sleep sleep sleep \n",
      "good good good good good good good good hello hello hello hello hello\n",
      "bye-bye bye-bye bye-bye bye-bye\n",
      "book book book book book book \n",
      "red red red red red red red red \n",
      "math math math math math math math \n",
      "physics physics physics physics physics\n",
      "learn learn learn learn learn learn learn\n",
      "change change change change change change\n",
      "eat eat eat eat eat eat eat eat eat eat eat\n",
      "sleep sleep sleep sleep sleep sleep sleep \n",
      "good good good good good good good good  "
     ]
    }
   ],
   "source": [
    "cat luleiko.txt"
   ]
  },
  {
   "cell_type": "code",
   "execution_count": 84,
   "metadata": {},
   "outputs": [
    {
     "name": "stdout",
     "output_type": "stream",
     "text": [
      "book book book book book book \n",
      "book book book book book book \n",
      "book book book book book book \n",
      "book book book book book book \n",
      "book book book book book book \n",
      "book book book book book book \n",
      "book book book book book book \n",
      "book book book book book book \n",
      "book book book book book book \n",
      "book book book book book book \n",
      "book book book book book book \n",
      "book book book book book book \n",
      "book book book book book book \n",
      "book book book book book book \n",
      "bye-bye bye-bye bye-bye bye-bye\n",
      "bye-bye bye-bye bye-bye bye-bye\n",
      "bye-bye bye-bye bye-bye bye-bye\n",
      "bye-bye bye-bye bye-bye bye-bye\n",
      "bye-bye bye-bye bye-bye bye-bye\n",
      "bye-bye bye-bye bye-bye bye-bye\n",
      "bye-bye bye-bye bye-bye bye-bye\n",
      "bye-bye bye-bye bye-bye bye-bye\n",
      "bye-bye bye-bye bye-bye bye-bye\n",
      "bye-bye bye-bye bye-bye bye-bye\n",
      "bye-bye bye-bye bye-bye bye-bye\n",
      "bye-bye bye-bye bye-bye bye-bye\n",
      "bye-bye bye-bye bye-bye bye-bye\n",
      "bye-bye bye-bye bye-bye bye-bye\n",
      "change change change change change change\n",
      "change change change change change change\n",
      "change change change change change change\n",
      "change change change change change change\n",
      "change change change change change change\n",
      "change change change change change change\n",
      "change change change change change change\n",
      "change change change change change change\n",
      "change change change change change change\n",
      "change change change change change change\n",
      "change change change change change change\n",
      "change change change change change change\n",
      "change change change change change change\n",
      "change change change change change change\n",
      "eat eat eat eat eat eat eat eat eat eat eat\n",
      "eat eat eat eat eat eat eat eat eat eat eat\n",
      "eat eat eat eat eat eat eat eat eat eat eat\n",
      "eat eat eat eat eat eat eat eat eat eat eat\n",
      "eat eat eat eat eat eat eat eat eat eat eat\n",
      "eat eat eat eat eat eat eat eat eat eat eat\n",
      "eat eat eat eat eat eat eat eat eat eat eat\n",
      "eat eat eat eat eat eat eat eat eat eat eat\n",
      "eat eat eat eat eat eat eat eat eat eat eat\n",
      "eat eat eat eat eat eat eat eat eat eat eat\n",
      "eat eat eat eat eat eat eat eat eat eat eat\n",
      "eat eat eat eat eat eat eat eat eat eat eat\n",
      "eat eat eat eat eat eat eat eat eat eat eat\n",
      "eat eat eat eat eat eat eat eat eat eat eat\n",
      "good good good good good good good good \n",
      "good good good good good good good good  \n",
      "good good good good good good good good hello hello hello hello hello\n",
      "good good good good good good good good hello hello hello hello hello\n",
      "good good good good good good good good hello hello hello hello hello\n",
      "good good good good good good good good hello hello hello hello hello\n",
      "good good good good good good good good hello hello hello hello hello\n",
      "good good good good good good good good hello hello hello hello hello\n",
      "good good good good good good good good hello hello hello hello hello\n",
      "good good good good good good good good hello hello hello hello hello\n",
      "good good good good good good good good hello hello hello hello hello\n",
      "good good good good good good good good hello hello hello hello hello\n",
      "good good good good good good good good hello hello hello hello hello\n",
      "good good good good good good good good hello hello hello hello hello\n",
      "hello hello hello hello hello\n",
      "hello hello hello hello hello\n",
      "learn learn learn learn learn learn learn\n",
      "learn learn learn learn learn learn learn\n",
      "learn learn learn learn learn learn learn\n",
      "learn learn learn learn learn learn learn\n",
      "learn learn learn learn learn learn learn\n",
      "learn learn learn learn learn learn learn\n",
      "learn learn learn learn learn learn learn\n",
      "learn learn learn learn learn learn learn\n",
      "learn learn learn learn learn learn learn\n",
      "learn learn learn learn learn learn learn\n",
      "learn learn learn learn learn learn learn\n",
      "learn learn learn learn learn learn learn\n",
      "learn learn learn learn learn learn learn\n",
      "learn learn learn learn learn learn learn\n",
      "math math math math math math math \n",
      "math math math math math math math \n",
      "math math math math math math math \n",
      "math math math math math math math \n",
      "math math math math math math math \n",
      "math math math math math math math \n",
      "math math math math math math math \n",
      "math math math math math math math \n",
      "math math math math math math math \n",
      "math math math math math math math \n",
      "math math math math math math math \n",
      "math math math math math math math \n",
      "math math math math math math math \n",
      "math math math math math math math \n",
      "physics physics physics physics physics\n",
      "physics physics physics physics physics\n",
      "physics physics physics physics physics\n",
      "physics physics physics physics physics\n",
      "physics physics physics physics physics\n",
      "physics physics physics physics physics\n",
      "physics physics physics physics physics\n",
      "physics physics physics physics physics\n",
      "physics physics physics physics physics\n",
      "physics physics physics physics physics\n",
      "physics physics physics physics physics\n",
      "physics physics physics physics physics\n",
      "physics physics physics physics physics\n",
      "physics physics physics physics physics\n",
      "red red red red red red red red \n",
      "red red red red red red red red \n",
      "red red red red red red red red \n",
      "red red red red red red red red \n",
      "red red red red red red red red \n",
      "red red red red red red red red \n",
      "red red red red red red red red \n",
      "red red red red red red red red \n",
      "red red red red red red red red \n",
      "red red red red red red red red \n",
      "red red red red red red red red \n",
      "red red red red red red red red \n",
      "red red red red red red red red \n",
      "red red red red red red red red \n",
      "sleep sleep sleep sleep sleep sleep sleep \n",
      "sleep sleep sleep sleep sleep sleep sleep \n",
      "sleep sleep sleep sleep sleep sleep sleep \n",
      "sleep sleep sleep sleep sleep sleep sleep \n",
      "sleep sleep sleep sleep sleep sleep sleep \n",
      "sleep sleep sleep sleep sleep sleep sleep \n",
      "sleep sleep sleep sleep sleep sleep sleep \n",
      "sleep sleep sleep sleep sleep sleep sleep \n",
      "sleep sleep sleep sleep sleep sleep sleep \n",
      "sleep sleep sleep sleep sleep sleep sleep \n",
      "sleep sleep sleep sleep sleep sleep sleep \n",
      "sleep sleep sleep sleep sleep sleep sleep \n",
      "sleep sleep sleep sleep sleep sleep sleep \n",
      "sleep sleep sleep sleep sleep sleep sleep \n"
     ]
    }
   ],
   "source": [
    "sort luleiko.txt"
   ]
  },
  {
   "cell_type": "code",
   "execution_count": 85,
   "metadata": {},
   "outputs": [
    {
     "name": "stdout",
     "output_type": "stream",
     "text": [
      "     1\thello hello hello hello hello\n",
      "     2\tbye-bye bye-bye bye-bye bye-bye\n",
      "     3\tbook book book book book book \n",
      "     4\tred red red red red red red red \n",
      "     5\tmath math math math math math math \n",
      "     6\tphysics physics physics physics physics\n",
      "     7\tlearn learn learn learn learn learn learn\n",
      "     8\tchange change change change change change\n",
      "     9\teat eat eat eat eat eat eat eat eat eat eat\n",
      "    10\tsleep sleep sleep sleep sleep sleep sleep \n",
      "    11\tgood good good good good good good good \n",
      "    12\thello hello hello hello hello\n",
      "    13\tbye-bye bye-bye bye-bye bye-bye\n",
      "    14\tbook book book book book book \n",
      "    15\tred red red red red red red red \n",
      "    16\tmath math math math math math math \n",
      "    17\tphysics physics physics physics physics\n",
      "    18\tlearn learn learn learn learn learn learn\n",
      "    19\tchange change change change change change\n",
      "    20\teat eat eat eat eat eat eat eat eat eat eat\n",
      "    21\tsleep sleep sleep sleep sleep sleep sleep \n",
      "    22\tgood good good good good good good good hello hello hello hello hello\n",
      "    23\tbye-bye bye-bye bye-bye bye-bye\n",
      "    24\tbook book book book book book \n",
      "    25\tred red red red red red red red \n",
      "    26\tmath math math math math math math \n",
      "    27\tphysics physics physics physics physics\n",
      "    28\tlearn learn learn learn learn learn learn\n",
      "    29\tchange change change change change change\n",
      "    30\teat eat eat eat eat eat eat eat eat eat eat\n",
      "    31\tsleep sleep sleep sleep sleep sleep sleep \n",
      "    32\tgood good good good good good good good hello hello hello hello hello\n",
      "    33\tbye-bye bye-bye bye-bye bye-bye\n",
      "    34\tbook book book book book book \n",
      "    35\tred red red red red red red red \n",
      "    36\tmath math math math math math math \n",
      "    37\tphysics physics physics physics physics\n",
      "    38\tlearn learn learn learn learn learn learn\n",
      "    39\tchange change change change change change\n",
      "    40\teat eat eat eat eat eat eat eat eat eat eat\n",
      "    41\tsleep sleep sleep sleep sleep sleep sleep \n",
      "    42\tgood good good good good good good good hello hello hello hello hello\n",
      "    43\tbye-bye bye-bye bye-bye bye-bye\n",
      "    44\tbook book book book book book \n",
      "    45\tred red red red red red red red \n",
      "    46\tmath math math math math math math \n",
      "    47\tphysics physics physics physics physics\n",
      "    48\tlearn learn learn learn learn learn learn\n",
      "    49\tchange change change change change change\n",
      "    50\teat eat eat eat eat eat eat eat eat eat eat\n",
      "    51\tsleep sleep sleep sleep sleep sleep sleep \n",
      "    52\tgood good good good good good good good hello hello hello hello hello\n",
      "    53\tbye-bye bye-bye bye-bye bye-bye\n",
      "    54\tbook book book book book book \n",
      "    55\tred red red red red red red red \n",
      "    56\tmath math math math math math math \n",
      "    57\tphysics physics physics physics physics\n",
      "    58\tlearn learn learn learn learn learn learn\n",
      "    59\tchange change change change change change\n",
      "    60\teat eat eat eat eat eat eat eat eat eat eat\n",
      "    61\tsleep sleep sleep sleep sleep sleep sleep \n",
      "    62\tgood good good good good good good good hello hello hello hello hello\n",
      "    63\tbye-bye bye-bye bye-bye bye-bye\n",
      "    64\tbook book book book book book \n",
      "    65\tred red red red red red red red \n",
      "    66\tmath math math math math math math \n",
      "    67\tphysics physics physics physics physics\n",
      "    68\tlearn learn learn learn learn learn learn\n",
      "    69\tchange change change change change change\n",
      "    70\teat eat eat eat eat eat eat eat eat eat eat\n",
      "    71\tsleep sleep sleep sleep sleep sleep sleep \n",
      "    72\tgood good good good good good good good hello hello hello hello hello\n",
      "    73\tbye-bye bye-bye bye-bye bye-bye\n",
      "    74\tbook book book book book book \n",
      "    75\tred red red red red red red red \n",
      "    76\tmath math math math math math math \n",
      "    77\tphysics physics physics physics physics\n",
      "    78\tlearn learn learn learn learn learn learn\n",
      "    79\tchange change change change change change\n",
      "    80\teat eat eat eat eat eat eat eat eat eat eat\n",
      "    81\tsleep sleep sleep sleep sleep sleep sleep \n",
      "    82\tgood good good good good good good good hello hello hello hello hello\n",
      "    83\tbye-bye bye-bye bye-bye bye-bye\n",
      "    84\tbook book book book book book \n",
      "    85\tred red red red red red red red \n",
      "    86\tmath math math math math math math \n",
      "    87\tphysics physics physics physics physics\n",
      "    88\tlearn learn learn learn learn learn learn\n",
      "    89\tchange change change change change change\n",
      "    90\teat eat eat eat eat eat eat eat eat eat eat\n",
      "    91\tsleep sleep sleep sleep sleep sleep sleep \n",
      "    92\tgood good good good good good good good hello hello hello hello hello\n",
      "    93\tbye-bye bye-bye bye-bye bye-bye\n",
      "    94\tbook book book book book book \n",
      "    95\tred red red red red red red red \n",
      "    96\tmath math math math math math math \n",
      "    97\tphysics physics physics physics physics\n",
      "    98\tlearn learn learn learn learn learn learn\n",
      "    99\tchange change change change change change\n",
      "   100\teat eat eat eat eat eat eat eat eat eat eat\n",
      "   101\tsleep sleep sleep sleep sleep sleep sleep \n",
      "   102\tgood good good good good good good good hello hello hello hello hello\n",
      "   103\tbye-bye bye-bye bye-bye bye-bye\n",
      "   104\tbook book book book book book \n",
      "   105\tred red red red red red red red \n",
      "   106\tmath math math math math math math \n",
      "   107\tphysics physics physics physics physics\n",
      "   108\tlearn learn learn learn learn learn learn\n",
      "   109\tchange change change change change change\n",
      "   110\teat eat eat eat eat eat eat eat eat eat eat\n",
      "   111\tsleep sleep sleep sleep sleep sleep sleep \n",
      "   112\tgood good good good good good good good hello hello hello hello hello\n",
      "   113\tbye-bye bye-bye bye-bye bye-bye\n",
      "   114\tbook book book book book book \n",
      "   115\tred red red red red red red red \n",
      "   116\tmath math math math math math math \n",
      "   117\tphysics physics physics physics physics\n",
      "   118\tlearn learn learn learn learn learn learn\n",
      "   119\tchange change change change change change\n",
      "   120\teat eat eat eat eat eat eat eat eat eat eat\n",
      "   121\tsleep sleep sleep sleep sleep sleep sleep \n",
      "   122\tgood good good good good good good good hello hello hello hello hello\n",
      "   123\tbye-bye bye-bye bye-bye bye-bye\n",
      "   124\tbook book book book book book \n",
      "   125\tred red red red red red red red \n",
      "   126\tmath math math math math math math \n",
      "   127\tphysics physics physics physics physics\n",
      "   128\tlearn learn learn learn learn learn learn\n",
      "   129\tchange change change change change change\n",
      "   130\teat eat eat eat eat eat eat eat eat eat eat\n",
      "   131\tsleep sleep sleep sleep sleep sleep sleep \n",
      "   132\tgood good good good good good good good hello hello hello hello hello\n",
      "   133\tbye-bye bye-bye bye-bye bye-bye\n",
      "   134\tbook book book book book book \n",
      "   135\tred red red red red red red red \n",
      "   136\tmath math math math math math math \n",
      "   137\tphysics physics physics physics physics\n",
      "   138\tlearn learn learn learn learn learn learn\n",
      "   139\tchange change change change change change\n",
      "   140\teat eat eat eat eat eat eat eat eat eat eat\n",
      "   141\tsleep sleep sleep sleep sleep sleep sleep \n",
      "   142\tgood good good good good good good good  \n"
     ]
    }
   ],
   "source": [
    "nl luleiko.txt"
   ]
  },
  {
   "cell_type": "code",
   "execution_count": 86,
   "metadata": {},
   "outputs": [
    {
     "name": "stdout",
     "output_type": "stream",
     "text": [
      "         1. hello hello hello hello hello\n",
      "         2. bye-bye bye-bye bye-bye bye-bye\n",
      "         3. book book book book book book \n",
      "         4. red red red red red red red red \n",
      "         5. math math math math math math math \n",
      "         6. physics physics physics physics physics\n",
      "         7. learn learn learn learn learn learn learn\n",
      "         8. change change change change change change\n",
      "         9. eat eat eat eat eat eat eat eat eat eat eat\n",
      "        10. sleep sleep sleep sleep sleep sleep sleep \n",
      "        11. good good good good good good good good \n",
      "        12. hello hello hello hello hello\n",
      "        13. bye-bye bye-bye bye-bye bye-bye\n",
      "        14. book book book book book book \n",
      "        15. red red red red red red red red \n",
      "        16. math math math math math math math \n",
      "        17. physics physics physics physics physics\n",
      "        18. learn learn learn learn learn learn learn\n",
      "        19. change change change change change change\n",
      "        20. eat eat eat eat eat eat eat eat eat eat eat\n",
      "        21. sleep sleep sleep sleep sleep sleep sleep \n",
      "        22. good good good good good good good good hello hello hello hello hello\n",
      "        23. bye-bye bye-bye bye-bye bye-bye\n",
      "        24. book book book book book book \n",
      "        25. red red red red red red red red \n",
      "        26. math math math math math math math \n",
      "        27. physics physics physics physics physics\n",
      "        28. learn learn learn learn learn learn learn\n",
      "        29. change change change change change change\n",
      "        30. eat eat eat eat eat eat eat eat eat eat eat\n",
      "        31. sleep sleep sleep sleep sleep sleep sleep \n",
      "        32. good good good good good good good good hello hello hello hello hello\n",
      "        33. bye-bye bye-bye bye-bye bye-bye\n",
      "        34. book book book book book book \n",
      "        35. red red red red red red red red \n",
      "        36. math math math math math math math \n",
      "        37. physics physics physics physics physics\n",
      "        38. learn learn learn learn learn learn learn\n",
      "        39. change change change change change change\n",
      "        40. eat eat eat eat eat eat eat eat eat eat eat\n",
      "        41. sleep sleep sleep sleep sleep sleep sleep \n",
      "        42. good good good good good good good good hello hello hello hello hello\n",
      "        43. bye-bye bye-bye bye-bye bye-bye\n",
      "        44. book book book book book book \n",
      "        45. red red red red red red red red \n",
      "        46. math math math math math math math \n",
      "        47. physics physics physics physics physics\n",
      "        48. learn learn learn learn learn learn learn\n",
      "        49. change change change change change change\n",
      "        50. eat eat eat eat eat eat eat eat eat eat eat\n",
      "        51. sleep sleep sleep sleep sleep sleep sleep \n",
      "        52. good good good good good good good good hello hello hello hello hello\n",
      "        53. bye-bye bye-bye bye-bye bye-bye\n",
      "        54. book book book book book book \n",
      "        55. red red red red red red red red \n",
      "        56. math math math math math math math \n",
      "        57. physics physics physics physics physics\n",
      "        58. learn learn learn learn learn learn learn\n",
      "        59. change change change change change change\n",
      "        60. eat eat eat eat eat eat eat eat eat eat eat\n",
      "        61. sleep sleep sleep sleep sleep sleep sleep \n",
      "        62. good good good good good good good good hello hello hello hello hello\n",
      "        63. bye-bye bye-bye bye-bye bye-bye\n",
      "        64. book book book book book book \n",
      "        65. red red red red red red red red \n",
      "        66. math math math math math math math \n",
      "        67. physics physics physics physics physics\n",
      "        68. learn learn learn learn learn learn learn\n",
      "        69. change change change change change change\n",
      "        70. eat eat eat eat eat eat eat eat eat eat eat\n",
      "        71. sleep sleep sleep sleep sleep sleep sleep \n",
      "        72. good good good good good good good good hello hello hello hello hello\n",
      "        73. bye-bye bye-bye bye-bye bye-bye\n",
      "        74. book book book book book book \n",
      "        75. red red red red red red red red \n",
      "        76. math math math math math math math \n",
      "        77. physics physics physics physics physics\n",
      "        78. learn learn learn learn learn learn learn\n",
      "        79. change change change change change change\n",
      "        80. eat eat eat eat eat eat eat eat eat eat eat\n",
      "        81. sleep sleep sleep sleep sleep sleep sleep \n",
      "        82. good good good good good good good good hello hello hello hello hello\n",
      "        83. bye-bye bye-bye bye-bye bye-bye\n",
      "        84. book book book book book book \n",
      "        85. red red red red red red red red \n",
      "        86. math math math math math math math \n",
      "        87. physics physics physics physics physics\n",
      "        88. learn learn learn learn learn learn learn\n",
      "        89. change change change change change change\n",
      "        90. eat eat eat eat eat eat eat eat eat eat eat\n",
      "        91. sleep sleep sleep sleep sleep sleep sleep \n",
      "        92. good good good good good good good good hello hello hello hello hello\n",
      "        93. bye-bye bye-bye bye-bye bye-bye\n",
      "        94. book book book book book book \n",
      "        95. red red red red red red red red \n",
      "        96. math math math math math math math \n",
      "        97. physics physics physics physics physics\n",
      "        98. learn learn learn learn learn learn learn\n",
      "        99. change change change change change change\n",
      "       100. eat eat eat eat eat eat eat eat eat eat eat\n",
      "       101. sleep sleep sleep sleep sleep sleep sleep \n",
      "       102. good good good good good good good good hello hello hello hello hello\n",
      "       103. bye-bye bye-bye bye-bye bye-bye\n",
      "       104. book book book book book book \n",
      "       105. red red red red red red red red \n",
      "       106. math math math math math math math \n",
      "       107. physics physics physics physics physics\n",
      "       108. learn learn learn learn learn learn learn\n",
      "       109. change change change change change change\n",
      "       110. eat eat eat eat eat eat eat eat eat eat eat\n",
      "       111. sleep sleep sleep sleep sleep sleep sleep \n",
      "       112. good good good good good good good good hello hello hello hello hello\n",
      "       113. bye-bye bye-bye bye-bye bye-bye\n",
      "       114. book book book book book book \n",
      "       115. red red red red red red red red \n",
      "       116. math math math math math math math \n",
      "       117. physics physics physics physics physics\n",
      "       118. learn learn learn learn learn learn learn\n",
      "       119. change change change change change change\n",
      "       120. eat eat eat eat eat eat eat eat eat eat eat\n",
      "       121. sleep sleep sleep sleep sleep sleep sleep \n",
      "       122. good good good good good good good good hello hello hello hello hello\n",
      "       123. bye-bye bye-bye bye-bye bye-bye\n",
      "       124. book book book book book book \n",
      "       125. red red red red red red red red \n",
      "       126. math math math math math math math \n",
      "       127. physics physics physics physics physics\n",
      "       128. learn learn learn learn learn learn learn\n",
      "       129. change change change change change change\n",
      "       130. eat eat eat eat eat eat eat eat eat eat eat\n",
      "       131. sleep sleep sleep sleep sleep sleep sleep \n",
      "       132. good good good good good good good good hello hello hello hello hello\n",
      "       133. bye-bye bye-bye bye-bye bye-bye\n",
      "       134. book book book book book book \n",
      "       135. red red red red red red red red \n",
      "       136. math math math math math math math \n",
      "       137. physics physics physics physics physics\n",
      "       138. learn learn learn learn learn learn learn\n",
      "       139. change change change change change change\n",
      "       140. eat eat eat eat eat eat eat eat eat eat eat\n",
      "       141. sleep sleep sleep sleep sleep sleep sleep \n",
      "       142. good good good good good good good good  \n"
     ]
    }
   ],
   "source": [
    "nl -s '. ' -w 10 luleiko.txt"
   ]
  },
  {
   "cell_type": "code",
   "execution_count": 87,
   "metadata": {},
   "outputs": [
    {
     "name": "stdout",
     "output_type": "stream",
     "text": [
      "                   1* hello hello hello hello hello\n",
      "                   2* bye-bye bye-bye bye-bye bye-bye\n",
      "                   3* book book book book book book \n",
      "                   4* red red red red red red red red \n",
      "                   5* math math math math math math math \n",
      "                   6* physics physics physics physics physics\n",
      "                   7* learn learn learn learn learn learn learn\n",
      "                   8* change change change change change change\n",
      "                   9* eat eat eat eat eat eat eat eat eat eat eat\n",
      "                  10* sleep sleep sleep sleep sleep sleep sleep \n",
      "                  11* good good good good good good good good \n",
      "                  12* hello hello hello hello hello\n",
      "                  13* bye-bye bye-bye bye-bye bye-bye\n",
      "                  14* book book book book book book \n",
      "                  15* red red red red red red red red \n",
      "                  16* math math math math math math math \n",
      "                  17* physics physics physics physics physics\n",
      "                  18* learn learn learn learn learn learn learn\n",
      "                  19* change change change change change change\n",
      "                  20* eat eat eat eat eat eat eat eat eat eat eat\n",
      "                  21* sleep sleep sleep sleep sleep sleep sleep \n",
      "                  22* good good good good good good good good hello hello hello hello hello\n",
      "                  23* bye-bye bye-bye bye-bye bye-bye\n",
      "                  24* book book book book book book \n",
      "                  25* red red red red red red red red \n",
      "                  26* math math math math math math math \n",
      "                  27* physics physics physics physics physics\n",
      "                  28* learn learn learn learn learn learn learn\n",
      "                  29* change change change change change change\n",
      "                  30* eat eat eat eat eat eat eat eat eat eat eat\n",
      "                  31* sleep sleep sleep sleep sleep sleep sleep \n",
      "                  32* good good good good good good good good hello hello hello hello hello\n",
      "                  33* bye-bye bye-bye bye-bye bye-bye\n",
      "                  34* book book book book book book \n",
      "                  35* red red red red red red red red \n",
      "                  36* math math math math math math math \n",
      "                  37* physics physics physics physics physics\n",
      "                  38* learn learn learn learn learn learn learn\n",
      "                  39* change change change change change change\n",
      "                  40* eat eat eat eat eat eat eat eat eat eat eat\n",
      "                  41* sleep sleep sleep sleep sleep sleep sleep \n",
      "                  42* good good good good good good good good hello hello hello hello hello\n",
      "                  43* bye-bye bye-bye bye-bye bye-bye\n",
      "                  44* book book book book book book \n",
      "                  45* red red red red red red red red \n",
      "                  46* math math math math math math math \n",
      "                  47* physics physics physics physics physics\n",
      "                  48* learn learn learn learn learn learn learn\n",
      "                  49* change change change change change change\n",
      "                  50* eat eat eat eat eat eat eat eat eat eat eat\n",
      "                  51* sleep sleep sleep sleep sleep sleep sleep \n",
      "                  52* good good good good good good good good hello hello hello hello hello\n",
      "                  53* bye-bye bye-bye bye-bye bye-bye\n",
      "                  54* book book book book book book \n",
      "                  55* red red red red red red red red \n",
      "                  56* math math math math math math math \n",
      "                  57* physics physics physics physics physics\n",
      "                  58* learn learn learn learn learn learn learn\n",
      "                  59* change change change change change change\n",
      "                  60* eat eat eat eat eat eat eat eat eat eat eat\n",
      "                  61* sleep sleep sleep sleep sleep sleep sleep \n",
      "                  62* good good good good good good good good hello hello hello hello hello\n",
      "                  63* bye-bye bye-bye bye-bye bye-bye\n",
      "                  64* book book book book book book \n",
      "                  65* red red red red red red red red \n",
      "                  66* math math math math math math math \n",
      "                  67* physics physics physics physics physics\n",
      "                  68* learn learn learn learn learn learn learn\n",
      "                  69* change change change change change change\n",
      "                  70* eat eat eat eat eat eat eat eat eat eat eat\n",
      "                  71* sleep sleep sleep sleep sleep sleep sleep \n",
      "                  72* good good good good good good good good hello hello hello hello hello\n",
      "                  73* bye-bye bye-bye bye-bye bye-bye\n",
      "                  74* book book book book book book \n",
      "                  75* red red red red red red red red \n",
      "                  76* math math math math math math math \n",
      "                  77* physics physics physics physics physics\n",
      "                  78* learn learn learn learn learn learn learn\n",
      "                  79* change change change change change change\n",
      "                  80* eat eat eat eat eat eat eat eat eat eat eat\n",
      "                  81* sleep sleep sleep sleep sleep sleep sleep \n",
      "                  82* good good good good good good good good hello hello hello hello hello\n",
      "                  83* bye-bye bye-bye bye-bye bye-bye\n",
      "                  84* book book book book book book \n",
      "                  85* red red red red red red red red \n",
      "                  86* math math math math math math math \n",
      "                  87* physics physics physics physics physics\n",
      "                  88* learn learn learn learn learn learn learn\n",
      "                  89* change change change change change change\n",
      "                  90* eat eat eat eat eat eat eat eat eat eat eat\n",
      "                  91* sleep sleep sleep sleep sleep sleep sleep \n",
      "                  92* good good good good good good good good hello hello hello hello hello\n",
      "                  93* bye-bye bye-bye bye-bye bye-bye\n",
      "                  94* book book book book book book \n",
      "                  95* red red red red red red red red \n",
      "                  96* math math math math math math math \n",
      "                  97* physics physics physics physics physics\n",
      "                  98* learn learn learn learn learn learn learn\n",
      "                  99* change change change change change change\n",
      "                 100* eat eat eat eat eat eat eat eat eat eat eat\n",
      "                 101* sleep sleep sleep sleep sleep sleep sleep \n",
      "                 102* good good good good good good good good hello hello hello hello hello\n",
      "                 103* bye-bye bye-bye bye-bye bye-bye\n",
      "                 104* book book book book book book \n",
      "                 105* red red red red red red red red \n",
      "                 106* math math math math math math math \n",
      "                 107* physics physics physics physics physics\n",
      "                 108* learn learn learn learn learn learn learn\n",
      "                 109* change change change change change change\n",
      "                 110* eat eat eat eat eat eat eat eat eat eat eat\n",
      "                 111* sleep sleep sleep sleep sleep sleep sleep \n",
      "                 112* good good good good good good good good hello hello hello hello hello\n",
      "                 113* bye-bye bye-bye bye-bye bye-bye\n",
      "                 114* book book book book book book \n",
      "                 115* red red red red red red red red \n",
      "                 116* math math math math math math math \n",
      "                 117* physics physics physics physics physics\n",
      "                 118* learn learn learn learn learn learn learn\n",
      "                 119* change change change change change change\n",
      "                 120* eat eat eat eat eat eat eat eat eat eat eat\n",
      "                 121* sleep sleep sleep sleep sleep sleep sleep \n",
      "                 122* good good good good good good good good hello hello hello hello hello\n",
      "                 123* bye-bye bye-bye bye-bye bye-bye\n",
      "                 124* book book book book book book \n",
      "                 125* red red red red red red red red \n",
      "                 126* math math math math math math math \n",
      "                 127* physics physics physics physics physics\n",
      "                 128* learn learn learn learn learn learn learn\n",
      "                 129* change change change change change change\n",
      "                 130* eat eat eat eat eat eat eat eat eat eat eat\n",
      "                 131* sleep sleep sleep sleep sleep sleep sleep \n",
      "                 132* good good good good good good good good hello hello hello hello hello\n",
      "                 133* bye-bye bye-bye bye-bye bye-bye\n",
      "                 134* book book book book book book \n",
      "                 135* red red red red red red red red \n",
      "                 136* math math math math math math math \n",
      "                 137* physics physics physics physics physics\n",
      "                 138* learn learn learn learn learn learn learn\n",
      "                 139* change change change change change change\n",
      "                 140* eat eat eat eat eat eat eat eat eat eat eat\n",
      "                 141* sleep sleep sleep sleep sleep sleep sleep \n",
      "                 142* good good good good good good good good  \n"
     ]
    }
   ],
   "source": [
    "nl -s '* ' -w 20 luleiko.txt"
   ]
  },
  {
   "cell_type": "code",
   "execution_count": 88,
   "metadata": {},
   "outputs": [
    {
     "name": "stdout",
     "output_type": "stream",
     "text": [
      "         1# hello hello hello hello hello\n",
      "         2# bye-bye bye-bye bye-bye bye-bye\n",
      "         3# book book book book book book \n",
      "         4# red red red red red red red red \n",
      "         5# math math math math math math math \n",
      "         6# physics physics physics physics physics\n",
      "         7# learn learn learn learn learn learn learn\n",
      "         8# change change change change change change\n",
      "         9# eat eat eat eat eat eat eat eat eat eat eat\n",
      "        10# sleep sleep sleep sleep sleep sleep sleep \n",
      "        11# good good good good good good good good \n",
      "        12# hello hello hello hello hello\n",
      "        13# bye-bye bye-bye bye-bye bye-bye\n",
      "        14# book book book book book book \n",
      "        15# red red red red red red red red \n",
      "        16# math math math math math math math \n",
      "        17# physics physics physics physics physics\n",
      "        18# learn learn learn learn learn learn learn\n",
      "        19# change change change change change change\n",
      "        20# eat eat eat eat eat eat eat eat eat eat eat\n",
      "        21# sleep sleep sleep sleep sleep sleep sleep \n",
      "        22# good good good good good good good good hello hello hello hello hello\n",
      "        23# bye-bye bye-bye bye-bye bye-bye\n",
      "        24# book book book book book book \n",
      "        25# red red red red red red red red \n",
      "        26# math math math math math math math \n",
      "        27# physics physics physics physics physics\n",
      "        28# learn learn learn learn learn learn learn\n",
      "        29# change change change change change change\n",
      "        30# eat eat eat eat eat eat eat eat eat eat eat\n",
      "        31# sleep sleep sleep sleep sleep sleep sleep \n",
      "        32# good good good good good good good good hello hello hello hello hello\n",
      "        33# bye-bye bye-bye bye-bye bye-bye\n",
      "        34# book book book book book book \n",
      "        35# red red red red red red red red \n",
      "        36# math math math math math math math \n",
      "        37# physics physics physics physics physics\n",
      "        38# learn learn learn learn learn learn learn\n",
      "        39# change change change change change change\n",
      "        40# eat eat eat eat eat eat eat eat eat eat eat\n",
      "        41# sleep sleep sleep sleep sleep sleep sleep \n",
      "        42# good good good good good good good good hello hello hello hello hello\n",
      "        43# bye-bye bye-bye bye-bye bye-bye\n",
      "        44# book book book book book book \n",
      "        45# red red red red red red red red \n",
      "        46# math math math math math math math \n",
      "        47# physics physics physics physics physics\n",
      "        48# learn learn learn learn learn learn learn\n",
      "        49# change change change change change change\n",
      "        50# eat eat eat eat eat eat eat eat eat eat eat\n",
      "        51# sleep sleep sleep sleep sleep sleep sleep \n",
      "        52# good good good good good good good good hello hello hello hello hello\n",
      "        53# bye-bye bye-bye bye-bye bye-bye\n",
      "        54# book book book book book book \n",
      "        55# red red red red red red red red \n",
      "        56# math math math math math math math \n",
      "        57# physics physics physics physics physics\n",
      "        58# learn learn learn learn learn learn learn\n",
      "        59# change change change change change change\n",
      "        60# eat eat eat eat eat eat eat eat eat eat eat\n",
      "        61# sleep sleep sleep sleep sleep sleep sleep \n",
      "        62# good good good good good good good good hello hello hello hello hello\n",
      "        63# bye-bye bye-bye bye-bye bye-bye\n",
      "        64# book book book book book book \n",
      "        65# red red red red red red red red \n",
      "        66# math math math math math math math \n",
      "        67# physics physics physics physics physics\n",
      "        68# learn learn learn learn learn learn learn\n",
      "        69# change change change change change change\n",
      "        70# eat eat eat eat eat eat eat eat eat eat eat\n",
      "        71# sleep sleep sleep sleep sleep sleep sleep \n",
      "        72# good good good good good good good good hello hello hello hello hello\n",
      "        73# bye-bye bye-bye bye-bye bye-bye\n",
      "        74# book book book book book book \n",
      "        75# red red red red red red red red \n",
      "        76# math math math math math math math \n",
      "        77# physics physics physics physics physics\n",
      "        78# learn learn learn learn learn learn learn\n",
      "        79# change change change change change change\n",
      "        80# eat eat eat eat eat eat eat eat eat eat eat\n",
      "        81# sleep sleep sleep sleep sleep sleep sleep \n",
      "        82# good good good good good good good good hello hello hello hello hello\n",
      "        83# bye-bye bye-bye bye-bye bye-bye\n",
      "        84# book book book book book book \n",
      "        85# red red red red red red red red \n",
      "        86# math math math math math math math \n",
      "        87# physics physics physics physics physics\n",
      "        88# learn learn learn learn learn learn learn\n",
      "        89# change change change change change change\n",
      "        90# eat eat eat eat eat eat eat eat eat eat eat\n",
      "        91# sleep sleep sleep sleep sleep sleep sleep \n",
      "        92# good good good good good good good good hello hello hello hello hello\n",
      "        93# bye-bye bye-bye bye-bye bye-bye\n",
      "        94# book book book book book book \n",
      "        95# red red red red red red red red \n",
      "        96# math math math math math math math \n",
      "        97# physics physics physics physics physics\n",
      "        98# learn learn learn learn learn learn learn\n",
      "        99# change change change change change change\n",
      "       100# eat eat eat eat eat eat eat eat eat eat eat\n",
      "       101# sleep sleep sleep sleep sleep sleep sleep \n",
      "       102# good good good good good good good good hello hello hello hello hello\n",
      "       103# bye-bye bye-bye bye-bye bye-bye\n",
      "       104# book book book book book book \n",
      "       105# red red red red red red red red \n",
      "       106# math math math math math math math \n",
      "       107# physics physics physics physics physics\n",
      "       108# learn learn learn learn learn learn learn\n",
      "       109# change change change change change change\n",
      "       110# eat eat eat eat eat eat eat eat eat eat eat\n",
      "       111# sleep sleep sleep sleep sleep sleep sleep \n",
      "       112# good good good good good good good good hello hello hello hello hello\n",
      "       113# bye-bye bye-bye bye-bye bye-bye\n",
      "       114# book book book book book book \n",
      "       115# red red red red red red red red \n",
      "       116# math math math math math math math \n",
      "       117# physics physics physics physics physics\n",
      "       118# learn learn learn learn learn learn learn\n",
      "       119# change change change change change change\n",
      "       120# eat eat eat eat eat eat eat eat eat eat eat\n",
      "       121# sleep sleep sleep sleep sleep sleep sleep \n",
      "       122# good good good good good good good good hello hello hello hello hello\n",
      "       123# bye-bye bye-bye bye-bye bye-bye\n",
      "       124# book book book book book book \n",
      "       125# red red red red red red red red \n",
      "       126# math math math math math math math \n",
      "       127# physics physics physics physics physics\n",
      "       128# learn learn learn learn learn learn learn\n",
      "       129# change change change change change change\n",
      "       130# eat eat eat eat eat eat eat eat eat eat eat\n",
      "       131# sleep sleep sleep sleep sleep sleep sleep \n",
      "       132# good good good good good good good good hello hello hello hello hello\n",
      "       133# bye-bye bye-bye bye-bye bye-bye\n",
      "       134# book book book book book book \n",
      "       135# red red red red red red red red \n",
      "       136# math math math math math math math \n",
      "       137# physics physics physics physics physics\n",
      "       138# learn learn learn learn learn learn learn\n",
      "       139# change change change change change change\n",
      "       140# eat eat eat eat eat eat eat eat eat eat eat\n",
      "       141# sleep sleep sleep sleep sleep sleep sleep \n",
      "       142# good good good good good good good good  \n"
     ]
    }
   ],
   "source": [
    "nl -s '# ' -w 10 luleiko.txt"
   ]
  },
  {
   "cell_type": "code",
   "execution_count": 89,
   "metadata": {},
   "outputs": [
    {
     "name": "stdout",
     "output_type": "stream",
     "text": [
      " 141 1036 5784 luleiko.txt\n"
     ]
    }
   ],
   "source": [
    "wc luleiko.txt"
   ]
  },
  {
   "cell_type": "code",
   "execution_count": 90,
   "metadata": {},
   "outputs": [
    {
     "name": "stdout",
     "output_type": "stream",
     "text": [
      "141 luleiko.txt\n"
     ]
    }
   ],
   "source": [
    "wc -l luleiko.txt"
   ]
  },
  {
   "cell_type": "code",
   "execution_count": 91,
   "metadata": {},
   "outputs": [
    {
     "name": "stdout",
     "output_type": "stream",
     "text": [
      "1036 luleiko.txt\n"
     ]
    }
   ],
   "source": [
    "wc -w luleiko.txt"
   ]
  },
  {
   "cell_type": "code",
   "execution_count": 92,
   "metadata": {},
   "outputs": [
    {
     "name": "stdout",
     "output_type": "stream",
     "text": [
      "5784 luleiko.txt\n"
     ]
    }
   ],
   "source": [
    "wc -m luleiko.txt"
   ]
  },
  {
   "cell_type": "code",
   "execution_count": 93,
   "metadata": {},
   "outputs": [
    {
     "name": "stdout",
     "output_type": "stream",
     "text": [
      "WC(1)                            User Commands                           WC(1)\n",
      "\n",
      "NAME\n",
      "       wc - print newline, word, and byte counts for each file\n",
      "\n",
      "SYNOPSIS\n",
      "       wc [OPTION]... [FILE]...\n",
      "       wc [OPTION]... --files0-from=F\n",
      "\n",
      "DESCRIPTION\n",
      "       Print newline, word, and byte counts for each FILE, and a total line if\n",
      "       more than one FILE is specified.  A word is a non-zero-length  sequence\n",
      "       of characters delimited by white space.\n",
      "\n",
      "       With no FILE, or when FILE is -, read standard input.\n",
      "\n",
      "       The  options  below  may  be  used  to select which counts are printed,\n",
      "       always in the following order: newline, word, character, byte,  maximum\n",
      "       line length.\n",
      "\n",
      "       -c, --bytes\n",
      "              print the byte counts\n",
      "\n",
      "       -m, --chars\n",
      "              print the character counts\n",
      "\n",
      "       -l, --lines\n",
      "              print the newline counts\n",
      "\n",
      "       --files0-from=F\n",
      "              read  input  from the files specified by NUL-terminated names in\n",
      "              file F; If F is - then read names from standard input\n",
      "\n",
      "       -L, --max-line-length\n",
      "              print the maximum display width\n",
      "\n",
      "       -w, --words\n",
      "              print the word counts\n",
      "\n",
      "       --help display this help and exit\n",
      "\n",
      "       --version\n",
      "              output version information and exit\n",
      "\n",
      "AUTHOR\n",
      "       Written by Paul Rubin and David MacKenzie.\n",
      "\n",
      "REPORTING BUGS\n",
      "       GNU coreutils online help: <http://www.gnu.org/software/coreutils/>\n",
      "       Report wc translation bugs to <http://translationproject.org/team/>\n",
      "\n",
      "COPYRIGHT\n",
      "       Copyright © 2017 Free Software Foundation, Inc.   License  GPLv3+:  GNU\n",
      "       GPL version 3 or later <http://gnu.org/licenses/gpl.html>.\n",
      "       This  is  free  software:  you  are free to change and redistribute it.\n",
      "       There is NO WARRANTY, to the extent permitted by law.\n",
      "\n",
      "SEE ALSO\n",
      "       Full documentation at: <http://www.gnu.org/software/coreutils/wc>\n",
      "       or available locally via: info '(coreutils) wc invocation'\n",
      "\n",
      "GNU coreutils 8.28               January 2018                            WC(1)\n",
      "No manual entry for -m\n"
     ]
    },
    {
     "ename": "",
     "evalue": "16",
     "output_type": "error",
     "traceback": []
    }
   ],
   "source": [
    "man wc -m"
   ]
  },
  {
   "cell_type": "code",
   "execution_count": 94,
   "metadata": {},
   "outputs": [
    {
     "name": "stdout",
     "output_type": "stream",
     "text": [
      "hello\n",
      "bye-bye\n",
      "book\n",
      "red\n",
      "math\n",
      "physics\n",
      "learn\n",
      "change\n",
      "eat\n",
      "sleep\n",
      "good\n",
      "hello\n",
      "bye-bye\n",
      "book\n",
      "red\n",
      "math\n",
      "physics\n",
      "learn\n",
      "change\n",
      "eat\n",
      "sleep\n",
      "good\n",
      "bye-bye\n",
      "book\n",
      "red\n",
      "math\n",
      "physics\n",
      "learn\n",
      "change\n",
      "eat\n",
      "sleep\n",
      "good\n",
      "bye-bye\n",
      "book\n",
      "red\n",
      "math\n",
      "physics\n",
      "learn\n",
      "change\n",
      "eat\n",
      "sleep\n",
      "good\n",
      "bye-bye\n",
      "book\n",
      "red\n",
      "math\n",
      "physics\n",
      "learn\n",
      "change\n",
      "eat\n",
      "sleep\n",
      "good\n",
      "bye-bye\n",
      "book\n",
      "red\n",
      "math\n",
      "physics\n",
      "learn\n",
      "change\n",
      "eat\n",
      "sleep\n",
      "good\n",
      "bye-bye\n",
      "book\n",
      "red\n",
      "math\n",
      "physics\n",
      "learn\n",
      "change\n",
      "eat\n",
      "sleep\n",
      "good\n",
      "bye-bye\n",
      "book\n",
      "red\n",
      "math\n",
      "physics\n",
      "learn\n",
      "change\n",
      "eat\n",
      "sleep\n",
      "good\n",
      "bye-bye\n",
      "book\n",
      "red\n",
      "math\n",
      "physics\n",
      "learn\n",
      "change\n",
      "eat\n",
      "sleep\n",
      "good\n",
      "bye-bye\n",
      "book\n",
      "red\n",
      "math\n",
      "physics\n",
      "learn\n",
      "change\n",
      "eat\n",
      "sleep\n",
      "good\n",
      "bye-bye\n",
      "book\n",
      "red\n",
      "math\n",
      "physics\n",
      "learn\n",
      "change\n",
      "eat\n",
      "sleep\n",
      "good\n",
      "bye-bye\n",
      "book\n",
      "red\n",
      "math\n",
      "physics\n",
      "learn\n",
      "change\n",
      "eat\n",
      "sleep\n",
      "good\n",
      "bye-bye\n",
      "book\n",
      "red\n",
      "math\n",
      "physics\n",
      "learn\n",
      "change\n",
      "eat\n",
      "sleep\n",
      "good\n",
      "bye-bye\n",
      "book\n",
      "red\n",
      "math\n",
      "physics\n",
      "learn\n",
      "change\n",
      "eat\n",
      "sleep\n",
      "good\n"
     ]
    }
   ],
   "source": [
    "cut -f 1 -d ' ' luleiko.txt"
   ]
  },
  {
   "cell_type": "code",
   "execution_count": 95,
   "metadata": {},
   "outputs": [
    {
     "name": "stdout",
     "output_type": "stream",
     "text": [
      "hello hello hello\n",
      "bye-bye bye-bye bye-bye\n",
      "book book book\n",
      "red red red\n",
      "math math math\n",
      "physics physics physics\n",
      "learn learn learn\n",
      "change change change\n",
      "eat eat eat\n",
      "sleep sleep sleep\n",
      "good good good\n",
      "hello hello hello\n",
      "bye-bye bye-bye bye-bye\n",
      "book book book\n",
      "red red red\n",
      "math math math\n",
      "physics physics physics\n",
      "learn learn learn\n",
      "change change change\n",
      "eat eat eat\n",
      "sleep sleep sleep\n",
      "good good good\n",
      "bye-bye bye-bye bye-bye\n",
      "book book book\n",
      "red red red\n",
      "math math math\n",
      "physics physics physics\n",
      "learn learn learn\n",
      "change change change\n",
      "eat eat eat\n",
      "sleep sleep sleep\n",
      "good good good\n",
      "bye-bye bye-bye bye-bye\n",
      "book book book\n",
      "red red red\n",
      "math math math\n",
      "physics physics physics\n",
      "learn learn learn\n",
      "change change change\n",
      "eat eat eat\n",
      "sleep sleep sleep\n",
      "good good good\n",
      "bye-bye bye-bye bye-bye\n",
      "book book book\n",
      "red red red\n",
      "math math math\n",
      "physics physics physics\n",
      "learn learn learn\n",
      "change change change\n",
      "eat eat eat\n",
      "sleep sleep sleep\n",
      "good good good\n",
      "bye-bye bye-bye bye-bye\n",
      "book book book\n",
      "red red red\n",
      "math math math\n",
      "physics physics physics\n",
      "learn learn learn\n",
      "change change change\n",
      "eat eat eat\n",
      "sleep sleep sleep\n",
      "good good good\n",
      "bye-bye bye-bye bye-bye\n",
      "book book book\n",
      "red red red\n",
      "math math math\n",
      "physics physics physics\n",
      "learn learn learn\n",
      "change change change\n",
      "eat eat eat\n",
      "sleep sleep sleep\n",
      "good good good\n",
      "bye-bye bye-bye bye-bye\n",
      "book book book\n",
      "red red red\n",
      "math math math\n",
      "physics physics physics\n",
      "learn learn learn\n",
      "change change change\n",
      "eat eat eat\n",
      "sleep sleep sleep\n",
      "good good good\n",
      "bye-bye bye-bye bye-bye\n",
      "book book book\n",
      "red red red\n",
      "math math math\n",
      "physics physics physics\n",
      "learn learn learn\n",
      "change change change\n",
      "eat eat eat\n",
      "sleep sleep sleep\n",
      "good good good\n",
      "bye-bye bye-bye bye-bye\n",
      "book book book\n",
      "red red red\n",
      "math math math\n",
      "physics physics physics\n",
      "learn learn learn\n",
      "change change change\n",
      "eat eat eat\n",
      "sleep sleep sleep\n",
      "good good good\n",
      "bye-bye bye-bye bye-bye\n",
      "book book book\n",
      "red red red\n",
      "math math math\n",
      "physics physics physics\n",
      "learn learn learn\n",
      "change change change\n",
      "eat eat eat\n",
      "sleep sleep sleep\n",
      "good good good\n",
      "bye-bye bye-bye bye-bye\n",
      "book book book\n",
      "red red red\n",
      "math math math\n",
      "physics physics physics\n",
      "learn learn learn\n",
      "change change change\n",
      "eat eat eat\n",
      "sleep sleep sleep\n",
      "good good good\n",
      "bye-bye bye-bye bye-bye\n",
      "book book book\n",
      "red red red\n",
      "math math math\n",
      "physics physics physics\n",
      "learn learn learn\n",
      "change change change\n",
      "eat eat eat\n",
      "sleep sleep sleep\n",
      "good good good\n",
      "bye-bye bye-bye bye-bye\n",
      "book book book\n",
      "red red red\n",
      "math math math\n",
      "physics physics physics\n",
      "learn learn learn\n",
      "change change change\n",
      "eat eat eat\n",
      "sleep sleep sleep\n",
      "good good good\n"
     ]
    }
   ],
   "source": [
    "cut -f 1,2,3 -d ' ' luleiko.txt"
   ]
  },
  {
   "cell_type": "code",
   "execution_count": 96,
   "metadata": {},
   "outputs": [
    {
     "name": "stdout",
     "output_type": "stream",
     "text": [
      "hello hello hello hello hello\n",
      "bye-bye bye-bye bye-bye bye-bye\n",
      "book book book book book book \n",
      "red red red red red red red red \n",
      "math math math math math math math \n",
      "physics physics physics physics physics\n",
      "learn learn learn learn learn learn learn\n",
      "change change change change change change\n",
      "eat eat eat eat eat eat eat eat eat eat eat\n",
      "sleep sleep sleep sleep sleep sleep sleep \n",
      "good good good good good good good good \n",
      "hello hello hello hello hello\n",
      "bye-bye bye-bye bye-bye bye-bye\n",
      "book book book book book book \n",
      "red red red red red red red red \n",
      "math math math math math math math \n",
      "physics physics physics physics physics\n",
      "learn learn learn learn learn learn learn\n",
      "change change change change change change\n",
      "eat eat eat eat eat eat eat eat eat eat eat\n",
      "sleep sleep sleep sleep sleep sleep sleep \n",
      "good good good good good good good good hello hello hello hello hello\n",
      "bye-bye bye-bye bye-bye bye-bye\n",
      "book book book book book book \n",
      "red red red red red red red red \n",
      "math math math math math math math \n",
      "physics physics physics physics physics\n",
      "learn learn learn learn learn learn learn\n",
      "change change change change change change\n",
      "eat eat eat eat eat eat eat eat eat eat eat\n",
      "sleep sleep sleep sleep sleep sleep sleep \n",
      "good good good good good good good good hello hello hello hello hello\n",
      "bye-bye bye-bye bye-bye bye-bye\n",
      "book book book book book book \n",
      "red red red red red red red red \n",
      "math math math math math math math \n",
      "physics physics physics physics physics\n",
      "learn learn learn learn learn learn learn\n",
      "change change change change change change\n",
      "eat eat eat eat eat eat eat eat eat eat eat\n",
      "sleep sleep sleep sleep sleep sleep sleep \n",
      "good good good good good good good good hello hello hello hello hello\n",
      "bye-bye bye-bye bye-bye bye-bye\n",
      "book book book book book book \n",
      "red red red red red red red red \n",
      "math math math math math math math \n",
      "physics physics physics physics physics\n",
      "learn learn learn learn learn learn learn\n",
      "change change change change change change\n",
      "eat eat eat eat eat eat eat eat eat eat eat\n",
      "sleep sleep sleep sleep sleep sleep sleep \n",
      "good good good good good good good good hello hello hello hello hello\n",
      "bye-bye bye-bye bye-bye bye-bye\n",
      "book book book book book book \n",
      "red red red red red red red red \n",
      "math math math math math math math \n",
      "physics physics physics physics physics\n",
      "learn learn learn learn learn learn learn\n",
      "change change change change change change\n",
      "eat eat eat eat eat eat eat eat eat eat eat\n",
      "sleep sleep sleep sleep sleep sleep sleep \n",
      "good good good good good good good good hello hello hello hello hello\n",
      "bye-bye bye-bye bye-bye bye-bye\n",
      "book book book book book book \n",
      "red red red red red red red red \n",
      "math math math math math math math \n",
      "physics physics physics physics physics\n",
      "learn learn learn learn learn learn learn\n",
      "change change change change change change\n",
      "eat eat eat eat eat eat eat eat eat eat eat\n",
      "sleep sleep sleep sleep sleep sleep sleep \n",
      "good good good good good good good good hello hello hello hello hello\n",
      "bye-bye bye-bye bye-bye bye-bye\n",
      "book book book book book book \n",
      "red red red red red red red red \n",
      "math math math math math math math \n",
      "physics physics physics physics physics\n",
      "learn learn learn learn learn learn learn\n",
      "change change change change change change\n",
      "eat eat eat eat eat eat eat eat eat eat eat\n",
      "sleep sleep sleep sleep sleep sleep sleep \n",
      "good good good good good good good good hello hello hello hello hello\n",
      "bye-bye bye-bye bye-bye bye-bye\n",
      "book book book book book book \n",
      "red red red red red red red red \n",
      "math math math math math math math \n",
      "physics physics physics physics physics\n",
      "learn learn learn learn learn learn learn\n",
      "change change change change change change\n",
      "eat eat eat eat eat eat eat eat eat eat eat\n",
      "sleep sleep sleep sleep sleep sleep sleep \n",
      "good good good good good good good good hello hello hello hello hello\n",
      "bye-bye bye-bye bye-bye bye-bye\n",
      "book book book book book book \n",
      "red red red red red red red red \n",
      "math math math math math math math \n",
      "physics physics physics physics physics\n",
      "learn learn learn learn learn learn learn\n",
      "change change change change change change\n",
      "eat eat eat eat eat eat eat eat eat eat eat\n",
      "sleep sleep sleep sleep sleep sleep sleep \n",
      "good good good good good good good good hello hello hello hello hello\n",
      "bye-bye bye-bye bye-bye bye-bye\n",
      "book book book book book book \n",
      "red red red red red red red red \n",
      "math math math math math math math \n",
      "physics physics physics physics physics\n",
      "learn learn learn learn learn learn learn\n",
      "change change change change change change\n",
      "eat eat eat eat eat eat eat eat eat eat eat\n",
      "sleep sleep sleep sleep sleep sleep sleep \n",
      "good good good good good good good good hello hello hello hello hello\n",
      "bye-bye bye-bye bye-bye bye-bye\n",
      "book book book book book book \n",
      "red red red red red red red red \n",
      "math math math math math math math \n",
      "physics physics physics physics physics\n",
      "learn learn learn learn learn learn learn\n",
      "change change change change change change\n",
      "eat eat eat eat eat eat eat eat eat eat eat\n",
      "sleep sleep sleep sleep sleep sleep sleep \n",
      "good good good good good good good good hello hello hello hello hello\n",
      "bye-bye bye-bye bye-bye bye-bye\n",
      "book book book book book book \n",
      "red red red red red red red red \n",
      "math math math math math math math \n",
      "physics physics physics physics physics\n",
      "learn learn learn learn learn learn learn\n",
      "change change change change change change\n",
      "eat eat eat eat eat eat eat eat eat eat eat\n",
      "sleep sleep sleep sleep sleep sleep sleep \n",
      "good good good good good good good good hello hello hello hello hello\n",
      "bye-bye bye-bye bye-bye bye-bye\n",
      "book book book book book book \n",
      "red red red red red red red red \n",
      "math math math math math math math \n",
      "physics physics physics physics physics\n",
      "learn learn learn learn learn learn learn\n",
      "change change change change change change\n",
      "eat eat eat eat eat eat eat eat eat eat eat\n",
      "sleep sleep sleep sleep sleep sleep sleep \n",
      "good good good good good good good good  \n"
     ]
    }
   ],
   "source": [
    "uniq luleiko.txt"
   ]
  },
  {
   "cell_type": "code",
   "execution_count": 97,
   "metadata": {},
   "outputs": [
    {
     "name": "stdout",
     "output_type": "stream",
     "text": [
      "good good good good good good good good  sleep sleep sleep sleep sleep sleep sleep \n",
      "eat eat eat eat eat eat eat eat eat eat eat\n",
      "change change change change change change\n",
      "learn learn learn learn learn learn learn\n",
      "physics physics physics physics physics\n",
      "math math math math math math math \n",
      "red red red red red red red red \n",
      "book book book book book book \n",
      "bye-bye bye-bye bye-bye bye-bye\n",
      "good good good good good good good good hello hello hello hello hello\n",
      "sleep sleep sleep sleep sleep sleep sleep \n",
      "eat eat eat eat eat eat eat eat eat eat eat\n",
      "change change change change change change\n",
      "learn learn learn learn learn learn learn\n",
      "physics physics physics physics physics\n",
      "math math math math math math math \n",
      "red red red red red red red red \n",
      "book book book book book book \n",
      "bye-bye bye-bye bye-bye bye-bye\n",
      "good good good good good good good good hello hello hello hello hello\n",
      "sleep sleep sleep sleep sleep sleep sleep \n",
      "eat eat eat eat eat eat eat eat eat eat eat\n",
      "change change change change change change\n",
      "learn learn learn learn learn learn learn\n",
      "physics physics physics physics physics\n",
      "math math math math math math math \n",
      "red red red red red red red red \n",
      "book book book book book book \n",
      "bye-bye bye-bye bye-bye bye-bye\n",
      "good good good good good good good good hello hello hello hello hello\n",
      "sleep sleep sleep sleep sleep sleep sleep \n",
      "eat eat eat eat eat eat eat eat eat eat eat\n",
      "change change change change change change\n",
      "learn learn learn learn learn learn learn\n",
      "physics physics physics physics physics\n",
      "math math math math math math math \n",
      "red red red red red red red red \n",
      "book book book book book book \n",
      "bye-bye bye-bye bye-bye bye-bye\n",
      "good good good good good good good good hello hello hello hello hello\n",
      "sleep sleep sleep sleep sleep sleep sleep \n",
      "eat eat eat eat eat eat eat eat eat eat eat\n",
      "change change change change change change\n",
      "learn learn learn learn learn learn learn\n",
      "physics physics physics physics physics\n",
      "math math math math math math math \n",
      "red red red red red red red red \n",
      "book book book book book book \n",
      "bye-bye bye-bye bye-bye bye-bye\n",
      "good good good good good good good good hello hello hello hello hello\n",
      "sleep sleep sleep sleep sleep sleep sleep \n",
      "eat eat eat eat eat eat eat eat eat eat eat\n",
      "change change change change change change\n",
      "learn learn learn learn learn learn learn\n",
      "physics physics physics physics physics\n",
      "math math math math math math math \n",
      "red red red red red red red red \n",
      "book book book book book book \n",
      "bye-bye bye-bye bye-bye bye-bye\n",
      "good good good good good good good good hello hello hello hello hello\n",
      "sleep sleep sleep sleep sleep sleep sleep \n",
      "eat eat eat eat eat eat eat eat eat eat eat\n",
      "change change change change change change\n",
      "learn learn learn learn learn learn learn\n",
      "physics physics physics physics physics\n",
      "math math math math math math math \n",
      "red red red red red red red red \n",
      "book book book book book book \n",
      "bye-bye bye-bye bye-bye bye-bye\n",
      "good good good good good good good good hello hello hello hello hello\n",
      "sleep sleep sleep sleep sleep sleep sleep \n",
      "eat eat eat eat eat eat eat eat eat eat eat\n",
      "change change change change change change\n",
      "learn learn learn learn learn learn learn\n",
      "physics physics physics physics physics\n",
      "math math math math math math math \n",
      "red red red red red red red red \n",
      "book book book book book book \n",
      "bye-bye bye-bye bye-bye bye-bye\n",
      "good good good good good good good good hello hello hello hello hello\n",
      "sleep sleep sleep sleep sleep sleep sleep \n",
      "eat eat eat eat eat eat eat eat eat eat eat\n",
      "change change change change change change\n",
      "learn learn learn learn learn learn learn\n",
      "physics physics physics physics physics\n",
      "math math math math math math math \n",
      "red red red red red red red red \n",
      "book book book book book book \n",
      "bye-bye bye-bye bye-bye bye-bye\n",
      "good good good good good good good good hello hello hello hello hello\n",
      "sleep sleep sleep sleep sleep sleep sleep \n",
      "eat eat eat eat eat eat eat eat eat eat eat\n",
      "change change change change change change\n",
      "learn learn learn learn learn learn learn\n",
      "physics physics physics physics physics\n",
      "math math math math math math math \n",
      "red red red red red red red red \n",
      "book book book book book book \n",
      "bye-bye bye-bye bye-bye bye-bye\n",
      "good good good good good good good good hello hello hello hello hello\n",
      "sleep sleep sleep sleep sleep sleep sleep \n",
      "eat eat eat eat eat eat eat eat eat eat eat\n",
      "change change change change change change\n",
      "learn learn learn learn learn learn learn\n",
      "physics physics physics physics physics\n",
      "math math math math math math math \n",
      "red red red red red red red red \n",
      "book book book book book book \n",
      "bye-bye bye-bye bye-bye bye-bye\n",
      "good good good good good good good good hello hello hello hello hello\n",
      "sleep sleep sleep sleep sleep sleep sleep \n",
      "eat eat eat eat eat eat eat eat eat eat eat\n",
      "change change change change change change\n",
      "learn learn learn learn learn learn learn\n",
      "physics physics physics physics physics\n",
      "math math math math math math math \n",
      "red red red red red red red red \n",
      "book book book book book book \n",
      "bye-bye bye-bye bye-bye bye-bye\n",
      "good good good good good good good good hello hello hello hello hello\n",
      "sleep sleep sleep sleep sleep sleep sleep \n",
      "eat eat eat eat eat eat eat eat eat eat eat\n",
      "change change change change change change\n",
      "learn learn learn learn learn learn learn\n",
      "physics physics physics physics physics\n",
      "math math math math math math math \n",
      "red red red red red red red red \n",
      "book book book book book book \n",
      "bye-bye bye-bye bye-bye bye-bye\n",
      "hello hello hello hello hello\n",
      "good good good good good good good good \n",
      "sleep sleep sleep sleep sleep sleep sleep \n",
      "eat eat eat eat eat eat eat eat eat eat eat\n",
      "change change change change change change\n",
      "learn learn learn learn learn learn learn\n",
      "physics physics physics physics physics\n",
      "math math math math math math math \n",
      "red red red red red red red red \n",
      "book book book book book book \n",
      "bye-bye bye-bye bye-bye bye-bye\n",
      "hello hello hello hello hello\n"
     ]
    }
   ],
   "source": [
    "tac luleiko.txt"
   ]
  },
  {
   "cell_type": "code",
   "execution_count": 1,
   "metadata": {},
   "outputs": [
    {
     "name": "stdout",
     "output_type": "stream",
     "text": [
      "/home/jupyter-aruzhan149/aleka\n"
     ]
    }
   ],
   "source": [
    "pwd"
   ]
  },
  {
   "cell_type": "code",
   "execution_count": 2,
   "metadata": {},
   "outputs": [],
   "source": [
    "touch a.txt"
   ]
  },
  {
   "cell_type": "code",
   "execution_count": 3,
   "metadata": {},
   "outputs": [],
   "source": [
    "touch b.txt"
   ]
  },
  {
   "cell_type": "code",
   "execution_count": 4,
   "metadata": {},
   "outputs": [],
   "source": [
    "touch er.txt"
   ]
  },
  {
   "cell_type": "code",
   "execution_count": 5,
   "metadata": {},
   "outputs": [
    {
     "name": "stdout",
     "output_type": "stream",
     "text": [
      "alekaresume.txt  a.txt  b.txt\n"
     ]
    }
   ],
   "source": [
    "ls [abc]*.txt"
   ]
  },
  {
   "cell_type": "code",
   "execution_count": 6,
   "metadata": {},
   "outputs": [
    {
     "name": "stdout",
     "output_type": "stream",
     "text": [
      "er.txt\n"
     ]
    }
   ],
   "source": [
    "ls [egy]*.txt"
   ]
  },
  {
   "cell_type": "code",
   "execution_count": 7,
   "metadata": {},
   "outputs": [
    {
     "name": "stdout",
     "output_type": "stream",
     "text": [
      "alekaresume.txt  a.txt  b.txt  er.txt  luleiko.txt\n"
     ]
    }
   ],
   "source": [
    "ls [a-z]*txt"
   ]
  },
  {
   "cell_type": "code",
   "execution_count": 8,
   "metadata": {},
   "outputs": [
    {
     "name": "stdout",
     "output_type": "stream",
     "text": [
      "alekaresume.txt  a.txt  b.txt  luleiko.txt\n"
     ]
    }
   ],
   "source": [
    "ls [abl]*txt"
   ]
  },
  {
   "cell_type": "code",
   "execution_count": 9,
   "metadata": {},
   "outputs": [
    {
     "name": "stdout",
     "output_type": "stream",
     "text": [
      "ls: cannot access '^a.txt': No such file or directory\n"
     ]
    },
    {
     "ename": "",
     "evalue": "2",
     "output_type": "error",
     "traceback": []
    }
   ],
   "source": [
    "ls ^a.txt"
   ]
  },
  {
   "cell_type": "code",
   "execution_count": 10,
   "metadata": {},
   "outputs": [
    {
     "name": "stdout",
     "output_type": "stream",
     "text": [
      "ls: cannot access '^a*txt': No such file or directory\n"
     ]
    },
    {
     "ename": "",
     "evalue": "2",
     "output_type": "error",
     "traceback": []
    }
   ],
   "source": [
    "ls ^a*txt"
   ]
  },
  {
   "cell_type": "code",
   "execution_count": 11,
   "metadata": {},
   "outputs": [
    {
     "name": "stdout",
     "output_type": "stream",
     "text": [
      "b.txt  er.txt  luleiko.txt\n"
     ]
    }
   ],
   "source": [
    "ls [^a]*.txt"
   ]
  },
  {
   "cell_type": "code",
   "execution_count": 12,
   "metadata": {},
   "outputs": [
    {
     "name": "stdout",
     "output_type": "stream",
     "text": [
      "b.txt  luleiko.txt\n"
     ]
    }
   ],
   "source": [
    "ls [^ae]*.txt"
   ]
  },
  {
   "cell_type": "code",
   "execution_count": 13,
   "metadata": {},
   "outputs": [
    {
     "name": "stdout",
     "output_type": "stream",
     "text": [
      "./Aleka HM3.ipynb:           UTF-8 Unicode text\n",
      "./alekaresume.txt:           empty\n",
      "./Aleka_USK_01_file.ipynb:   UTF-8 Unicode text\n",
      "./Aleka_USK_02.ipynb:        ASCII text\n",
      "./Aleka_USK04.ipynb:         UTF-8 Unicode text\n",
      "./Aruzhan Suleimenova.ipynb: UTF-8 Unicode text\n",
      "./a.txt:                     empty\n",
      "./b.txt:                     empty\n",
      "./er.txt:                    empty\n",
      "./luleiko.txt:               empty\n",
      "./pirozhochek:               directory\n",
      "./Untitled1.ipynb:           ASCII text\n",
      "./Untitled2.ipynb:           ASCII text\n",
      "./Untitled3.ipynb:           ASCII text\n",
      "./Untitled4.ipynb:           UTF-8 Unicode text\n",
      "./Untitled.ipynb:            UTF-8 Unicode text\n",
      "./USK02.dio:                 ASCII text, with very long lines, with no line terminators\n"
     ]
    }
   ],
   "source": [
    "file ./*\n"
   ]
  },
  {
   "cell_type": "code",
   "execution_count": null,
   "metadata": {},
   "outputs": [],
   "source": []
  }
 ],
 "metadata": {
  "kernelspec": {
   "display_name": "Bash",
   "language": "bash",
   "name": "bash"
  },
  "language_info": {
   "codemirror_mode": "shell",
   "file_extension": ".sh",
   "mimetype": "text/x-sh",
   "name": "bash"
  }
 },
 "nbformat": 4,
 "nbformat_minor": 4
}
