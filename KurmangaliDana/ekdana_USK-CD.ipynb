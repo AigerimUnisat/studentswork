{
 "cells": [
  {
   "cell_type": "code",
   "execution_count": 1,
   "metadata": {},
   "outputs": [
    {
     "name": "stdout",
     "output_type": "stream",
     "text": [
      "/bin/bash\n"
     ]
    }
   ],
   "source": [
    "echo $SHELL"
   ]
  },
  {
   "cell_type": "code",
   "execution_count": 3,
   "metadata": {},
   "outputs": [
    {
     "name": "stdout",
     "output_type": "stream",
     "text": [
      "/home/jupyter-ekdana/K.Dana\n"
     ]
    }
   ],
   "source": [
    "pwd"
   ]
  },
  {
   "cell_type": "code",
   "execution_count": 4,
   "metadata": {},
   "outputs": [
    {
     "name": "stdout",
     "output_type": "stream",
     "text": [
      "ekDana_USK_02.ipynb  Untitled1.ipynb  untitled.dio\n",
      "resume.txt           Untitled2.ipynb  Untitled.ipynb\n"
     ]
    }
   ],
   "source": [
    "ls"
   ]
  },
  {
   "cell_type": "code",
   "execution_count": 5,
   "metadata": {},
   "outputs": [],
   "source": [
    "cd /"
   ]
  },
  {
   "cell_type": "code",
   "execution_count": 6,
   "metadata": {},
   "outputs": [
    {
     "name": "stdout",
     "output_type": "stream",
     "text": [
      "/\n"
     ]
    }
   ],
   "source": [
    "pwd"
   ]
  },
  {
   "cell_type": "code",
   "execution_count": 7,
   "metadata": {},
   "outputs": [
    {
     "name": "stdout",
     "output_type": "stream",
     "text": [
      "bin    etc             lib         mkdir  root  srv       usr\n",
      "boot   home            lib64       mnt    run   swap.img  var\n",
      "cdrom  initrd.img      lost+found  opt    sbin  sys       vmlinuz\n",
      "dev    initrd.img.old  media       proc   snap  tmp       vmlinuz.old\n"
     ]
    }
   ],
   "source": [
    "ls"
   ]
  },
  {
   "cell_type": "code",
   "execution_count": 8,
   "metadata": {},
   "outputs": [],
   "source": [
    "cd bin"
   ]
  },
  {
   "cell_type": "code",
   "execution_count": 9,
   "metadata": {},
   "outputs": [
    {
     "name": "stdout",
     "output_type": "stream",
     "text": [
      "/bin\n"
     ]
    }
   ],
   "source": [
    "pwd"
   ]
  },
  {
   "cell_type": "code",
   "execution_count": 10,
   "metadata": {},
   "outputs": [
    {
     "name": "stdout",
     "output_type": "stream",
     "text": [
      "bash                egrep       nc.openbsd     ss\n",
      "btrfs               false       netcat         static-sh\n",
      "btrfsck             fgconsole   netstat        stty\n",
      "btrfs-debug-tree    fgrep       networkctl     su\n",
      "btrfs-find-root     findmnt     nisdomainname  sync\n",
      "btrfs-image         fsck.btrfs  ntfs-3g        systemctl\n",
      "btrfs-map-logical   fuser       ntfs-3g.probe  systemd\n",
      "btrfs-select-super  fusermount  ntfscat        systemd-ask-password\n",
      "btrfstune           getfacl     ntfscluster    systemd-escape\n",
      "btrfs-zero-log      grep        ntfscmp        systemd-hwdb\n",
      "bunzip2             gunzip      ntfsfallocate  systemd-inhibit\n",
      "busybox             gzexe       ntfsfix        systemd-machine-id-setup\n",
      "bzcat               gzip        ntfsinfo       systemd-notify\n",
      "bzcmp               hostname    ntfsls         systemd-sysusers\n",
      "bzdiff              ip          ntfsmove       systemd-tmpfiles\n",
      "bzegrep             journalctl  ntfsrecover    systemd-tty-ask-password-agent\n",
      "bzexe               kbd_mode    ntfssecaudit   tar\n",
      "bzfgrep             kill        ntfstruncate   tempfile\n",
      "bzgrep              kmod        ntfsusermap    touch\n",
      "bzip2               less        ntfswipe       true\n",
      "bzip2recover        lessecho    open           udevadm\n",
      "bzless              lessfile    openvt         ulockmgr_server\n",
      "bzmore              lesskey     pidof          umount\n",
      "cat                 lesspipe    ping           uname\n",
      "chacl               ln          ping4          uncompress\n",
      "chgrp               loadkeys    ping6          unicode_start\n",
      "chmod               login       plymouth       vdir\n",
      "chown               loginctl    ps             wdctl\n",
      "chvt                lowntfs-3g  pwd            which\n",
      "cp                  ls          rbash          whiptail\n",
      "cpio                lsblk       readlink       ypdomainname\n",
      "dash                lsmod       red            zcat\n",
      "date                mkdir       rm             zcmp\n",
      "dd                  mkfs.btrfs  rmdir          zdiff\n",
      "df                  mknod       rnano          zegrep\n",
      "dir                 mktemp      run-parts      zfgrep\n",
      "dmesg               more        rzsh           zforce\n",
      "dnsdomainname       mount       sed            zgrep\n",
      "domainname          mountpoint  setfacl        zless\n",
      "dumpkeys            mt          setfont        zmore\n",
      "echo                mt-gnu      setupcon       znew\n",
      "ed                  mv          sh             zsh\n",
      "efibootdump         nano        sh.distrib     zsh5\n",
      "efibootmgr          nc          sleep\n"
     ]
    }
   ],
   "source": [
    "ls"
   ]
  },
  {
   "cell_type": "code",
   "execution_count": 12,
   "metadata": {},
   "outputs": [],
   "source": [
    "cd /\n"
   ]
  },
  {
   "cell_type": "code",
   "execution_count": 13,
   "metadata": {},
   "outputs": [
    {
     "name": "stdout",
     "output_type": "stream",
     "text": [
      "/\n"
     ]
    }
   ],
   "source": [
    "pwd"
   ]
  },
  {
   "cell_type": "code",
   "execution_count": 14,
   "metadata": {},
   "outputs": [],
   "source": [
    "cd media"
   ]
  },
  {
   "cell_type": "code",
   "execution_count": 15,
   "metadata": {},
   "outputs": [
    {
     "name": "stdout",
     "output_type": "stream",
     "text": [
      "/media\n"
     ]
    }
   ],
   "source": [
    "pwd"
   ]
  },
  {
   "cell_type": "code",
   "execution_count": 17,
   "metadata": {},
   "outputs": [],
   "source": [
    "ls"
   ]
  },
  {
   "cell_type": "code",
   "execution_count": 18,
   "metadata": {},
   "outputs": [],
   "source": [
    "ls"
   ]
  },
  {
   "cell_type": "code",
   "execution_count": 19,
   "metadata": {},
   "outputs": [
    {
     "name": "stdout",
     "output_type": "stream",
     "text": [
      ".  ..\n"
     ]
    }
   ],
   "source": [
    "ls -a"
   ]
  },
  {
   "cell_type": "code",
   "execution_count": 20,
   "metadata": {},
   "outputs": [],
   "source": [
    "cd /"
   ]
  },
  {
   "cell_type": "code",
   "execution_count": 21,
   "metadata": {},
   "outputs": [
    {
     "name": "stdout",
     "output_type": "stream",
     "text": [
      "/\n"
     ]
    }
   ],
   "source": [
    "pwd"
   ]
  },
  {
   "cell_type": "code",
   "execution_count": 22,
   "metadata": {},
   "outputs": [],
   "source": [
    "cd home"
   ]
  },
  {
   "cell_type": "code",
   "execution_count": 23,
   "metadata": {},
   "outputs": [
    {
     "name": "stdout",
     "output_type": "stream",
     "text": [
      "/home\n"
     ]
    }
   ],
   "source": [
    "pwd"
   ]
  },
  {
   "cell_type": "code",
   "execution_count": 24,
   "metadata": {},
   "outputs": [
    {
     "name": "stdout",
     "output_type": "stream",
     "text": [
      "azat                   jupyter-azat           jupyter-nurlaura\n",
      "jupyter-admin          jupyter-cubefiction    jupyter-nurlaura2\n",
      "jupyter-aiana178       jupyter-danenok        jupyter-official-nanakai\n",
      "jupyter-aigerimunisat  jupyter-darganius      jupyter-orissim\n",
      "jupyter-aizadait       jupyter-ekdana         jupyter-tsagynysh\n",
      "jupyter-amayakof       jupyter-inkar601       jupyter-unisat\n",
      "jupyter-amirkhan       jupyter-kkenzh         jupyter-yeldana\n",
      "jupyter-arayka         jupyter-nazymungarova  jupyter-zhandos\n",
      "jupyter-aruzhan149     jupyter-nuray.serkali  jupyter-zhanelbaltabay\n",
      "jupyter-aselleon       jupyter-nurike         jupyter-zhannaspace\n"
     ]
    }
   ],
   "source": [
    "ls"
   ]
  },
  {
   "cell_type": "code",
   "execution_count": 25,
   "metadata": {},
   "outputs": [],
   "source": [
    "cd jupyter-ekdana"
   ]
  },
  {
   "cell_type": "code",
   "execution_count": 26,
   "metadata": {},
   "outputs": [
    {
     "name": "stdout",
     "output_type": "stream",
     "text": [
      "/home/jupyter-ekdana\n"
     ]
    }
   ],
   "source": [
    "pwd"
   ]
  },
  {
   "cell_type": "code",
   "execution_count": 27,
   "metadata": {},
   "outputs": [
    {
     "name": "stdout",
     "output_type": "stream",
     "text": [
      "ekDana_USK_01_file.ipynb  K.Dana  Untitled1.ipynb\n",
      "ekDana_USK_01_file.pdf    shared\n"
     ]
    }
   ],
   "source": [
    "ls"
   ]
  },
  {
   "cell_type": "code",
   "execution_count": 28,
   "metadata": {},
   "outputs": [],
   "source": [
    "cd /"
   ]
  },
  {
   "cell_type": "code",
   "execution_count": 29,
   "metadata": {},
   "outputs": [
    {
     "name": "stdout",
     "output_type": "stream",
     "text": [
      "/\n"
     ]
    }
   ],
   "source": [
    "pwd"
   ]
  },
  {
   "cell_type": "code",
   "execution_count": 30,
   "metadata": {},
   "outputs": [],
   "source": [
    "cd var"
   ]
  },
  {
   "cell_type": "code",
   "execution_count": 31,
   "metadata": {},
   "outputs": [
    {
     "name": "stdout",
     "output_type": "stream",
     "text": [
      "/var\n"
     ]
    }
   ],
   "source": [
    "pwd\n"
   ]
  },
  {
   "cell_type": "code",
   "execution_count": 33,
   "metadata": {},
   "outputs": [
    {
     "name": "stdout",
     "output_type": "stream",
     "text": [
      "backups  cache  crash  lib  local  lock  log  mail  opt  run  snap  spool  tmp\n"
     ]
    }
   ],
   "source": [
    "ls"
   ]
  },
  {
   "cell_type": "code",
   "execution_count": 34,
   "metadata": {},
   "outputs": [],
   "source": [
    "cd log"
   ]
  },
  {
   "cell_type": "code",
   "execution_count": 35,
   "metadata": {},
   "outputs": [
    {
     "name": "stdout",
     "output_type": "stream",
     "text": [
      "/var/log\n"
     ]
    }
   ],
   "source": [
    "pwd"
   ]
  },
  {
   "cell_type": "code",
   "execution_count": 36,
   "metadata": {},
   "outputs": [
    {
     "name": "stdout",
     "output_type": "stream",
     "text": [
      "alternatives.log  cloud-init-output.log  kern.log.3.gz  syslog.3.gz\n",
      "apt               dist-upgrade           kern.log.4.gz  syslog.4.gz\n",
      "auth.log          dpkg.log               landscape      syslog.5.gz\n",
      "auth.log.1        faillog                lastlog        syslog.6.gz\n",
      "auth.log.2.gz     fontconfig.log         lxd            syslog.7.gz\n",
      "auth.log.3.gz     installer              mysql          tallylog\n",
      "auth.log.4.gz     journal                nginx          unattended-upgrades\n",
      "bootstrap.log     kern.log               syslog         wtmp\n",
      "btmp              kern.log.1             syslog.1\n",
      "cloud-init.log    kern.log.2.gz          syslog.2.gz\n"
     ]
    }
   ],
   "source": [
    "ls"
   ]
  },
  {
   "cell_type": "code",
   "execution_count": 37,
   "metadata": {},
   "outputs": [],
   "source": [
    "cd /\n"
   ]
  },
  {
   "cell_type": "code",
   "execution_count": 38,
   "metadata": {},
   "outputs": [
    {
     "name": "stdout",
     "output_type": "stream",
     "text": [
      "/\n"
     ]
    }
   ],
   "source": [
    "pwd"
   ]
  },
  {
   "cell_type": "code",
   "execution_count": 39,
   "metadata": {},
   "outputs": [],
   "source": [
    "cd tmp"
   ]
  },
  {
   "cell_type": "code",
   "execution_count": 40,
   "metadata": {},
   "outputs": [
    {
     "name": "stdout",
     "output_type": "stream",
     "text": [
      "/tmp\n"
     ]
    }
   ],
   "source": [
    "pwd"
   ]
  },
  {
   "cell_type": "code",
   "execution_count": 41,
   "metadata": {},
   "outputs": [
    {
     "name": "stdout",
     "output_type": "stream",
     "text": [
      "npm-10827-0e564a4c\n",
      "npm-16887-8c782a69\n",
      "npm-1734-4343c47f\n",
      "npm-22290-49e0f6ff\n",
      "npm-23142-d27f6bba\n",
      "npm-23375-6bb977da\n",
      "npm-23794-403d9440\n",
      "npm-26296-4ea6a34d\n",
      "npm-26960-6b0c7d95\n",
      "npm-27460-f5da2395\n",
      "npm-7544-12d35dae\n",
      "npm-8322-2a3b4233\n",
      "npm-9277-386698b9\n",
      "systemd-private-bde4209a9cf34ce29a03310bf98c2445-jupyterhub.service-BlGHgU\n",
      "systemd-private-bde4209a9cf34ce29a03310bf98c2445-systemd-resolved.service-bxqXyY\n",
      "systemd-private-bde4209a9cf34ce29a03310bf98c2445-systemd-timesyncd.service-Vg7n7D\n",
      "systemd-private-bde4209a9cf34ce29a03310bf98c2445-traefik.service-x45iZK\n"
     ]
    }
   ],
   "source": [
    "ls"
   ]
  },
  {
   "cell_type": "code",
   "execution_count": 42,
   "metadata": {},
   "outputs": [],
   "source": [
    "cd /"
   ]
  },
  {
   "cell_type": "code",
   "execution_count": 43,
   "metadata": {},
   "outputs": [
    {
     "name": "stdout",
     "output_type": "stream",
     "text": [
      "/\n"
     ]
    }
   ],
   "source": [
    "pwd"
   ]
  },
  {
   "cell_type": "code",
   "execution_count": 44,
   "metadata": {},
   "outputs": [],
   "source": [
    "cd usr"
   ]
  },
  {
   "cell_type": "code",
   "execution_count": 45,
   "metadata": {},
   "outputs": [
    {
     "name": "stdout",
     "output_type": "stream",
     "text": [
      "/usr\n"
     ]
    }
   ],
   "source": [
    "pwd"
   ]
  },
  {
   "cell_type": "code",
   "execution_count": 46,
   "metadata": {},
   "outputs": [
    {
     "name": "stdout",
     "output_type": "stream",
     "text": [
      "bin  games  include  lib  local  sbin  share  src\n"
     ]
    }
   ],
   "source": [
    "ls"
   ]
  },
  {
   "cell_type": "code",
   "execution_count": 53,
   "metadata": {},
   "outputs": [],
   "source": [
    "cd /"
   ]
  },
  {
   "cell_type": "code",
   "execution_count": 54,
   "metadata": {},
   "outputs": [
    {
     "name": "stdout",
     "output_type": "stream",
     "text": [
      "/\n"
     ]
    }
   ],
   "source": [
    "pwd"
   ]
  },
  {
   "cell_type": "code",
   "execution_count": 55,
   "metadata": {},
   "outputs": [],
   "source": [
    "cd lib"
   ]
  },
  {
   "cell_type": "code",
   "execution_count": 56,
   "metadata": {},
   "outputs": [
    {
     "name": "stdout",
     "output_type": "stream",
     "text": [
      "/lib\n"
     ]
    }
   ],
   "source": [
    "pwd"
   ]
  },
  {
   "cell_type": "code",
   "execution_count": 57,
   "metadata": {},
   "outputs": [
    {
     "name": "stdout",
     "output_type": "stream",
     "text": [
      "apparmor       init                                  netplan\n",
      "console-setup  klibc-wBFLvVtxy4xJqEadIBJMa78iJz8.so  open-iscsi\n",
      "cpp            libhandle.so.1                        recovery-mode\n",
      "crda           libhandle.so.1.0.3                    systemd\n",
      "cryptsetup     lsb                                   terminfo\n",
      "ebtables       modprobe.d                            udev\n",
      "firmware       modules                               ufw\n",
      "hdparm         modules-load.d                        x86_64-linux-gnu\n"
     ]
    }
   ],
   "source": [
    "ls"
   ]
  },
  {
   "cell_type": "code",
   "execution_count": 58,
   "metadata": {},
   "outputs": [],
   "source": [
    "cd /"
   ]
  },
  {
   "cell_type": "code",
   "execution_count": 59,
   "metadata": {},
   "outputs": [
    {
     "name": "stdout",
     "output_type": "stream",
     "text": [
      "/\n"
     ]
    }
   ],
   "source": [
    "pwd"
   ]
  },
  {
   "cell_type": "code",
   "execution_count": 60,
   "metadata": {},
   "outputs": [],
   "source": [
    "cd mnt"
   ]
  },
  {
   "cell_type": "code",
   "execution_count": 69,
   "metadata": {},
   "outputs": [
    {
     "name": "stdout",
     "output_type": "stream",
     "text": [
      "/etc\n"
     ]
    }
   ],
   "source": [
    "pwd"
   ]
  },
  {
   "cell_type": "code",
   "execution_count": 64,
   "metadata": {},
   "outputs": [],
   "source": [
    "cd /"
   ]
  },
  {
   "cell_type": "code",
   "execution_count": 65,
   "metadata": {},
   "outputs": [
    {
     "name": "stdout",
     "output_type": "stream",
     "text": [
      "/\n"
     ]
    }
   ],
   "source": [
    "pwd"
   ]
  },
  {
   "cell_type": "code",
   "execution_count": 1,
   "metadata": {},
   "outputs": [
    {
     "name": "stdout",
     "output_type": "stream",
     "text": [
      "bash: cd: etc: No such file or directory\n"
     ]
    },
    {
     "ename": "",
     "evalue": "1",
     "output_type": "error",
     "traceback": []
    }
   ],
   "source": [
    "cd etc"
   ]
  },
  {
   "cell_type": "code",
   "execution_count": 2,
   "metadata": {},
   "outputs": [
    {
     "name": "stdout",
     "output_type": "stream",
     "text": [
      "/home/jupyter-ekdana/K.Dana\n"
     ]
    }
   ],
   "source": [
    "pwd"
   ]
  },
  {
   "cell_type": "code",
   "execution_count": 3,
   "metadata": {},
   "outputs": [],
   "source": [
    "cd"
   ]
  },
  {
   "cell_type": "code",
   "execution_count": 4,
   "metadata": {},
   "outputs": [
    {
     "name": "stdout",
     "output_type": "stream",
     "text": [
      "/home/jupyter-ekdana\n"
     ]
    }
   ],
   "source": [
    "pwd"
   ]
  },
  {
   "cell_type": "code",
   "execution_count": 5,
   "metadata": {},
   "outputs": [
    {
     "name": "stdout",
     "output_type": "stream",
     "text": [
      "./: directory\n"
     ]
    }
   ],
   "source": [
    "file ./\n"
   ]
  },
  {
   "cell_type": "code",
   "execution_count": 6,
   "metadata": {},
   "outputs": [
    {
     "name": "stdout",
     "output_type": "stream",
     "text": [
      "man: file./: No such file or directory\n",
      "No manual entry for file./\n"
     ]
    },
    {
     "ename": "",
     "evalue": "16",
     "output_type": "error",
     "traceback": []
    }
   ],
   "source": [
    "man file./"
   ]
  },
  {
   "cell_type": "code",
   "execution_count": 7,
   "metadata": {},
   "outputs": [
    {
     "name": "stdout",
     "output_type": "stream",
     "text": [
      "total 12\n",
      "drwxr-xr-x 3 jupyter-ekdana jupyter-ekdana 4096 Apr 18 12:34 K.Dana\n",
      "lrwxrwxrwx 1 jupyter-ekdana jupyter-ekdana   16 Mar 10 11:57 shared -> /srv/data/shared\n",
      "drwx--xr-x 3 jupyter-ekdana jupyter-ekdana 4096 Apr  4 16:10 test\n",
      "d-wxr-xr-- 2 jupyter-ekdana jupyter-ekdana 4096 Apr  4 15:38 TEST\n"
     ]
    }
   ],
   "source": [
    "ls -l"
   ]
  },
  {
   "cell_type": "code",
   "execution_count": null,
   "metadata": {},
   "outputs": [],
   "source": []
  }
 ],
 "metadata": {
  "kernelspec": {
   "display_name": "Bash",
   "language": "bash",
   "name": "bash"
  },
  "language_info": {
   "codemirror_mode": "shell",
   "file_extension": ".sh",
   "mimetype": "text/x-sh",
   "name": "bash"
  }
 },
 "nbformat": 4,
 "nbformat_minor": 4
}
