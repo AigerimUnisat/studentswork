{
 "cells": [
  {
   "cell_type": "code",
   "execution_count": 1,
   "metadata": {},
   "outputs": [
    {
     "name": "stdout",
     "output_type": "stream",
     "text": [
      "/home/jupyter-ekdana/K.Dana\n"
     ]
    }
   ],
   "source": [
    "pwd"
   ]
  },
  {
   "cell_type": "code",
   "execution_count": 2,
   "metadata": {},
   "outputs": [
    {
     "name": "stdout",
     "output_type": "stream",
     "text": [
      "-rw-r-x-wx 1 jupyter-ekdana jupyter-ekdana 0 Apr  4 15:31 test1.txt\n"
     ]
    }
   ],
   "source": [
    "ls -l test1.txt"
   ]
  },
  {
   "cell_type": "code",
   "execution_count": 3,
   "metadata": {},
   "outputs": [],
   "source": [
    "chmod 642 test1.txt "
   ]
  },
  {
   "cell_type": "code",
   "execution_count": 4,
   "metadata": {},
   "outputs": [
    {
     "name": "stdout",
     "output_type": "stream",
     "text": [
      "-rw-r---w- 1 jupyter-ekdana jupyter-ekdana 0 Apr  4 15:31 test1.txt\n"
     ]
    }
   ],
   "source": [
    "ls -l test1.txt"
   ]
  },
  {
   "cell_type": "code",
   "execution_count": 5,
   "metadata": {},
   "outputs": [
    {
     "name": "stdout",
     "output_type": "stream",
     "text": [
      "/home/jupyter-ekdana/K.Dana\n"
     ]
    }
   ],
   "source": [
    "pwd"
   ]
  },
  {
   "cell_type": "code",
   "execution_count": 7,
   "metadata": {},
   "outputs": [],
   "source": [
    "cd .."
   ]
  },
  {
   "cell_type": "code",
   "execution_count": 8,
   "metadata": {},
   "outputs": [
    {
     "name": "stdout",
     "output_type": "stream",
     "text": [
      "/home/jupyter-ekdana\n"
     ]
    }
   ],
   "source": [
    "pwd"
   ]
  },
  {
   "cell_type": "code",
   "execution_count": 9,
   "metadata": {},
   "outputs": [
    {
     "name": "stdout",
     "output_type": "stream",
     "text": [
      "drwxr-xr-x 2 jupyter-ekdana jupyter-ekdana 4096 Apr  4 15:43 test\n"
     ]
    }
   ],
   "source": [
    "ls -ld test"
   ]
  },
  {
   "cell_type": "code",
   "execution_count": 10,
   "metadata": {},
   "outputs": [],
   "source": [
    "chmod 622 test"
   ]
  },
  {
   "cell_type": "code",
   "execution_count": 11,
   "metadata": {},
   "outputs": [
    {
     "name": "stdout",
     "output_type": "stream",
     "text": [
      "drw--w--w- 2 jupyter-ekdana jupyter-ekdana 4096 Apr  4 15:43 test\n"
     ]
    }
   ],
   "source": [
    "ls -ld test"
   ]
  },
  {
   "cell_type": "code",
   "execution_count": 12,
   "metadata": {},
   "outputs": [],
   "source": [
    "chmod 644 test"
   ]
  },
  {
   "cell_type": "code",
   "execution_count": 13,
   "metadata": {},
   "outputs": [
    {
     "name": "stdout",
     "output_type": "stream",
     "text": [
      "drw-r--r-- 2 jupyter-ekdana jupyter-ekdana 4096 Apr  4 15:43 test\n"
     ]
    }
   ],
   "source": [
    "ls -ld test"
   ]
  },
  {
   "cell_type": "code",
   "execution_count": 14,
   "metadata": {},
   "outputs": [
    {
     "name": "stdout",
     "output_type": "stream",
     "text": [
      "test: directory\n"
     ]
    }
   ],
   "source": [
    "file test"
   ]
  },
  {
   "cell_type": "code",
   "execution_count": 16,
   "metadata": {},
   "outputs": [
    {
     "name": "stdout",
     "output_type": "stream",
     "text": [
      "/home/jupyter-ekdana\n"
     ]
    }
   ],
   "source": [
    "pwd"
   ]
  },
  {
   "cell_type": "code",
   "execution_count": 18,
   "metadata": {},
   "outputs": [],
   "source": [
    "chmod 715 test"
   ]
  },
  {
   "cell_type": "code",
   "execution_count": 19,
   "metadata": {},
   "outputs": [
    {
     "name": "stdout",
     "output_type": "stream",
     "text": [
      "drwx--xr-x 2 jupyter-ekdana jupyter-ekdana 4096 Apr  4 15:43 test\n"
     ]
    }
   ],
   "source": [
    "ls -ld test"
   ]
  },
  {
   "cell_type": "code",
   "execution_count": 20,
   "metadata": {},
   "outputs": [],
   "source": [
    "cd test"
   ]
  },
  {
   "cell_type": "code",
   "execution_count": 21,
   "metadata": {},
   "outputs": [],
   "source": [
    "touch 1"
   ]
  },
  {
   "cell_type": "code",
   "execution_count": 22,
   "metadata": {},
   "outputs": [],
   "source": [
    "touch 2"
   ]
  },
  {
   "cell_type": "code",
   "execution_count": 23,
   "metadata": {},
   "outputs": [
    {
     "name": "stdout",
     "output_type": "stream",
     "text": [
      "1  2\n"
     ]
    }
   ],
   "source": [
    "ls"
   ]
  },
  {
   "cell_type": "code",
   "execution_count": 25,
   "metadata": {},
   "outputs": [
    {
     "name": "stdout",
     "output_type": "stream",
     "text": [
      "-rw-r--r-- 1 jupyter-ekdana jupyter-ekdana 0 Apr  4 15:53 1\n"
     ]
    }
   ],
   "source": [
    "ls -l 1"
   ]
  },
  {
   "cell_type": "code",
   "execution_count": 26,
   "metadata": {},
   "outputs": [],
   "source": [
    "chmod 610 1"
   ]
  },
  {
   "cell_type": "code",
   "execution_count": 29,
   "metadata": {},
   "outputs": [
    {
     "name": "stdout",
     "output_type": "stream",
     "text": [
      "-rw---x--- 1 jupyter-ekdana jupyter-ekdana 0 Apr  4 15:53 1\n"
     ]
    }
   ],
   "source": [
    "ls -l 1"
   ]
  },
  {
   "cell_type": "code",
   "execution_count": 36,
   "metadata": {},
   "outputs": [
    {
     "name": "stdout",
     "output_type": "stream",
     "text": [
      "/home\n"
     ]
    }
   ],
   "source": [
    "pwd"
   ]
  },
  {
   "cell_type": "code",
   "execution_count": 37,
   "metadata": {},
   "outputs": [],
   "source": [
    "cd jupyter-ekdana"
   ]
  },
  {
   "cell_type": "code",
   "execution_count": 38,
   "metadata": {},
   "outputs": [],
   "source": [
    "cd test"
   ]
  },
  {
   "cell_type": "code",
   "execution_count": 39,
   "metadata": {},
   "outputs": [
    {
     "name": "stdout",
     "output_type": "stream",
     "text": [
      "/home/jupyter-ekdana/test\n"
     ]
    }
   ],
   "source": [
    "pwd"
   ]
  },
  {
   "cell_type": "code",
   "execution_count": 40,
   "metadata": {},
   "outputs": [],
   "source": [
    "touch 3.txt"
   ]
  },
  {
   "cell_type": "code",
   "execution_count": 42,
   "metadata": {},
   "outputs": [
    {
     "name": "stdout",
     "output_type": "stream",
     "text": [
      "Top 15 films :\n",
      "Gisaengchung (2019)\n",
      "Green Book (2018)\n",
      "The Shape of Water (2017) \n",
      "Moonlight (2016)\n",
      "Spotlight (2015)\n",
      "Birdman or (The Unexpected Virtue of Ignorance) (2014)\n",
      "12 Years a Slave (2013) \n",
      "Argo (2012)\n",
      "The Artist (2011)\n"
     ]
    }
   ],
   "source": [
    "head 3.txt"
   ]
  },
  {
   "cell_type": "code",
   "execution_count": 43,
   "metadata": {},
   "outputs": [
    {
     "name": "stdout",
     "output_type": "stream",
     "text": [
      "Oscar winners for best movie:\n",
      "Gisaengchung (2019)\n",
      "Green Book (2018)\n",
      "The Shape of Water (2017) \n",
      "Moonlight (2016)\n"
     ]
    }
   ],
   "source": [
    "head -5 3.txt"
   ]
  },
  {
   "cell_type": "code",
   "execution_count": 44,
   "metadata": {},
   "outputs": [
    {
     "name": "stdout",
     "output_type": "stream",
     "text": [
      "Birdman or (The Unexpected Virtue of Ignorance) (2014)\n",
      "12 Years a Slave (2013) \n",
      "Argo (2012)\n",
      "The Artist (2011)\n",
      "The King's Speech (2010)\n",
      "The Hurt Locker (2008)\n",
      "Slumdog Millionaire (2008) \n",
      "No Country for Old Men (2007)\n",
      "The Departed (2006) \n",
      "Crash (2004)"
     ]
    }
   ],
   "source": [
    "tail 3.txt"
   ]
  },
  {
   "cell_type": "code",
   "execution_count": 45,
   "metadata": {},
   "outputs": [
    {
     "name": "stdout",
     "output_type": "stream",
     "text": [
      "The Hurt Locker (2008)\n",
      "Slumdog Millionaire (2008) \n",
      "No Country for Old Men (2007)\n",
      "The Departed (2006) \n",
      "Crash (2004)"
     ]
    }
   ],
   "source": [
    "tail -5 3.txt"
   ]
  },
  {
   "cell_type": "code",
   "execution_count": 46,
   "metadata": {},
   "outputs": [
    {
     "name": "stdout",
     "output_type": "stream",
     "text": [
      "Oscar winners for best movie:\n",
      "Gisaengchung (2019)\n",
      "Green Book (2018)\n",
      "The Shape of Water (2017) \n",
      "Moonlight (2016)\n",
      "Spotlight (2015)\n",
      "Birdman or (The Unexpected Virtue of Ignorance) (2014)\n",
      "12 Years a Slave (2013) \n",
      "Argo (2012)\n",
      "The Artist (2011)\n",
      "The King's Speech (2010)\n",
      "The Hurt Locker (2008)\n",
      "Slumdog Millionaire (2008) \n",
      "No Country for Old Men (2007)\n",
      "The Departed (2006) \n",
      "Crash (2004)"
     ]
    }
   ],
   "source": [
    "cat 3.txt"
   ]
  },
  {
   "cell_type": "code",
   "execution_count": 47,
   "metadata": {},
   "outputs": [
    {
     "name": "stdout",
     "output_type": "stream",
     "text": [
      "Oscar winners for best movie:\n",
      "Gisaengchung (2019)\n",
      "Green Book (2018)\n",
      "The Shape of Water (2017) \n",
      "Moonlight (2016)\n",
      "Spotlight (2015)\n",
      "Birdman or (The Unexpected Virtue of Ignorance) (2014)\n",
      "12 Years a Slave (2013) \n",
      "Argo (2012)\n",
      "The Artist (2011)\n"
     ]
    }
   ],
   "source": [
    "head 3.txt"
   ]
  },
  {
   "cell_type": "code",
   "execution_count": 48,
   "metadata": {},
   "outputs": [
    {
     "name": "stdout",
     "output_type": "stream",
     "text": [
      "Birdman or (The Unexpected Virtue of Ignorance) (2014)\n",
      "12 Years a Slave (2013) \n",
      "Argo (2012)\n",
      "The Artist (2011)\n",
      "The King's Speech (2010)\n",
      "The Hurt Locker (2008)\n",
      "Slumdog Millionaire (2008) \n",
      "No Country for Old Men (2007)\n",
      "The Departed (2006) \n",
      "Crash (2004)"
     ]
    }
   ],
   "source": [
    "tail 3.txt"
   ]
  },
  {
   "cell_type": "code",
   "execution_count": 49,
   "metadata": {},
   "outputs": [
    {
     "name": "stdout",
     "output_type": "stream",
     "text": [
      "12 Years a Slave (2013) \n",
      "Argo (2012)\n",
      "Birdman or (The Unexpected Virtue of Ignorance) (2014)\n",
      "Crash (2004)\n",
      "Gisaengchung (2019)\n",
      "Green Book (2018)\n",
      "Moonlight (2016)\n",
      "No Country for Old Men (2007)\n",
      "Oscar winners for best movie:\n",
      "Slumdog Millionaire (2008) \n",
      "Spotlight (2015)\n",
      "The Artist (2011)\n",
      "The Departed (2006) \n",
      "The Hurt Locker (2008)\n",
      "The King's Speech (2010)\n",
      "The Shape of Water (2017) \n"
     ]
    }
   ],
   "source": [
    "sort 3.txt"
   ]
  },
  {
   "cell_type": "code",
   "execution_count": 50,
   "metadata": {},
   "outputs": [
    {
     "name": "stdout",
     "output_type": "stream",
     "text": [
      "     1\tOscar winners for best movie:\n",
      "     2\tGisaengchung (2019)\n",
      "     3\tGreen Book (2018)\n",
      "     4\tThe Shape of Water (2017) \n",
      "     5\tMoonlight (2016)\n",
      "     6\tSpotlight (2015)\n",
      "     7\tBirdman or (The Unexpected Virtue of Ignorance) (2014)\n",
      "     8\t12 Years a Slave (2013) \n",
      "     9\tArgo (2012)\n",
      "    10\tThe Artist (2011)\n",
      "    11\tThe King's Speech (2010)\n",
      "    12\tThe Hurt Locker (2008)\n",
      "    13\tSlumdog Millionaire (2008) \n",
      "    14\tNo Country for Old Men (2007)\n",
      "    15\tThe Departed (2006) \n",
      "    16\tCrash (2004)\n"
     ]
    }
   ],
   "source": [
    "nl 3.txt"
   ]
  },
  {
   "cell_type": "code",
   "execution_count": 51,
   "metadata": {},
   "outputs": [
    {
     "name": "stdout",
     "output_type": "stream",
     "text": [
      "         1) Oscar winners for best movie:\n",
      "         2) Gisaengchung (2019)\n",
      "         3) Green Book (2018)\n",
      "         4) The Shape of Water (2017) \n",
      "         5) Moonlight (2016)\n",
      "         6) Spotlight (2015)\n",
      "         7) Birdman or (The Unexpected Virtue of Ignorance) (2014)\n",
      "         8) 12 Years a Slave (2013) \n",
      "         9) Argo (2012)\n",
      "        10) The Artist (2011)\n",
      "        11) The King's Speech (2010)\n",
      "        12) The Hurt Locker (2008)\n",
      "        13) Slumdog Millionaire (2008) \n",
      "        14) No Country for Old Men (2007)\n",
      "        15) The Departed (2006) \n",
      "        16) Crash (2004)\n"
     ]
    }
   ],
   "source": [
    "nl -s ') ' -w 10 3.txt"
   ]
  },
  {
   "cell_type": "code",
   "execution_count": 52,
   "metadata": {},
   "outputs": [
    {
     "name": "stdout",
     "output_type": "stream",
     "text": [
      " 15  59 378 3.txt\n"
     ]
    }
   ],
   "source": [
    "wc 3.txt"
   ]
  },
  {
   "cell_type": "code",
   "execution_count": 53,
   "metadata": {},
   "outputs": [
    {
     "name": "stdout",
     "output_type": "stream",
     "text": [
      "15 3.txt\n"
     ]
    }
   ],
   "source": [
    "wc -l 3.txt"
   ]
  },
  {
   "cell_type": "code",
   "execution_count": 54,
   "metadata": {},
   "outputs": [
    {
     "name": "stdout",
     "output_type": "stream",
     "text": [
      "59 3.txt\n"
     ]
    }
   ],
   "source": [
    "wc -w 3.txt"
   ]
  },
  {
   "cell_type": "code",
   "execution_count": 55,
   "metadata": {},
   "outputs": [
    {
     "name": "stdout",
     "output_type": "stream",
     "text": [
      "378 3.txt\n"
     ]
    }
   ],
   "source": [
    "wc -m 3.txt"
   ]
  },
  {
   "cell_type": "code",
   "execution_count": 57,
   "metadata": {},
   "outputs": [
    {
     "name": "stdout",
     "output_type": "stream",
     "text": [
      "Oscar winners\n",
      "Gisaengchung (2019)\n",
      "Green Book\n",
      "The Shape\n",
      "Moonlight (2016)\n",
      "Spotlight (2015)\n",
      "Birdman or\n",
      "12 Years\n",
      "Argo (2012)\n",
      "The Artist\n",
      "The King's\n",
      "The Hurt\n",
      "Slumdog Millionaire\n",
      "No Country\n",
      "The Departed\n",
      "Crash (2004)\n"
     ]
    }
   ],
   "source": [
    "cut -f 1,2 -d ' ' 3.txt"
   ]
  },
  {
   "cell_type": "code",
   "execution_count": 58,
   "metadata": {},
   "outputs": [
    {
     "name": "stdout",
     "output_type": "stream",
     "text": [
      "Oscar winners for best movie:\n",
      "Gisaengchung (2019)\n",
      "Green Book (2018)\n",
      "The Shape of Water (2017) \n",
      "Moonlight (2016)\n",
      "Spotlight (2015)\n",
      "Birdman or (The Unexpected Virtue of Ignorance) (2014)\n",
      "12 Years a Slave (2013) \n",
      "Argo (2012)\n",
      "The Artist (2011)\n",
      "The King's Speech (2010)\n",
      "The Hurt Locker (2008)\n",
      "Slumdog Millionaire (2008) \n",
      "No Country for Old Men (2007)\n",
      "The Departed (2006) \n",
      "Crash (2004)\n"
     ]
    }
   ],
   "source": [
    "uniq 3.txt"
   ]
  },
  {
   "cell_type": "code",
   "execution_count": 59,
   "metadata": {},
   "outputs": [
    {
     "name": "stdout",
     "output_type": "stream",
     "text": [
      "Oscar winners for best movie:\n",
      "Gisaengchung (2019)\n",
      "Green Book (2018)\n",
      "The Shape of Water (2017) \n",
      "Moonlight (2016)\n",
      "Spotlight (2015)\n",
      "Birdman or (The Unexpected Virtue of Ignorance) (2014)\n",
      "12 Years a Slave (2013) \n",
      "Argo (2012)\n",
      "The Artist (2011)\n",
      "The King's Speech (2010)\n",
      "The Hurt Locker (2008)\n",
      "Slumdog Millionaire (2008) \n",
      "No Country for Old Men (2007)\n",
      "The Departed (2006) \n",
      "Crash (2004)"
     ]
    }
   ],
   "source": [
    "cat 3.txt"
   ]
  },
  {
   "cell_type": "code",
   "execution_count": 60,
   "metadata": {},
   "outputs": [
    {
     "name": "stdout",
     "output_type": "stream",
     "text": [
      "Crash (2004)The Departed (2006) \n",
      "No Country for Old Men (2007)\n",
      "Slumdog Millionaire (2008) \n",
      "The Hurt Locker (2008)\n",
      "The King's Speech (2010)\n",
      "The Artist (2011)\n",
      "Argo (2012)\n",
      "12 Years a Slave (2013) \n",
      "Birdman or (The Unexpected Virtue of Ignorance) (2014)\n",
      "Spotlight (2015)\n",
      "Moonlight (2016)\n",
      "The Shape of Water (2017) \n",
      "Green Book (2018)\n",
      "Gisaengchung (2019)\n",
      "Oscar winners for best movie:\n"
     ]
    }
   ],
   "source": [
    "tac 3.txt"
   ]
  },
  {
   "cell_type": "code",
   "execution_count": 1,
   "metadata": {},
   "outputs": [],
   "source": [
    "cd"
   ]
  },
  {
   "cell_type": "code",
   "execution_count": 2,
   "metadata": {},
   "outputs": [
    {
     "name": "stdout",
     "output_type": "stream",
     "text": [
      "/home/jupyter-ekdana\n"
     ]
    }
   ],
   "source": [
    "pwd"
   ]
  },
  {
   "cell_type": "code",
   "execution_count": null,
   "metadata": {},
   "outputs": [],
   "source": [
    "cd "
   ]
  },
  {
   "cell_type": "code",
   "execution_count": null,
   "metadata": {},
   "outputs": [],
   "source": [
    "ls -ld txt"
   ]
  },
  {
   "cell_type": "code",
   "execution_count": null,
   "metadata": {},
   "outputs": [],
   "source": [
    "ls -ld test"
   ]
  },
  {
   "cell_type": "code",
   "execution_count": null,
   "metadata": {},
   "outputs": [],
   "source": [
    "ls -ld test1.txt"
   ]
  },
  {
   "cell_type": "code",
   "execution_count": null,
   "metadata": {},
   "outputs": [],
   "source": [
    "chmod 545 test1.txt"
   ]
  },
  {
   "cell_type": "code",
   "execution_count": null,
   "metadata": {},
   "outputs": [],
   "source": [
    "ls -l"
   ]
  },
  {
   "cell_type": "code",
   "execution_count": null,
   "metadata": {},
   "outputs": [],
   "source": [
    "pwd"
   ]
  },
  {
   "cell_type": "code",
   "execution_count": null,
   "metadata": {},
   "outputs": [],
   "source": [
    "cd"
   ]
  },
  {
   "cell_type": "code",
   "execution_count": null,
   "metadata": {},
   "outputs": [],
   "source": []
  }
 ],
 "metadata": {
  "kernelspec": {
   "display_name": "Bash",
   "language": "bash",
   "name": "bash"
  },
  "language_info": {
   "codemirror_mode": "shell",
   "file_extension": ".sh",
   "mimetype": "text/x-sh",
   "name": "bash"
  }
 },
 "nbformat": 4,
 "nbformat_minor": 4
}
