{
 "cells": [
  {
   "cell_type": "code",
   "execution_count": 4,
   "metadata": {},
   "outputs": [
    {
     "name": "stdout",
     "output_type": "stream",
     "text": [
      "/bin/bash\n"
     ]
    }
   ],
   "source": [
    "echo $SHELL"
   ]
  },
  {
   "cell_type": "code",
   "execution_count": 5,
   "metadata": {},
   "outputs": [
    {
     "name": "stdout",
     "output_type": "stream",
     "text": [
      "/home/jupyter-ekdana/K.Dana\n"
     ]
    }
   ],
   "source": [
    "pwd"
   ]
  },
  {
   "cell_type": "code",
   "execution_count": 6,
   "metadata": {},
   "outputs": [
    {
     "name": "stdout",
     "output_type": "stream",
     "text": [
      "ekDana_USK_02.ipynb  resume.txt  Untitled1.ipynb  untitled.dio  Untitled.ipynb\n"
     ]
    }
   ],
   "source": [
    "ls"
   ]
  },
  {
   "cell_type": "code",
   "execution_count": 7,
   "metadata": {},
   "outputs": [],
   "source": [
    "cd"
   ]
  },
  {
   "cell_type": "code",
   "execution_count": 8,
   "metadata": {},
   "outputs": [
    {
     "name": "stdout",
     "output_type": "stream",
     "text": [
      "ekDana_USK_01_file.ipynb  K.Dana  Untitled1.ipynb\n",
      "ekDana_USK_01_file.pdf    shared\n"
     ]
    }
   ],
   "source": [
    "ls"
   ]
  },
  {
   "cell_type": "code",
   "execution_count": 9,
   "metadata": {},
   "outputs": [],
   "source": [
    "cd /"
   ]
  },
  {
   "cell_type": "code",
   "execution_count": 10,
   "metadata": {},
   "outputs": [
    {
     "name": "stdout",
     "output_type": "stream",
     "text": [
      "bin    etc             lib         mkdir  root  srv       usr\n",
      "boot   home            lib64       mnt    run   swap.img  var\n",
      "cdrom  initrd.img      lost+found  opt    sbin  sys       vmlinuz\n",
      "dev    initrd.img.old  media       proc   snap  tmp       vmlinuz.old\n"
     ]
    }
   ],
   "source": [
    "ls"
   ]
  },
  {
   "cell_type": "code",
   "execution_count": 11,
   "metadata": {},
   "outputs": [],
   "source": [
    "cd /etc"
   ]
  },
  {
   "cell_type": "code",
   "execution_count": 12,
   "metadata": {},
   "outputs": [
    {
     "name": "stdout",
     "output_type": "stream",
     "text": [
      "acpi                    inputrc                  protocols\n",
      "adduser.conf            iproute2                 python\n",
      "alternatives            iscsi                    python2.7\n",
      "apache2                 issue                    python3\n",
      "apm                     issue.net                python3.6\n",
      "apparmor                java-11-openjdk          python3.8\n",
      "apparmor.d              kernel                   rc0.d\n",
      "apport                  kernel-img.conf          rc1.d\n",
      "apt                     landscape                rc2.d\n",
      "at.deny                 ldap                     rc3.d\n",
      "bash.bashrc             ld.so.cache              rc4.d\n",
      "bash_completion         ld.so.conf               rc5.d\n",
      "bash_completion.d       ld.so.conf.d             rc6.d\n",
      "bindresvport.blacklist  legal                    rc.local\n",
      "binfmt.d                libaudit.conf            rcS.d\n",
      "byobu                   libnl-3                  resolv.conf\n",
      "ca-certificates         libpaper.d               rmt\n",
      "ca-certificates.conf    lighttpd                 rpc\n",
      "calendar                locale.alias             rsyslog.conf\n",
      "cloud                   locale.gen               rsyslog.d\n",
      "console-setup           localtime                screenrc\n",
      "cron.d                  logcheck                 securetty\n",
      "cron.daily              login.defs               security\n",
      "cron.hourly             logrotate.conf           selinux\n",
      "cron.monthly            logrotate.d              sensors3.conf\n",
      "crontab                 lsb-release              sensors.d\n",
      "cron.weekly             ltrace.conf              services\n",
      "cryptsetup-initramfs    lvm                      shadow\n",
      "crypttab                machine-id               shadow-\n",
      "dbus-1                  magic                    shells\n",
      "debconf.conf            magic.mime               skel\n",
      "debian_version          mailcap                  sos.conf\n",
      "default                 mailcap.order            ssh\n",
      "deluser.conf            manpath.config           ssl\n",
      "depmod.d                mdadm                    subgid\n",
      "dhcp                    mime.types               subgid-\n",
      "dnsmasq.d               mke2fs.conf              subuid\n",
      "dnsmasq.d-available     modprobe.d               subuid-\n",
      "dpkg                    modules                  sudoers\n",
      "environment             modules-load.d           sudoers.d\n",
      "ethertypes              mtab                     supervisord.conf\n",
      "fonts                   mysql                    sysctl.conf\n",
      "fstab                   nanorc                   sysctl.d\n",
      "fuse.conf               netplan                  systemd\n",
      "gai.conf                network                  terminfo\n",
      "ghostscript             networkd-dispatcher      texmf\n",
      "glvnd                   NetworkManager           thermald\n",
      "groff                   networks                 timezone\n",
      "group                   newt                     tmpfiles.d\n",
      "group-                  nsswitch.conf            ucf.conf\n",
      "grub.d                  octave.conf              udev\n",
      "gshadow                 opt                      ufw\n",
      "gshadow-                os-release               updatedb.conf\n",
      "gss                     overlayroot.conf         update-manager\n",
      "gtk-2.0                 pam.conf                 update-motd.d\n",
      "gtk-3.0                 pam.d                    update-notifier\n",
      "hdparm.conf             papersize                vim\n",
      "host.conf               passwd                   vmware-tools\n",
      "hostname                passwd-                  vtrgb\n",
      "hosts                   perl                     wgetrc\n",
      "hosts.allow             pm                       X11\n",
      "hosts.deny              polkit-1                 xdg\n",
      "ImageMagick-6           pollinate                zsh\n",
      "init                    popularity-contest.conf  zsh_command_not_found\n",
      "init.d                  profile\n",
      "initramfs-tools         profile.d\n"
     ]
    }
   ],
   "source": [
    "ls"
   ]
  },
  {
   "cell_type": "code",
   "execution_count": 13,
   "metadata": {},
   "outputs": [
    {
     "name": "stdout",
     "output_type": "stream",
     "text": [
      "bash: cd: too many arguments\n"
     ]
    },
    {
     "ename": "",
     "evalue": "1",
     "output_type": "error",
     "traceback": []
    }
   ],
   "source": [
    "cd / bin"
   ]
  },
  {
   "cell_type": "code",
   "execution_count": 14,
   "metadata": {},
   "outputs": [
    {
     "name": "stdout",
     "output_type": "stream",
     "text": [
      "bash: cd/home: No such file or directory\n"
     ]
    },
    {
     "ename": "",
     "evalue": "127",
     "output_type": "error",
     "traceback": []
    }
   ],
   "source": [
    "cd/home"
   ]
  },
  {
   "cell_type": "code",
   "execution_count": 15,
   "metadata": {},
   "outputs": [],
   "source": [
    "cd /"
   ]
  },
  {
   "cell_type": "code",
   "execution_count": 16,
   "metadata": {},
   "outputs": [
    {
     "name": "stdout",
     "output_type": "stream",
     "text": [
      "/\n"
     ]
    }
   ],
   "source": [
    "pwd"
   ]
  },
  {
   "cell_type": "code",
   "execution_count": 17,
   "metadata": {},
   "outputs": [],
   "source": [
    "cd home "
   ]
  },
  {
   "cell_type": "code",
   "execution_count": 18,
   "metadata": {},
   "outputs": [
    {
     "name": "stdout",
     "output_type": "stream",
     "text": [
      "\n",
      "Command 'Pwd' not found, did you mean:\n",
      "\n",
      "  command 'gwd' from deb geneweb\n",
      "  command 'xwd' from deb x11-apps\n",
      "  command 'pwd' from deb coreutils\n",
      "\n",
      "Try: apt install <deb name>\n",
      "\n"
     ]
    },
    {
     "ename": "",
     "evalue": "127",
     "output_type": "error",
     "traceback": []
    }
   ],
   "source": [
    "Pwd"
   ]
  },
  {
   "cell_type": "code",
   "execution_count": 19,
   "metadata": {},
   "outputs": [
    {
     "name": "stdout",
     "output_type": "stream",
     "text": [
      "/home\n"
     ]
    }
   ],
   "source": [
    "pwd"
   ]
  },
  {
   "cell_type": "code",
   "execution_count": 20,
   "metadata": {},
   "outputs": [
    {
     "name": "stdout",
     "output_type": "stream",
     "text": [
      "azat                   jupyter-azat           jupyter-nurlaura\n",
      "jupyter-admin          jupyter-cubefiction    jupyter-nurlaura2\n",
      "jupyter-aiana178       jupyter-danenok        jupyter-official-nanakai\n",
      "jupyter-aigerimunisat  jupyter-darganius      jupyter-orissim\n",
      "jupyter-aizadait       jupyter-ekdana         jupyter-tsagynysh\n",
      "jupyter-amayakof       jupyter-inkar601       jupyter-unisat\n",
      "jupyter-amirkhan       jupyter-kkenzh         jupyter-yeldana\n",
      "jupyter-arayka         jupyter-nazymungarova  jupyter-zhandos\n",
      "jupyter-aruzhan149     jupyter-nuray.serkali  jupyter-zhanelbaltabay\n",
      "jupyter-aselleon       jupyter-nurike         jupyter-zhannaspace\n"
     ]
    }
   ],
   "source": [
    "ls"
   ]
  },
  {
   "cell_type": "code",
   "execution_count": 21,
   "metadata": {},
   "outputs": [],
   "source": [
    "cd jupyter-ekdana"
   ]
  },
  {
   "cell_type": "code",
   "execution_count": 22,
   "metadata": {},
   "outputs": [
    {
     "name": "stdout",
     "output_type": "stream",
     "text": [
      "/home/jupyter-ekdana\n"
     ]
    }
   ],
   "source": [
    "pwd"
   ]
  },
  {
   "cell_type": "code",
   "execution_count": 23,
   "metadata": {},
   "outputs": [
    {
     "name": "stdout",
     "output_type": "stream",
     "text": [
      "ekDana_USK_01_file.ipynb  K.Dana  Untitled1.ipynb\n",
      "ekDana_USK_01_file.pdf    shared\n"
     ]
    }
   ],
   "source": [
    "ls"
   ]
  },
  {
   "cell_type": "code",
   "execution_count": 24,
   "metadata": {},
   "outputs": [
    {
     "name": "stdout",
     "output_type": "stream",
     "text": [
      "bash: cd: media: No such file or directory\n"
     ]
    },
    {
     "ename": "",
     "evalue": "1",
     "output_type": "error",
     "traceback": []
    }
   ],
   "source": [
    "cd media"
   ]
  },
  {
   "cell_type": "code",
   "execution_count": 25,
   "metadata": {},
   "outputs": [
    {
     "name": "stdout",
     "output_type": "stream",
     "text": [
      "bash: cd: usr: No such file or directory\n"
     ]
    },
    {
     "ename": "",
     "evalue": "1",
     "output_type": "error",
     "traceback": []
    }
   ],
   "source": [
    "cd usr"
   ]
  },
  {
   "cell_type": "code",
   "execution_count": 26,
   "metadata": {},
   "outputs": [
    {
     "name": "stdout",
     "output_type": "stream",
     "text": [
      "bash: cd: bin: No such file or directory\n"
     ]
    },
    {
     "ename": "",
     "evalue": "1",
     "output_type": "error",
     "traceback": []
    }
   ],
   "source": [
    "cd bin"
   ]
  },
  {
   "cell_type": "code",
   "execution_count": 27,
   "metadata": {},
   "outputs": [],
   "source": [
    "cd /"
   ]
  },
  {
   "cell_type": "code",
   "execution_count": 28,
   "metadata": {},
   "outputs": [
    {
     "name": "stdout",
     "output_type": "stream",
     "text": [
      "/\n"
     ]
    }
   ],
   "source": [
    "pwd"
   ]
  },
  {
   "cell_type": "code",
   "execution_count": 29,
   "metadata": {},
   "outputs": [],
   "source": [
    "cd media"
   ]
  },
  {
   "cell_type": "code",
   "execution_count": 30,
   "metadata": {},
   "outputs": [
    {
     "name": "stdout",
     "output_type": "stream",
     "text": [
      "/media\n"
     ]
    }
   ],
   "source": [
    "pwd"
   ]
  },
  {
   "cell_type": "code",
   "execution_count": 31,
   "metadata": {},
   "outputs": [],
   "source": [
    "ls"
   ]
  },
  {
   "cell_type": "code",
   "execution_count": 33,
   "metadata": {},
   "outputs": [],
   "source": [
    "cd /"
   ]
  },
  {
   "cell_type": "code",
   "execution_count": 34,
   "metadata": {},
   "outputs": [
    {
     "name": "stdout",
     "output_type": "stream",
     "text": [
      "/\n"
     ]
    }
   ],
   "source": [
    "pwd"
   ]
  },
  {
   "cell_type": "code",
   "execution_count": 2,
   "metadata": {},
   "outputs": [
    {
     "name": "stdout",
     "output_type": "stream",
     "text": [
      "ekDana_USK_02.ipynb  ekdana_USK-CD.ipynb  resume.txt\n",
      "ekdana_USK_cd.dio    hw-1.ipynb           USK-1.ipynb\n"
     ]
    }
   ],
   "source": [
    "ls"
   ]
  },
  {
   "cell_type": "code",
   "execution_count": 3,
   "metadata": {},
   "outputs": [],
   "source": [
    "cd /"
   ]
  },
  {
   "cell_type": "code",
   "execution_count": 4,
   "metadata": {},
   "outputs": [
    {
     "name": "stdout",
     "output_type": "stream",
     "text": [
      "/\n"
     ]
    }
   ],
   "source": [
    "pwd"
   ]
  },
  {
   "cell_type": "code",
   "execution_count": 5,
   "metadata": {},
   "outputs": [
    {
     "name": "stdout",
     "output_type": "stream",
     "text": [
      "bin    etc             lib         mkdir  root  srv       usr\n",
      "boot   home            lib64       mnt    run   swap.img  var\n",
      "cdrom  initrd.img      lost+found  opt    sbin  sys       vmlinuz\n",
      "dev    initrd.img.old  media       proc   snap  tmp       vmlinuz.old\n"
     ]
    }
   ],
   "source": [
    "ls"
   ]
  },
  {
   "cell_type": "code",
   "execution_count": 6,
   "metadata": {},
   "outputs": [],
   "source": [
    "cd usr"
   ]
  },
  {
   "cell_type": "code",
   "execution_count": 7,
   "metadata": {},
   "outputs": [
    {
     "name": "stdout",
     "output_type": "stream",
     "text": [
      "/usr\n"
     ]
    }
   ],
   "source": [
    "pwd"
   ]
  },
  {
   "cell_type": "code",
   "execution_count": 8,
   "metadata": {},
   "outputs": [
    {
     "name": "stdout",
     "output_type": "stream",
     "text": [
      "bin  games  include  lib  local  sbin  share  src\n"
     ]
    }
   ],
   "source": [
    "ls"
   ]
  },
  {
   "cell_type": "code",
   "execution_count": 11,
   "metadata": {},
   "outputs": [
    {
     "name": "stdout",
     "output_type": "stream",
     "text": [
      "cat: usr: No such file or directory\n"
     ]
    },
    {
     "ename": "",
     "evalue": "1",
     "output_type": "error",
     "traceback": []
    }
   ],
   "source": [
    "cat usr\n"
   ]
  },
  {
   "cell_type": "code",
   "execution_count": 12,
   "metadata": {},
   "outputs": [
    {
     "name": "stdout",
     "output_type": "stream",
     "text": [
      "No manual entry for usr\n"
     ]
    },
    {
     "ename": "",
     "evalue": "16",
     "output_type": "error",
     "traceback": []
    }
   ],
   "source": [
    "man usr"
   ]
  },
  {
   "cell_type": "code",
   "execution_count": 13,
   "metadata": {},
   "outputs": [
    {
     "name": "stdout",
     "output_type": "stream",
     "text": [
      "/usr\n"
     ]
    }
   ],
   "source": [
    "pwd"
   ]
  },
  {
   "cell_type": "code",
   "execution_count": 14,
   "metadata": {},
   "outputs": [],
   "source": [
    "cd bin"
   ]
  },
  {
   "cell_type": "code",
   "execution_count": 15,
   "metadata": {},
   "outputs": [
    {
     "name": "stdout",
     "output_type": "stream",
     "text": [
      "'['                                   mysql_upgrade\n",
      " 2to3-2.7                             namei\n",
      " aa-enabled                           nawk\n",
      " aa-exec                              ncal\n",
      " acpi_listen                          neqn\n",
      " add-apt-repository                   netkit-ftp\n",
      " addpart                              networkd-dispatcher\n",
      " addr2line                            newgidmap\n",
      " afm2pl                               newgrp\n",
      " afm2tfm                              newuidmap\n",
      " aleph                                NF\n",
      " allcm                                ngettext\n",
      " allec                                nice\n",
      " allneeded                            nl\n",
      " apport-bug                           nm\n",
      " apport-cli                           node\n",
      " apport-collect                       nodejs\n",
      " apport-unpack                        nohup\n",
      " appres                               npm\n",
      " apropos                              nproc\n",
      " apt                                  npx\n",
      " apt-add-repository                   nroff\n",
      " apt-cache                            nsenter\n",
      " apt-cdrom                            nslookup\n",
      " apt-config                           nstat\n",
      " apt-extracttemplates                 nsupdate\n",
      " apt-ftparchive                       ntfsdecrypt\n",
      " apt-get                              numfmt\n",
      " apt-key                              objcopy\n",
      " apt-mark                             objdump\n",
      " apt-sortpkgs                         octave\n",
      " ar                                   octave-cli\n",
      " arch                                 od\n",
      " as                                   odvicopy\n",
      " at                                   odvitype\n",
      " atq                                  ofm2opl\n",
      " atrm                                 omfonts\n",
      " authorindex                          on_ac_power\n",
      " automat-visualize3                   openssl\n",
      " autosp                               opl2ofm\n",
      " awk                                  os-prober\n",
      " b2sum                                otangle\n",
      " base32                               otp2ocp\n",
      " base64                               outocp\n",
      " basename                             ovf2ovp\n",
      " bashbug                              ovp2ovf\n",
      " batch                                pack200\n",
      " bc                                   pager\n",
      " bibtex                               pandoc\n",
      " bibtex8                              paperconf\n",
      " bibtex.original                      partx\n",
      " bibtexu                              passwd\n",
      " bootctl                              paste\n",
      " broadwayd                            pastebinit\n",
      " browse                               patch\n",
      " bsd-from                             patgen\n",
      " bsd-write                            pathchk\n",
      " busctl                               pbget\n",
      " byobu                                pbibtex\n",
      " byobu-config                         pbput\n",
      " byobu-ctrl-a                         pbputs\n",
      " byobu-disable                        pcimodules\n",
      " byobu-disable-prompt                 pdb\n",
      " byobu-enable                         pdb2.7\n",
      " byobu-enable-prompt                  pdb3\n",
      " byobu-export                         pdb3.6\n",
      " byobu-janitor                        pdb3.8\n",
      " byobu-keybindings                    pdf2dsc\n",
      " byobu-launch                         pdf2ps\n",
      " byobu-launcher                       pdfannotextractor\n",
      " byobu-launcher-install               pdfatfi\n",
      " byobu-launcher-uninstall             pdfclose\n",
      " byobu-layout                         pdfetex\n",
      " byobu-prompt                         pdflatex\n",
      " byobu-quiet                          pdfopen\n",
      " byobu-reconnect-sockets              pdftex\n",
      " byobu-screen                         pdftexi2dvi\n",
      " byobu-select-backend                 pdftosrc\n",
      " byobu-select-profile                 pdvitomp\n",
      " byobu-select-session                 pdvitype\n",
      " byobu-shell                          peekfd\n",
      " byobu-silent                         perl\n",
      " byobu-status                         perl5.26.1\n",
      " byobu-status-detail                  perl5.26-x86_64-linux-gnu\n",
      " byobu-tmux                           perlbug\n",
      " byobu-ugraph                         perldoc\n",
      " byobu-ulevel                         perlivp\n",
      " c++                                  perltex\n",
      " c89                                  perlthanks\n",
      " c89-gcc                              perror\n",
      " c99                                  pf2afm\n",
      " c99-gcc                              pfb2pfa\n",
      " cachepic                             pfbtopfa\n",
      " cal                                  pftp\n",
      " calendar                             pgrep\n",
      " captoinfo                            pic\n",
      " catchsegv                            pico\n",
      " catman                               piconv\n",
      " cautious-launcher                    pinentry\n",
      " cc                                   pinentry-curses\n",
      " c++filt                              pinky\n",
      " cftp3                                pip3\n",
      " chacl                                pk2bm\n",
      " chage                                pkaction\n",
      " chardet3                             pkcheck\n",
      " chardetect3                          pkexec\n",
      " chattr                               pkill\n",
      " chcon                                pktogf\n",
      " check-language-support               pkttyagent\n",
      " chfn                                 pktype\n",
      " chrt                                 pl2pm\n",
      " chsh                                 pldd\n",
      " ckbcomp                              pltotf\n",
      " ckeygen3                             pmap\n",
      " cksum                                pmpost\n",
      " clear                                pmxab\n",
      " clear_console                        pn2pdf\n",
      " cloud-id                             pod2html\n",
      " cloud-init                           pod2man\n",
      " cloud-init-per                       pod2texi\n",
      " cmp                                  pod2text\n",
      " codepage                             pod2usage\n",
      " col                                  podchecker\n",
      " col1                                 podselect\n",
      " col2                                 pollinate\n",
      " col3                                 pooltype\n",
      " col4                                 POST\n",
      " col5                                 pphs\n",
      " col6                                 ppltotf\n",
      " col7                                 pr\n",
      " col8                                 preconv\n",
      " col9                                 prepmx\n",
      " colcrt                               print\n",
      " colrm                                printafm\n",
      " column                               printenv\n",
      " comm                                 printerbanner\n",
      " compose                              printf\n",
      " conch3                               prlimit\n",
      " corelist                             prove\n",
      " cpan                                 prtstat\n",
      " cpan5.26-x86_64-linux-gnu            ps2ascii\n",
      " cpp                                  ps2epsi\n",
      " cpp-7                                ps2pdf\n",
      " c_rehash                             ps2pdf12\n",
      " crontab                              ps2pdf13\n",
      " csplit                               ps2pdf14\n",
      " ctail                                ps2pdfwr\n",
      " ctangle                              ps2pk\n",
      " ctie                                 ps2ps\n",
      " ctstat                               ps2ps2\n",
      " curl                                 ps2txt\n",
      " curl-config                          psfaddtable\n",
      " cut                                  psfgettable\n",
      " cweave                               psfstriptable\n",
      " dbus-cleanup-sockets                 psfxtable\n",
      " dbus-daemon                          pslog\n",
      " dbus-monitor                         pstoedit\n",
      " dbus-run-session                     pstree\n",
      " dbus-send                            pstree.x11\n",
      " dbus-update-activation-environment   ptar\n",
      " dbus-uuidgen                         ptardiff\n",
      " deallocvt                            ptargrep\n",
      " debconf                              ptex\n",
      " debconf-apt-progress                 ptftopl\n",
      " debconf-communicate                  ptx\n",
      " debconf-copydb                       purge-old-kernels\n",
      " debconf-escape                       pwdx\n",
      " debconf-set-selections               py3clean\n",
      " debconf-show                         py3compile\n",
      " deb-systemd-helper                   py3versions\n",
      " deb-systemd-invoke                   pybuild\n",
      " delpart                              pyclean\n",
      " delv                                 pycompile\n",
      " detex                                pydoc\n",
      " devnag                               pydoc2.7\n",
      " dh_bash-completion                   pydoc3\n",
      " dh_installtex                        pydoc3.6\n",
      " dh_perl_openssl                      pydoc3.8\n",
      " dh_pypy                              pygettext\n",
      " dh_python2                           pygettext2.7\n",
      " dh_python3                           pygettext3\n",
      " diff                                 pygettext3.6\n",
      " diff3                                pygettext3.8\n",
      " dig                                  pygmentex\n",
      " dircolors                            pyhtmlizer3\n",
      " dirmngr                              pyjwt3\n",
      " dirmngr-client                       python\n",
      " dirname                              python2\n",
      " disdvi                               python2.7\n",
      " do-release-upgrade                   python3\n",
      " dpkg                                 python3.6\n",
      " dpkg-architecture                    python3.6-config\n",
      " dpkg-buildflags                      python3.6m\n",
      " dpkg-buildpackage                    python3.6m-config\n",
      " dpkg-checkbuilddeps                  python3.8\n",
      " dpkg-deb                             python3.8-config\n",
      " dpkg-distaddfile                     python3-config\n",
      " dpkg-divert                          python3-jsondiff\n",
      " dpkg-genbuildinfo                    python3-jsonpatch\n",
      " dpkg-genchanges                      python3-jsonpointer\n",
      " dpkg-gencontrol                      python3-jsonschema\n",
      " dpkg-gensymbols                      python3m\n",
      " dpkg-maintscript-helper              python3m-config\n",
      " dpkg-mergechangelogs                 pyvenv\n",
      " dpkg-name                            pyvenv-3.6\n",
      " dpkg-parsechangelog                  pyversions\n",
      " dpkg-query                           rake\n",
      " dpkg-scanpackages                    ranlib\n",
      " dpkg-scansources                     rcp\n",
      " dpkg-shlibdeps                       rdma\n",
      " dpkg-source                          rdoc\n",
      " dpkg-split                           rdoc2.5\n",
      " dpkg-statoverride                    readelf\n",
      " dpkg-trigger                         realpath\n",
      " dpkg-vendor                          rename.ul\n",
      " dt2dv                                renice\n",
      " du                                   replace\n",
      " dumpkeys                             reset\n",
      " dv2dt                                resize\n",
      " dvi2fax                              resizecons\n",
      " dvi2tty                              resizepart\n",
      " dvibook                              resolveip\n",
      " dviconcat                            rev\n",
      " dvicopy                              rgrep\n",
      " dvihp                                ri\n",
      " dvilj                                ri2.5\n",
      " dvilj2p                              rlogin\n",
      " dvilj4                               rmid\n",
      " dvilj4l                              rmiregistry\n",
      " dvilj6                               routef\n",
      " dvilualatex                          routel\n",
      " dviluatex                            rpcgen\n",
      " dvipdf                               rsh\n",
      " dvipdfm                              rsync\n",
      " dvipdfmx                             rtstat\n",
      " dvipdft                              ruby\n",
      " dvipos                               ruby2.5\n",
      " dvips                                runcon\n",
      " dvired                               run-mailcap\n",
      " dviselect                            run-one\n",
      " dvisvgm                              run-one-constantly\n",
      " dvitodvi                             run-one-until-failure\n",
      " dvitomp                              run-one-until-success\n",
      " dvitype                              run-this-one\n",
      " dwp                                  rview\n",
      " eatmydata                            rvim\n",
      " ebb                                  savelog\n",
      " ec2metadata                          sbattach\n",
      " edit                                 sbkeysync\n",
      " editor                               sbsiglist\n",
      " editres                              sbsign\n",
      " eject                                sbvarsign\n",
      " elfedit                              sbverify\n",
      " enc2xs                               scor2prt\n",
      " encguess                             scp\n",
      " env                                  screen\n",
      " envsubst                             screendump\n",
      " eps2eps                              script\n",
      " epspdf                               scriptreplay\n",
      " epspdftk                             sdiff\n",
      " epstool                              see\n",
      " eptex                                select-editor\n",
      " eqn                                  sensible-browser\n",
      " erb                                  sensible-editor\n",
      " erb2.5                               sensible-pager\n",
      " etex                                 seq\n",
      " euptex                               sessreg\n",
      " ex                                   setarch\n",
      " exceltex                             setfacl\n",
      " expand                               setkeycodes\n",
      " expiry                               setleds\n",
      " expr                                 setlogcons\n",
      " extractbb                            setmetamode\n",
      " factor                               setpci\n",
      " faillog                              setsid\n",
      " faked-sysv                           setterm\n",
      " faked-tcp                            sftp\n",
      " fakeroot                             sg\n",
      " fakeroot-sysv                        sha1sum\n",
      " fakeroot-tcp                         sha224sum\n",
      " fallocate                            sha256sum\n",
      " fc-cache                             sha384sum\n",
      " fc-cat                               sha512sum\n",
      " fc-list                              shasum\n",
      " fc-match                             showconsolefont\n",
      " fc-pattern                           showkey\n",
      " fc-query                             showrgb\n",
      " fc-scan                              shred\n",
      " fc-validate                          shuf\n",
      " fig4latex                            simpdftex\n",
      " file                                 size\n",
      " find                                 skill\n",
      " flock                                slabtop\n",
      " fmt                                  slogin\n",
      " fmtutil                              snap\n",
      " fmtutil-sys                          snapctl\n",
      " fmtutil-user                         snapfuse\n",
      " fold                                 snice\n",
      " free                                 soelim\n",
      " from                                 sort\n",
      " ftp                                  sosreport\n",
      " funzip                               sotruss\n",
      " g++                                  splain\n",
      " g++-7                                split\n",
      " gawk                                 splitfont\n",
      " gcc                                  splitindex\n",
      " gcc-7                                sprof\n",
      " gcc-ar                               ssh\n",
      " gcc-ar-7                             ssh-add\n",
      " gcc-nm                               ssh-agent\n",
      " gcc-nm-7                             ssh-argv0\n",
      " gcc-ranlib                           ssh-copy-id\n",
      " gcc-ranlib-7                         ssh-import-id\n",
      " gcov                                 ssh-import-id-gh\n",
      " gcov-7                               ssh-import-id-lp\n",
      " gcov-dump                            ssh-keygen\n",
      " gcov-dump-7                          ssh-keyscan\n",
      " gcov-tool                            stat\n",
      " gcov-tool-7                          stdbuf\n",
      " gdk-pixbuf-thumbnailer               strace\n",
      " gem                                  strace-log-merge\n",
      " gem2.5                               strings\n",
      " gencat                               strip\n",
      " geqn                                 sudo\n",
      " GET                                  sudoedit\n",
      " getconf                              sudoreplay\n",
      " getent                               sum\n",
      " getfacl                              svn-multi\n",
      " getkeycodes                          symcryptrun\n",
      " getmapdl                             synctex\n",
      " getopt                               systemd-analyze\n",
      " gettext                              systemd-cat\n",
      " gettext.sh                           systemd-cgls\n",
      " gftodvi                              systemd-cgtop\n",
      " gftopk                               systemd-delta\n",
      " gftype                               systemd-detect-virt\n",
      " ghostscript                          systemd-mount\n",
      " ginstall-info                        systemd-path\n",
      " git                                  systemd-resolve\n",
      " git-receive-pack                     systemd-run\n",
      " git-shell                            systemd-socket-activate\n",
      " git-upload-archive                   systemd-stdio-bridge\n",
      " git-upload-pack                      systemd-umount\n",
      " gnuplot                              t1ascii\n",
      " gnuplot-qt                           t1asm\n",
      " gold                                 t1binary\n",
      " gpasswd                              t1disasm\n",
      " gpg                                  t1mac\n",
      " gpg2                                 t1unmac\n",
      " gpg-agent                            t4ht\n",
      " gpgconf                              tabs\n",
      " gpg-connect-agent                    tac\n",
      " gpgparsemail                         tail\n",
      " gpgsm                                tangle\n",
      " gpgsplit                             taskset\n",
      " gpgv                                 tbl\n",
      " gpg-wks-server                       tclsh\n",
      " gpg-zip                              tclsh8.6\n",
      " gpic                                 teckit_compile\n",
      " gprof                                tee\n",
      " gregorio                             telnet\n",
      " groff                                telnet.netkit\n",
      " grog                                 test\n",
      " grops                                tex\n",
      " grotty                               tex4ht\n",
      " groups                               texdoc\n",
      " growpart                             texdoctk\n",
      " grub-editenv                         texhash\n",
      " grub-file                            texi2any\n",
      " grub-fstest                          texi2dvi\n",
      " grub-glue-efi                        texi2pdf\n",
      " grub-kbdcomp                         texindex\n",
      " grub-menulst2cfg                     texlua\n",
      " grub-mkfont                          texluac\n",
      " grub-mkimage                         texluajit\n",
      " grub-mklayout                        texluajitc\n",
      " grub-mknetdir                        tftopl\n",
      " grub-mkpasswd-pbkdf2                 thumbpdf\n",
      " grub-mkrelpath                       tic\n",
      " grub-mkrescue                        tie\n",
      " grub-mkstandalone                    time\n",
      " grub-mount                           timedatectl\n",
      " grub-render-label                    timeout\n",
      " grub-script-check                    tkconch3\n",
      " grub-syslinux2cfg                    tljh-config\n",
      " gs                                   tlmgr\n",
      " gsbj                                 tload\n",
      " gsdj                                 tl-paper\n",
      " gsdj500                              tmux\n",
      " gsftopk                              toe\n",
      " gslj                                 top\n",
      " gslp                                 touch\n",
      " gsnd                                 tpic2pdftex\n",
      " gtbl                                 tput\n",
      " gtk-builder-tool                     tr\n",
      " gtk-launch                           tracepath\n",
      " gtk-query-settings                   traceroute6\n",
      " gtk-update-icon-cache                traceroute6.iputils\n",
      " h2ph                                 trial3\n",
      " h2xs                                 troff\n",
      " hd                                   truncate\n",
      " head                                 tset\n",
      " HEAD                                 tslab\n",
      " helpztags                            tsort\n",
      " hexdump                              ttf2afm\n",
      " host                                 ttf2pk\n",
      " hostid                               ttf2tfm\n",
      " hostnamectl                          ttfdump\n",
      " ht                                   tty\n",
      " htcontext                            twist3\n",
      " htlatex                              twistd3\n",
      " htmex                                txixml2texi\n",
      " htop                                 tzselect\n",
      " httex                                ua\n",
      " httexi                               ubuntu-advantage\n",
      " htxelatex                            ubuntu-bug\n",
      " htxetex                              ubuntu-core-launcher\n",
      " hwe-support-status                   ubuntu-support-status\n",
      " i386                                 ucf\n",
      " iceauth                              ucfq\n",
      " iconv                                ucfr\n",
      " id                                   ul\n",
      " igawk                                unattended-upgrade\n",
      " info                                 unattended-upgrades\n",
      " infobrowser                          unexpand\n",
      " infocmp                              unicode_stop\n",
      " infotocap                            uniq\n",
      " inimf                                unlink\n",
      " initex                               unlzma\n",
      " innochecksum                         unmkinitramfs\n",
      " install                              unpack200\n",
      " install-info                         unshare\n",
      " instmodsh                            unsquashfs\n",
      " ionice                               unxz\n",
      " ipcmk                                unzip\n",
      " ipcrm                                unzipsfx\n",
      " ipcs                                 upbibtex\n",
      " iptables-xml                         update-alternatives\n",
      " irb                                  updatedb\n",
      " irb2.5                               updatedb.mlocate\n",
      " ischroot                             update-mime-database\n",
      " iscsiadm                             update-perl-sax-parsers\n",
      " java                                 updmap\n",
      " jexec                                updmap-sys\n",
      " jfr                                  updmap-user\n",
      " jjs                                  updvitomp\n",
      " join                                 updvitype\n",
      " jsondiff                             upmendex\n",
      " jsonpatch                            upmpost\n",
      " jsonpointer                          uppltotf\n",
      " json_pp                              uptex\n",
      " jsonschema                           uptftopl\n",
      " kbdinfo                              uptime\n",
      " kbxutil                              usb-devices\n",
      " keep-one-running                     usbhid-dump\n",
      " kernel-install                       users\n",
      " keyring                              utmpdump\n",
      " keytool                              uuidgen\n",
      " killall                              uuidparse\n",
      " kmodsign                             uxterm\n",
      " koi8rxterm                           vcs-run\n",
      " kpseaccess                           vftovp\n",
      " kpsepath                             VGAuthService\n",
      " kpsereadlink                         vi\n",
      " kpsestat                             view\n",
      " kpsetool                             viewres\n",
      " kpsewhere                            vigpg\n",
      " kpsewhich                            vim\n",
      " kpsexpand                            vim.basic\n",
      " landscape-sysinfo                    vimdiff\n",
      " last                                 vim.tiny\n",
      " lastb                                vimtutor\n",
      " lastlog                              vlna\n",
      " latex                                vmhgfs-fuse\n",
      " latex-wordcount                      vmstat\n",
      " lcf                                  vmtoolsd\n",
      " ld                                   vmware-checkvm\n",
      " ld.bfd                               vmware-hgfsclient\n",
      " ldd                                  vmware-namespace-cmd\n",
      " ld.gold                              vmware-rpctool\n",
      " less                                 vmware-toolbox-cmd\n",
      " lessecho                             vmware-vgauth-cmd\n",
      " lessfile                             vmware-vgauth-smoketest\n",
      " lesskey                              vmware-vmblock-fuse\n",
      " lesspipe                             vmware-xferlogs\n",
      " lexgrog                              volname\n",
      " libnetcfg                            vpe\n",
      " libwacom-list-local-devices          vptovf\n",
      " link                                 w\n",
      " linux32                              wall\n",
      " linux64                              watch\n",
      " linux-boot-prober                    watchgnupg\n",
      " linux-check-removal                  wc\n",
      " linux-update-symlinks                weave\n",
      " linux-version                        wget\n",
      " listres                              whatis\n",
      " lnstat                               whereis\n",
      " loadkeys                             which\n",
      " loadunimap                           who\n",
      " locale                               whoami\n",
      " locale-check                         wifi-status\n",
      " localectl                            wish\n",
      " localedef                            wish8.6\n",
      " locate                               wofm2opl\n",
      " logger                               wopl2ofm\n",
      " logname                              wovf2ovp\n",
      " look                                 wovp2ovf\n",
      " lorder                               w.procps\n",
      " lsattr                               write\n",
      " lsb_release                          X11\n",
      " lscpu                                x86_64\n",
      " lshw                                 x86_64-linux-gnu-addr2line\n",
      " lsinitramfs                          x86_64-linux-gnu-ar\n",
      " lsipc                                x86_64-linux-gnu-as\n",
      " lslocks                              x86_64-linux-gnu-c++filt\n",
      " lslogins                             x86_64-linux-gnu-cpp\n",
      " lsmem                                x86_64-linux-gnu-cpp-7\n",
      " lsns                                 x86_64-linux-gnu-dwp\n",
      " lsof                                 x86_64-linux-gnu-elfedit\n",
      " lspci                                x86_64-linux-gnu-g++\n",
      " lspgpot                              x86_64-linux-gnu-g++-7\n",
      " lsusb                                x86_64-linux-gnu-gcc\n",
      " ltrace                               x86_64-linux-gnu-gcc-7\n",
      " luajittex                            x86_64-linux-gnu-gcc-ar\n",
      " lualatex                             x86_64-linux-gnu-gcc-ar-7\n",
      " luatex                               x86_64-linux-gnu-gcc-nm\n",
      " luit                                 x86_64-linux-gnu-gcc-nm-7\n",
      " lwarpmk                              x86_64-linux-gnu-gcc-ranlib\n",
      " lwp-download                         x86_64-linux-gnu-gcc-ranlib-7\n",
      " lwp-dump                             x86_64-linux-gnu-gcov\n",
      " lwp-mirror                           x86_64-linux-gnu-gcov-7\n",
      " lwp-request                          x86_64-linux-gnu-gcov-dump\n",
      " lxc                                  x86_64-linux-gnu-gcov-dump-7\n",
      " lxcfs                                x86_64-linux-gnu-gcov-tool\n",
      " lxd                                  x86_64-linux-gnu-gcov-tool-7\n",
      " lxterm                               x86_64-linux-gnu-gold\n",
      " lzcat                                x86_64-linux-gnu-gprof\n",
      " lzcmp                                x86_64-linux-gnu-ld\n",
      " lzdiff                               x86_64-linux-gnu-ld.bfd\n",
      " lzegrep                              x86_64-linux-gnu-ld.gold\n",
      " lzfgrep                              x86_64-linux-gnu-nm\n",
      " lzgrep                               x86_64-linux-gnu-objcopy\n",
      " lzless                               x86_64-linux-gnu-objdump\n",
      " lzma                                 x86_64-linux-gnu-python3.6-config\n",
      " lzmainfo                             x86_64-linux-gnu-python3.6m-config\n",
      " lzmore                               x86_64-linux-gnu-python3.8-config\n",
      " mag                                  x86_64-linux-gnu-python3-config\n",
      " make                                 x86_64-linux-gnu-python3m-config\n",
      " makedtx                              x86_64-linux-gnu-ranlib\n",
      " make-first-existing-target           x86_64-linux-gnu-readelf\n",
      " makeglossaries                       x86_64-linux-gnu-size\n",
      " makeglossaries-lite                  x86_64-linux-gnu-strings\n",
      " makeindex                            x86_64-linux-gnu-strip\n",
      " makeinfo                             xargs\n",
      " makejvf                              xauth\n",
      " man                                  xclip\n",
      " mandb                                xclip-copyfile\n",
      " manifest                             xclip-cutfile\n",
      " manpath                              xclip-pastefile\n",
      " mapscrn                              xcmsdb\n",
      " mathspic                             xdelta3\n",
      " mawk                                 xdg-desktop-icon\n",
      " mcookie                              xdg-desktop-menu\n",
      " md5sum                               xdg-email\n",
      " md5sum.textutils                     xdg-icon-resource\n",
      " mdig                                 xdg-mime\n",
      " mendex                               xdg-open\n",
      " mesg                                 xdg-screensaver\n",
      " mf                                   xdg-settings\n",
      " mflua                                xdg-user-dir\n",
      " mfluajit                             xdg-user-dirs-update\n",
      " mfluajit-nowin                       xdpyinfo\n",
      " mflua-nowin                          xdriinfo\n",
      " mf-nowin                             xdvi\n",
      " mfplain                              xdvi.bin\n",
      " mft                                  xdvipdfmx\n",
      " migrate-pubring-from-classic-gpg     xdvi-xaw\n",
      " mimeopen                             xelatex\n",
      " mimetype                             xetex\n",
      " miniterm                             xev\n",
      " mk4ht                                xfd\n",
      " mkfifo                               xfontsel\n",
      " mkindex                              xgamma\n",
      " mk_modmap                            xhlatex\n",
      " mkocp                                xhost\n",
      " mkofm                                xkeystone\n",
      " mkpic                                xkill\n",
      " mksquashfs                           xlsatoms\n",
      " mktexfmt                             xlsclients\n",
      " mktexlsr                             xlsfonts\n",
      " mktexmf                              xmessage\n",
      " mktexpk                              xmodmap\n",
      " mktextfm                             xprop\n",
      " mlocate                              xrandr\n",
      " mokutil                              xrdb\n",
      " mpost                                xrefresh\n",
      " mptopdf                              xset\n",
      " msxlint                              xsetmode\n",
      " mtr                                  xsetpointer\n",
      " mtrace                               xsetroot\n",
      " mtr-packet                           xstdcmap\n",
      " myisamchk                            xsubpp\n",
      " myisam_ftdump                        xterm\n",
      " myisamlog                            x-terminal-emulator\n",
      " myisampack                           xvidtune\n",
      " my_print_defaults                    xvinfo\n",
      " mysql                                xwininfo\n",
      " mysqladmin                           xxd\n",
      " mysqlanalyze                         xz\n",
      " mysqlbinlog                          xzcat\n",
      " mysqlcheck                           xzcmp\n",
      " mysql_config_editor                  xzdiff\n",
      " mysqld_multi                         xzegrep\n",
      " mysqld_safe                          xzfgrep\n",
      " mysqldump                            xzgrep\n",
      " mysqldumpslow                        xzless\n",
      " mysql_embedded                       xzmore\n",
      " mysqlimport                          yes\n",
      " mysql_install_db                     yplan\n",
      " mysqloptimize                        zdump\n",
      " mysql_plugin                         zip\n",
      " mysqlpump                            zipcloak\n",
      " mysqlrepair                          zipdetails\n",
      " mysqlreport                          zipgrep\n",
      " mysql_secure_installation            zipinfo\n",
      " mysqlshow                            zipnote\n",
      " mysqlslap                            zipsplit\n",
      " mysql_ssl_rsa_setup                  zsh\n",
      " mysql_tzinfo_to_sql\n"
     ]
    }
   ],
   "source": [
    "ls"
   ]
  },
  {
   "cell_type": "code",
   "execution_count": null,
   "metadata": {},
   "outputs": [],
   "source": []
  }
 ],
 "metadata": {
  "kernelspec": {
   "display_name": "Bash",
   "language": "bash",
   "name": "bash"
  },
  "language_info": {
   "codemirror_mode": "shell",
   "file_extension": ".sh",
   "mimetype": "text/x-sh",
   "name": "bash"
  }
 },
 "nbformat": 4,
 "nbformat_minor": 4
}
