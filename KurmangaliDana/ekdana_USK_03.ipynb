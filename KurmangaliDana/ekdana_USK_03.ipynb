{
 "cells": [
  {
   "cell_type": "code",
   "execution_count": 2,
   "metadata": {},
   "outputs": [
    {
     "name": "stdout",
     "output_type": "stream",
     "text": [
      "/home/jupyter-ekdana/K.Dana\n"
     ]
    }
   ],
   "source": [
    "pwd"
   ]
  },
  {
   "cell_type": "code",
   "execution_count": 3,
   "metadata": {},
   "outputs": [
    {
     "name": "stdout",
     "output_type": "stream",
     "text": [
      "ekDana_USK_02.ipynb  ekdana_USK-CD.ipynb  resume.txt      untitled.svg\n",
      "ekdana_USK_cd.dio    hw-1.ipynb           Untitled.ipynb  USK-1.ipynb\n"
     ]
    }
   ],
   "source": [
    "ls"
   ]
  },
  {
   "cell_type": "code",
   "execution_count": 5,
   "metadata": {},
   "outputs": [
    {
     "name": "stdout",
     "output_type": "stream",
     "text": [
      "ekDana_USK_02.ipynb  hw-1.ipynb      USK-1.ipynb\n",
      "ekdana_USK-CD.ipynb  Untitled.ipynb\n"
     ]
    }
   ],
   "source": [
    "ls *.ipynb"
   ]
  },
  {
   "cell_type": "code",
   "execution_count": 12,
   "metadata": {},
   "outputs": [
    {
     "name": "stdout",
     "output_type": "stream",
     "text": [
      "hw-1\n"
     ]
    }
   ],
   "source": [
    "ls *w-1"
   ]
  },
  {
   "cell_type": "code",
   "execution_count": 13,
   "metadata": {},
   "outputs": [],
   "source": [
    "touch 1.jpg"
   ]
  },
  {
   "cell_type": "code",
   "execution_count": 14,
   "metadata": {},
   "outputs": [],
   "source": [
    "touch 1.png"
   ]
  },
  {
   "cell_type": "code",
   "execution_count": 15,
   "metadata": {},
   "outputs": [],
   "source": [
    "touch 2.dio"
   ]
  },
  {
   "cell_type": "code",
   "execution_count": 18,
   "metadata": {},
   "outputs": [
    {
     "name": "stdout",
     "output_type": "stream",
     "text": [
      "hw-1  hw-3\n"
     ]
    }
   ],
   "source": [
    "ls hw-?"
   ]
  },
  {
   "cell_type": "code",
   "execution_count": 19,
   "metadata": {},
   "outputs": [
    {
     "name": "stdout",
     "output_type": "stream",
     "text": [
      "2.dio\n"
     ]
    }
   ],
   "source": [
    "ls ?.dio"
   ]
  },
  {
   "cell_type": "code",
   "execution_count": 20,
   "metadata": {},
   "outputs": [
    {
     "name": "stdout",
     "output_type": "stream",
     "text": [
      "1.jpg  1.png\n"
     ]
    }
   ],
   "source": [
    "ls 1.[jp][pn]g"
   ]
  },
  {
   "cell_type": "code",
   "execution_count": 22,
   "metadata": {},
   "outputs": [
    {
     "name": "stdout",
     "output_type": "stream",
     "text": [
      "total 140\n",
      "drwxr-xr-x 3 jupyter-ekdana jupyter-ekdana  4096 Apr  3 23:43 .\n",
      "drwxr-x--- 8 jupyter-ekdana jupyter-ekdana  4096 Mar 28 12:22 ..\n",
      "-rw-r--r-- 1 jupyter-ekdana jupyter-ekdana     0 Apr  3 23:35 15.dio\n",
      "-rw-r--r-- 1 jupyter-ekdana jupyter-ekdana     0 Apr  3 23:37 1.jpg\n",
      "-rw-r--r-- 1 jupyter-ekdana jupyter-ekdana     0 Apr  3 23:37 1.png\n",
      "-rw-r--r-- 1 jupyter-ekdana jupyter-ekdana     0 Apr  3 23:37 2.dio\n",
      "-rw-r--r-- 1 jupyter-ekdana jupyter-ekdana  2190 Mar 28 17:00 ekDana_USK_02.ipynb\n",
      "-rw-r--r-- 1 jupyter-ekdana jupyter-ekdana   241 Apr  2 17:00 ekdana_USK_cd.dio\n",
      "-rw-r--r-- 1 jupyter-ekdana jupyter-ekdana 16883 Mar 31 15:33 ekdana_USK-CD.ipynb\n",
      "-rw-r--r-- 1 jupyter-ekdana jupyter-ekdana  4753 Mar 27 16:55 hw-1\n",
      "-rw-r--r-- 1 jupyter-ekdana jupyter-ekdana  2775 Apr  3 23:43 hw-3\n",
      "drwxr-xr-x 2 jupyter-ekdana jupyter-ekdana  4096 Apr  3 23:33 .ipynb_checkpoints\n",
      "-rw-r--r-- 1 jupyter-ekdana jupyter-ekdana   473 Mar 27 16:36 resume.txt\n",
      "-rw-r--r-- 1 jupyter-ekdana jupyter-ekdana 26396 Mar 31 19:45 untitled.svg\n",
      "-rw-r--r-- 1 jupyter-ekdana jupyter-ekdana 53384 Mar 31 16:57 USK-1.ipynb\n"
     ]
    }
   ],
   "source": [
    "ls -al"
   ]
  },
  {
   "cell_type": "code",
   "execution_count": 23,
   "metadata": {},
   "outputs": [
    {
     "name": "stdout",
     "output_type": "stream",
     "text": [
      "15.dio  2.dio                ekdana_USK-CD.ipynb  resume.txt\n",
      "1.jpg   ekDana_USK_02.ipynb  hw-1                 untitled.svg\n",
      "1.png   ekdana_USK_cd.dio    hw-3                 USK-1.ipynb\n"
     ]
    }
   ],
   "source": [
    "ls"
   ]
  },
  {
   "cell_type": "code",
   "execution_count": 24,
   "metadata": {},
   "outputs": [
    {
     "name": "stdout",
     "output_type": "stream",
     "text": [
      "-rw-r--r-- 1 jupyter-ekdana jupyter-ekdana 4753 Mar 27 16:55 hw-1\n"
     ]
    }
   ],
   "source": [
    "ls -l hw-1"
   ]
  },
  {
   "cell_type": "code",
   "execution_count": 25,
   "metadata": {},
   "outputs": [],
   "source": [
    "chmod u-w hw-1"
   ]
  },
  {
   "cell_type": "code",
   "execution_count": 26,
   "metadata": {},
   "outputs": [
    {
     "name": "stdout",
     "output_type": "stream",
     "text": [
      "-r--r--r-- 1 jupyter-ekdana jupyter-ekdana 4753 Mar 27 16:55 hw-1\n"
     ]
    }
   ],
   "source": [
    "ls -l hw-1"
   ]
  },
  {
   "cell_type": "code",
   "execution_count": 27,
   "metadata": {},
   "outputs": [],
   "source": [
    "chmod o+w hw-1"
   ]
  },
  {
   "cell_type": "code",
   "execution_count": 28,
   "metadata": {},
   "outputs": [
    {
     "name": "stdout",
     "output_type": "stream",
     "text": [
      "-r--r--rw- 1 jupyter-ekdana jupyter-ekdana 4753 Mar 27 16:55 hw-1\n"
     ]
    }
   ],
   "source": [
    "ls -l hw-1"
   ]
  },
  {
   "cell_type": "code",
   "execution_count": 29,
   "metadata": {},
   "outputs": [],
   "source": [
    "chmod o-w hw-1"
   ]
  },
  {
   "cell_type": "code",
   "execution_count": 30,
   "metadata": {},
   "outputs": [
    {
     "name": "stdout",
     "output_type": "stream",
     "text": [
      "-r--r--r-- 1 jupyter-ekdana jupyter-ekdana 4753 Mar 27 16:55 hw-1\n"
     ]
    }
   ],
   "source": [
    "ls -l hw-1"
   ]
  },
  {
   "cell_type": "code",
   "execution_count": 31,
   "metadata": {},
   "outputs": [],
   "source": [
    "chmod u+w hw-1"
   ]
  },
  {
   "cell_type": "code",
   "execution_count": 32,
   "metadata": {},
   "outputs": [
    {
     "name": "stdout",
     "output_type": "stream",
     "text": [
      "-rw-r--r-- 1 jupyter-ekdana jupyter-ekdana 4753 Mar 27 16:55 hw-1\n"
     ]
    }
   ],
   "source": [
    "ls -l hw-1"
   ]
  },
  {
   "cell_type": "code",
   "execution_count": 33,
   "metadata": {},
   "outputs": [],
   "source": [
    "chmod g+wrx 2.dio"
   ]
  },
  {
   "cell_type": "code",
   "execution_count": 35,
   "metadata": {},
   "outputs": [
    {
     "name": "stdout",
     "output_type": "stream",
     "text": [
      "-rw-rwxr-- 1 jupyter-ekdana jupyter-ekdana 0 Apr  3 23:37 2.dio\n"
     ]
    }
   ],
   "source": [
    "ls -l 2.dio"
   ]
  },
  {
   "cell_type": "code",
   "execution_count": 36,
   "metadata": {},
   "outputs": [],
   "source": [
    "chmod g-wrx 2.dio"
   ]
  },
  {
   "cell_type": "code",
   "execution_count": 37,
   "metadata": {},
   "outputs": [
    {
     "name": "stdout",
     "output_type": "stream",
     "text": [
      "-rw----r-- 1 jupyter-ekdana jupyter-ekdana 0 Apr  3 23:37 2.dio\n"
     ]
    }
   ],
   "source": [
    "ls -l 2.dio"
   ]
  },
  {
   "cell_type": "code",
   "execution_count": 38,
   "metadata": {},
   "outputs": [
    {
     "name": "stdout",
     "output_type": "stream",
     "text": [
      "2.dio                .ipynb_checkpoints  ekdana_USK_cd.dio    untitled.svg\n",
      "hw-1                 1.png               15.dio               .\n",
      "ekdana_USK-CD.ipynb  1.jpg               ekDana_USK_02.ipynb  USK-1.ipynb\n",
      "resume.txt           ..                  hw-3\n"
     ]
    }
   ],
   "source": [
    "ls -f"
   ]
  },
  {
   "cell_type": "code",
   "execution_count": 39,
   "metadata": {},
   "outputs": [
    {
     "name": "stdout",
     "output_type": "stream",
     "text": [
      "15.dio  2.dio                ekdana_USK-CD.ipynb  resume.txt\n",
      "1.jpg   ekDana_USK_02.ipynb  hw-1                 untitled.svg\n",
      "1.png   ekdana_USK_cd.dio    hw-3                 USK-1.ipynb\n"
     ]
    }
   ],
   "source": [
    "ls -F"
   ]
  },
  {
   "cell_type": "code",
   "execution_count": 40,
   "metadata": {},
   "outputs": [
    {
     "name": "stdout",
     "output_type": "stream",
     "text": [
      "total 136\n",
      "-rw-r--r-- 1 jupyter-ekdana jupyter-ekdana     0 Apr  3 23:35 15.dio\n",
      "-rw-r--r-- 1 jupyter-ekdana jupyter-ekdana     0 Apr  3 23:37 1.jpg\n",
      "-rw-r--r-- 1 jupyter-ekdana jupyter-ekdana     0 Apr  3 23:37 1.png\n",
      "-rw----r-- 1 jupyter-ekdana jupyter-ekdana     0 Apr  3 23:37 2.dio\n",
      "-rw-r--r-- 1 jupyter-ekdana jupyter-ekdana  2190 Mar 28 17:00 ekDana_USK_02.ipynb\n",
      "-rw-r--r-- 1 jupyter-ekdana jupyter-ekdana   241 Apr  2 17:00 ekdana_USK_cd.dio\n",
      "-rw-r--r-- 1 jupyter-ekdana jupyter-ekdana 16883 Mar 31 15:33 ekdana_USK-CD.ipynb\n",
      "-rw-r--r-- 1 jupyter-ekdana jupyter-ekdana  4753 Mar 27 16:55 hw-1\n",
      "-rw-r--r-- 1 jupyter-ekdana jupyter-ekdana  8545 Apr  3 23:51 hw-3\n",
      "-rw-r--r-- 1 jupyter-ekdana jupyter-ekdana   473 Mar 27 16:36 resume.txt\n",
      "-rw-r--r-- 1 jupyter-ekdana jupyter-ekdana 26396 Mar 31 19:45 untitled.svg\n",
      "-rw-r--r-- 1 jupyter-ekdana jupyter-ekdana 53384 Mar 31 16:57 USK-1.ipynb\n"
     ]
    }
   ],
   "source": [
    "ls -l"
   ]
  },
  {
   "cell_type": "code",
   "execution_count": 41,
   "metadata": {},
   "outputs": [
    {
     "name": "stdout",
     "output_type": "stream",
     "text": [
      "Fri Apr  3 23:51:57 UTC 2020\n"
     ]
    }
   ],
   "source": [
    "date"
   ]
  },
  {
   "cell_type": "code",
   "execution_count": null,
   "metadata": {},
   "outputs": [],
   "source": []
  }
 ],
 "metadata": {
  "kernelspec": {
   "display_name": "Bash",
   "language": "bash",
   "name": "bash"
  },
  "language_info": {
   "codemirror_mode": "shell",
   "file_extension": ".sh",
   "mimetype": "text/x-sh",
   "name": "bash"
  }
 },
 "nbformat": 4,
 "nbformat_minor": 4
}
